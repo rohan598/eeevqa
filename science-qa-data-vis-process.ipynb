{
 "cells": [
  {
   "cell_type": "markdown",
   "id": "f064f282",
   "metadata": {},
   "source": [
    "# Import modules"
   ]
  },
  {
   "cell_type": "code",
   "execution_count": 1,
   "id": "2969792c",
   "metadata": {},
   "outputs": [
    {
     "name": "stderr",
     "output_type": "stream",
     "text": [
      "/Users/rohanwadhawan/Desktop/UCLA/research/peng-lab/project/mm-cot/mmcot/lib/python3.10/site-packages/tqdm/auto.py:21: TqdmWarning: IProgress not found. Please update jupyter and ipywidgets. See https://ipywidgets.readthedocs.io/en/stable/user_install.html\n",
      "  from .autonotebook import tqdm as notebook_tqdm\n"
     ]
    }
   ],
   "source": [
    "import os\n",
    "import numpy as np\n",
    "import torch\n",
    "import os\n",
    "import re\n",
    "import json\n",
    "import argparse\n",
    "import pandas as pd\n",
    "import random\n",
    "from transformers import T5Tokenizer, DataCollatorForSeq2Seq, Seq2SeqTrainingArguments, Seq2SeqTrainer, T5ForConditionalGeneration\n",
    "from rich.table import Column, Table\n",
    "from rich import box\n",
    "from rich.console import Console\n",
    "console = Console(record=True)\n",
    "from torch import cuda\n",
    "import nltk\n",
    "import evaluate\n",
    "import imgkit\n",
    "from html2image import Html2Image\n",
    "import pdfkit\n",
    "from pdf2image import convert_from_path\n",
    "import glob, sys, fitz\n",
    "from PIL import Image, ImageDraw, ImageOps\n",
    "from torch.utils.data import Dataset, DataLoader\n",
    "from collections import namedtuple\n",
    "\n",
    "from PIL import Image\n",
    "import requests\n",
    "from transformers import AutoProcessor, Pix2StructForConditionalGeneration\n",
    "import pickle\n",
    "\n",
    "import matplotlib.pyplot as plt\n",
    "from rouge import Rouge"
   ]
  },
  {
   "cell_type": "markdown",
   "id": "577830fc",
   "metadata": {},
   "source": [
    "# Data visualization"
   ]
  },
  {
   "cell_type": "code",
   "execution_count": 2,
   "id": "dba28e9c",
   "metadata": {},
   "outputs": [],
   "source": [
    "def read_captions():\n",
    "    captions_dict = dict(pd.read_json(os.path.join(os.getcwd(), \"data\", \"captions.json\"))[\"captions\"])\n",
    "    return captions_dict"
   ]
  },
  {
   "cell_type": "code",
   "execution_count": 3,
   "id": "b28f5352",
   "metadata": {},
   "outputs": [],
   "source": [
    "captions_dict = read_captions()"
   ]
  },
  {
   "cell_type": "code",
   "execution_count": 4,
   "id": "bf6a1fae",
   "metadata": {},
   "outputs": [],
   "source": [
    "def read_problem_list(captions_dict = None):\n",
    "    \n",
    "    problem_list = pd.read_json(os.path.join(os.getcwd(), \"data\", \"scienceqa\", \"problems.json\"))\n",
    "    return problem_list"
   ]
  },
  {
   "cell_type": "code",
   "execution_count": 5,
   "id": "f9501d4b",
   "metadata": {},
   "outputs": [],
   "source": [
    "problem_list = read_problem_list(captions_dict)"
   ]
  },
  {
   "cell_type": "code",
   "execution_count": 6,
   "id": "b84128eb",
   "metadata": {},
   "outputs": [
    {
     "data": {
      "text/plain": [
       "Int64Index([    1,     2,     3,     4,     5,     6,     7,     8,     9,\n",
       "               10,\n",
       "            ...\n",
       "            21199, 21200, 21201, 21202, 21203, 21204, 21205, 21206, 21207,\n",
       "            21208],\n",
       "           dtype='int64', length=21208)"
      ]
     },
     "execution_count": 6,
     "metadata": {},
     "output_type": "execute_result"
    }
   ],
   "source": [
    "problem_list.keys()"
   ]
  },
  {
   "cell_type": "code",
   "execution_count": 7,
   "id": "d94f9c53",
   "metadata": {},
   "outputs": [
    {
     "name": "stdout",
     "output_type": "stream",
     "text": [
      "image.png\n"
     ]
    }
   ],
   "source": [
    "print(problem_list[1][\"image\"])"
   ]
  },
  {
   "cell_type": "code",
   "execution_count": 8,
   "id": "4915ee99",
   "metadata": {},
   "outputs": [
    {
     "name": "stdout",
     "output_type": "stream",
     "text": [
      "train\n"
     ]
    }
   ],
   "source": [
    "print(problem_list[1][\"split\"])"
   ]
  },
  {
   "cell_type": "code",
   "execution_count": 9,
   "id": "c45ad588",
   "metadata": {},
   "outputs": [
    {
     "name": "stdout",
     "output_type": "stream",
     "text": [
      "closed choice\n"
     ]
    }
   ],
   "source": [
    "print(problem_list[1][\"task\"])"
   ]
  },
  {
   "cell_type": "code",
   "execution_count": 10,
   "id": "70df03d6",
   "metadata": {},
   "outputs": [
    {
     "name": "stdout",
     "output_type": "stream",
     "text": [
      "The passage below describes an experiment. Read the passage and then follow the instructions below.\n",
      "\n",
      "Tom placed a ping pong ball in a catapult, pulled the catapult's arm back to a 45° angle, and launched the ball. Then, Tom launched another ping pong ball, this time pulling the catapult's arm back to a 30° angle. With each launch, his friend Justin measured the distance between the catapult and the place where the ball hit the ground. Tom and Justin repeated the launches with ping pong balls in four more identical catapults. They compared the distances the balls traveled when launched from a 45° angle to the distances the balls traveled when launched from a 30° angle.\n",
      "Figure: a catapult for launching ping pong balls.\n"
     ]
    }
   ],
   "source": [
    "print(problem_list[2][\"hint\"])"
   ]
  },
  {
   "cell_type": "code",
   "execution_count": 11,
   "id": "1abdbdb2",
   "metadata": {},
   "outputs": [
    {
     "data": {
      "text/plain": [
       "21208"
      ]
     },
     "execution_count": 11,
     "metadata": {},
     "output_type": "execute_result"
    }
   ],
   "source": [
    "len(problem_list.keys())"
   ]
  },
  {
   "cell_type": "code",
   "execution_count": 12,
   "id": "c2e6ad1b",
   "metadata": {},
   "outputs": [
    {
     "name": "stdout",
     "output_type": "stream",
     "text": [
      "[2 3 4 5]\n"
     ]
    }
   ],
   "source": [
    "choice_len = []\n",
    "for i in range(len(problem_list.keys())):\n",
    "    choice_len.append(len(problem_list[i+1][\"choices\"]))\n",
    "print(np.unique(choice_len))\n",
    "#     print(problem_list[i+1][\"choices\"])"
   ]
  },
  {
   "cell_type": "code",
   "execution_count": 13,
   "id": "7da75ad9",
   "metadata": {},
   "outputs": [
    {
     "name": "stdout",
     "output_type": "stream",
     "text": [
      "0\n"
     ]
    }
   ],
   "source": [
    "print(problem_list[1][\"answer\"])"
   ]
  },
  {
   "cell_type": "code",
   "execution_count": 14,
   "id": "a53a6010",
   "metadata": {},
   "outputs": [
    {
     "name": "stdout",
     "output_type": "stream",
     "text": [
      "To find the answer, look at the compass rose. Look at which way the north arrow is pointing. West Virginia is farthest north.\n"
     ]
    }
   ],
   "source": [
    "print(problem_list[1][\"solution\"])"
   ]
  },
  {
   "cell_type": "code",
   "execution_count": 15,
   "id": "aadb835b",
   "metadata": {},
   "outputs": [
    {
     "name": "stdout",
     "output_type": "stream",
     "text": [
      "60\n"
     ]
    }
   ],
   "source": [
    "print(len((problem_list[1][\"lecture\"]).split(\" \")))"
   ]
  },
  {
   "cell_type": "code",
   "execution_count": 16,
   "id": "42b92482",
   "metadata": {},
   "outputs": [],
   "source": [
    "def get_datastats(df,  idx_list = None):\n",
    "    question_len = {\n",
    "        \"min\":10000,\n",
    "        \"max\":0,\n",
    "        \"avg\":0.0\n",
    "    }\n",
    "    lecture_len = {\n",
    "        \"min\":10000,\n",
    "        \"max\":0,\n",
    "        \"avg\":0.0\n",
    "    }\n",
    "    solution_len = {\n",
    "        \"min\":10000,\n",
    "        \"max\":0,\n",
    "        \"avg\":0.0\n",
    "    }\n",
    "    img_cnt = 0\n",
    "    \n",
    "    if idx_list is None:\n",
    "        iterate_list = df.keys().values\n",
    "    else:\n",
    "        iterate_list = idx_list\n",
    "    \n",
    "    for i in iterate_list:\n",
    "        qlen = len(df[i][\"question\"].split(\" \"))\n",
    "        llen = len(df[i][\"lecture\"].split(\" \"))\n",
    "        slen = len(df[i][\"solution\"].split(\" \"))\n",
    "\n",
    "        #check min, max and avg length of question\n",
    "        if qlen < question_len[\"min\"]:\n",
    "            question_len[\"min\"] = qlen\n",
    "        if qlen > question_len[\"max\"]:\n",
    "            question_len[\"max\"] = qlen\n",
    "        question_len[\"avg\"]+= qlen\n",
    "\n",
    "        #check min, max and avg length of lecture\n",
    "        if llen < lecture_len[\"min\"]:\n",
    "            lecture_len[\"min\"] = llen\n",
    "        if llen > lecture_len[\"max\"]:\n",
    "            lecture_len[\"max\"] = llen\n",
    "        lecture_len[\"avg\"]+= llen\n",
    "\n",
    "        #check min, max and avg length of rationale / solution\n",
    "        if slen < solution_len[\"min\"]:\n",
    "            solution_len[\"min\"] = slen\n",
    "        if slen > solution_len[\"max\"]:\n",
    "            solution_len[\"max\"] = slen\n",
    "        solution_len[\"avg\"]+= slen\n",
    "\n",
    "        #check # questions with images\n",
    "        if df[i][\"image\"] is not None:\n",
    "            img_cnt+=1\n",
    "\n",
    "    question_len[\"avg\"]/= len(df.keys().values)\n",
    "    lecture_len[\"avg\"]/= len(df.keys().values)\n",
    "    solution_len[\"avg\"]/= len(df.keys().values)\n",
    "\n",
    "    # printing stats\n",
    "    print(f\"Question min len {question_len['min']} - max len {question_len['max']} - avg len {question_len['avg']}\")\n",
    "    print(f\"Lecture min len {lecture_len['min']} - max len {lecture_len['max']} - avg len {lecture_len['avg']}\")\n",
    "    print(f\"Solution min len {solution_len['min']} - max len {solution_len['max']} - avg len {solution_len['avg']}\")\n",
    "    print(f\"Samples with images {img_cnt} out of a total of {len(iterate_list)}\")\n",
    "    \n"
   ]
  },
  {
   "cell_type": "code",
   "execution_count": 17,
   "id": "4a8c74e2",
   "metadata": {},
   "outputs": [
    {
     "name": "stdout",
     "output_type": "stream",
     "text": [
      "Question min len 3 - max len 140 - avg len 11.8439268200679\n",
      "Lecture min len 1 - max len 469 - avg len 101.15668615616748\n",
      "Solution min len 1 - max len 429 - avg len 41.78135609204074\n",
      "Samples with images 10332 out of a total of 21208\n"
     ]
    }
   ],
   "source": [
    "get_datastats(problem_list)"
   ]
  },
  {
   "cell_type": "markdown",
   "id": "fa1e9139",
   "metadata": {},
   "source": [
    "# Get specific data split data frames"
   ]
  },
  {
   "cell_type": "code",
   "execution_count": 18,
   "id": "0de1ea94",
   "metadata": {},
   "outputs": [],
   "source": [
    "def read_pid_splits():\n",
    "    with open(os.path.join(os.getcwd(), \"data\", \"scienceqa\", \"pid_splits.json\")) as json_file:\n",
    "        data = json.load(json_file)\n",
    "    return data"
   ]
  },
  {
   "cell_type": "code",
   "execution_count": 19,
   "id": "6d4870a2",
   "metadata": {},
   "outputs": [],
   "source": [
    "pid_splits = read_pid_splits()"
   ]
  },
  {
   "cell_type": "code",
   "execution_count": 20,
   "id": "7f51c686",
   "metadata": {},
   "outputs": [
    {
     "name": "stdout",
     "output_type": "stream",
     "text": [
      "dict_keys(['train', 'val', 'test', 'trainval', 'minitrain', 'minival', 'minitest'])\n"
     ]
    }
   ],
   "source": [
    "print(pid_splits.keys())"
   ]
  },
  {
   "cell_type": "code",
   "execution_count": 21,
   "id": "787ad1d5",
   "metadata": {},
   "outputs": [],
   "source": [
    "def get_specific_split(pid_splits, split_name=\"train\"):\n",
    "    return [int(i) for i in pid_splits[split_name]]"
   ]
  },
  {
   "cell_type": "code",
   "execution_count": 22,
   "id": "37d31690",
   "metadata": {},
   "outputs": [],
   "source": [
    "train_split = get_specific_split(pid_splits, split_name = \"train\")"
   ]
  },
  {
   "cell_type": "code",
   "execution_count": 23,
   "id": "cdfa2ae5",
   "metadata": {},
   "outputs": [
    {
     "name": "stdout",
     "output_type": "stream",
     "text": [
      "Question min len 3 - max len 140 - avg len 7.16375895888344\n",
      "Lecture min len 1 - max len 469 - avg len 60.77404752923425\n",
      "Solution min len 1 - max len 429 - avg len 25.29644473783478\n",
      "Samples with images 6218 out of a total of 12726\n"
     ]
    }
   ],
   "source": [
    "get_datastats(problem_list, train_split)"
   ]
  },
  {
   "cell_type": "code",
   "execution_count": 24,
   "id": "c08b4ca5",
   "metadata": {},
   "outputs": [],
   "source": [
    "def get_datastats_all_split(problem_list, pid_splits):\n",
    "    for split in pid_splits.keys():\n",
    "        print(f\"----- Printing stats for split {split} -----\")\n",
    "        get_datastats(problem_list, get_specific_split(pid_splits, split_name = split))\n",
    "        print(f\"\\n-----  -----\\n\")"
   ]
  },
  {
   "cell_type": "code",
   "execution_count": 25,
   "id": "5bad936b",
   "metadata": {},
   "outputs": [
    {
     "name": "stdout",
     "output_type": "stream",
     "text": [
      "----- Printing stats for split train -----\n",
      "Question min len 3 - max len 140 - avg len 7.16375895888344\n",
      "Lecture min len 1 - max len 469 - avg len 60.77404752923425\n",
      "Solution min len 1 - max len 429 - avg len 25.29644473783478\n",
      "Samples with images 6218 out of a total of 12726\n",
      "\n",
      "-----  -----\n",
      "\n",
      "----- Printing stats for split val -----\n",
      "Question min len 3 - max len 134 - avg len 2.2984251225952472\n",
      "Lecture min len 1 - max len 469 - avg len 20.132497170878914\n",
      "Solution min len 1 - max len 369 - avg len 8.268153526970954\n",
      "Samples with images 2097 out of a total of 4241\n",
      "\n",
      "-----  -----\n",
      "\n",
      "----- Printing stats for split test -----\n",
      "Question min len 3 - max len 120 - avg len 2.3817427385892116\n",
      "Lecture min len 1 - max len 469 - avg len 20.25014145605432\n",
      "Solution min len 1 - max len 337 - avg len 8.216757827235005\n",
      "Samples with images 2017 out of a total of 4241\n",
      "\n",
      "-----  -----\n",
      "\n",
      "----- Printing stats for split trainval -----\n",
      "Question min len 3 - max len 140 - avg len 9.462184081478688\n",
      "Lecture min len 1 - max len 469 - avg len 80.90654470011316\n",
      "Solution min len 1 - max len 429 - avg len 33.56459826480573\n",
      "Samples with images 8315 out of a total of 16967\n",
      "\n",
      "-----  -----\n",
      "\n",
      "----- Printing stats for split minitrain -----\n",
      "Question min len 3 - max len 113 - avg len 0.6983685401735195\n",
      "Lecture min len 1 - max len 469 - avg len 5.819124858543946\n",
      "Solution min len 1 - max len 394 - avg len 2.4449735948698605\n",
      "Samples with images 649 out of a total of 1272\n",
      "\n",
      "-----  -----\n",
      "\n",
      "----- Printing stats for split minival -----\n",
      "Question min len 3 - max len 48 - avg len 0.2245850622406639\n",
      "Lecture min len 1 - max len 459 - avg len 2.1761127876273103\n",
      "Solution min len 1 - max len 232 - avg len 0.796397585816673\n",
      "Samples with images 201 out of a total of 424\n",
      "\n",
      "-----  -----\n",
      "\n",
      "----- Printing stats for split minitest -----\n",
      "Question min len 3 - max len 101 - avg len 0.2349585062240664\n",
      "Lecture min len 1 - max len 469 - avg len 2.045926065635609\n",
      "Solution min len 1 - max len 227 - avg len 0.8417578272350057\n",
      "Samples with images 204 out of a total of 424\n",
      "\n",
      "-----  -----\n",
      "\n"
     ]
    }
   ],
   "source": [
    "get_datastats_all_split(problem_list, pid_splits)"
   ]
  },
  {
   "cell_type": "markdown",
   "id": "6538ac76",
   "metadata": {},
   "source": [
    "# Prepare HTML - JPEG content"
   ]
  },
  {
   "cell_type": "code",
   "execution_count": 26,
   "id": "8ca589dc",
   "metadata": {},
   "outputs": [],
   "source": [
    "def create_question_tag():\n",
    "    question_tag = \"<h2>{question_content}</h2>\"\n",
    "    return question_tag"
   ]
  },
  {
   "cell_type": "code",
   "execution_count": 27,
   "id": "e220920b",
   "metadata": {},
   "outputs": [],
   "source": [
    "def create_choice_tag():\n",
    "    choice_tag = \"<h3>{choice_content}</h3>\"\n",
    "    return choice_tag"
   ]
  },
  {
   "cell_type": "code",
   "execution_count": 28,
   "id": "809a1af8",
   "metadata": {},
   "outputs": [],
   "source": [
    "def create_img_tag():\n",
    "    img_tag = '<img src=\"{img_source}\">'\n",
    "    return img_tag"
   ]
  },
  {
   "cell_type": "code",
   "execution_count": 29,
   "id": "d77377ec",
   "metadata": {},
   "outputs": [],
   "source": [
    "def create_context_tag():\n",
    "    context_tag = \"<p>{context_content}</p>\"\n",
    "    return context_tag"
   ]
  },
  {
   "cell_type": "code",
   "execution_count": 30,
   "id": "fe4541a4",
   "metadata": {},
   "outputs": [],
   "source": [
    "def create_lecture_tag():\n",
    "    lecture_tag = \"<p>{lecture_content}</p>\"\n",
    "    return lecture_tag"
   ]
  },
  {
   "cell_type": "code",
   "execution_count": 31,
   "id": "712b4fa5",
   "metadata": {},
   "outputs": [],
   "source": [
    "def create_html_template_modular():\n",
    "    html_template = \\\n",
    "        '''\n",
    "            <html>\n",
    "                <body style=\"background-color:white;\">\n",
    "                    {question_tag}\n",
    "                    {choice_tag}\n",
    "                    {img_tag}\n",
    "                    {context_tag}\n",
    "                    {lecture_tag}\n",
    "                </body>\n",
    "            </html>\n",
    "        '''\n",
    "    return html_template"
   ]
  },
  {
   "cell_type": "code",
   "execution_count": 32,
   "id": "d3b22a1e",
   "metadata": {},
   "outputs": [],
   "source": [
    "options = [\"A\", \"B\", \"C\", \"D\", \"E\"]"
   ]
  },
  {
   "cell_type": "code",
   "execution_count": 33,
   "id": "a53264af",
   "metadata": {},
   "outputs": [],
   "source": [
    "def get_choice_text(problem, options, verbose = False):\n",
    "    choices = problem['choices']\n",
    "    choice_list = []\n",
    "    for i, c in enumerate(choices):\n",
    "        choice_list.append(\"({}) {}\".format(options[i], c))\n",
    "    choice_txt = \" \".join(choice_list)\n",
    "    if verbose:\n",
    "        print(choice_txt)\n",
    "    \n",
    "    return choice_txt"
   ]
  },
  {
   "cell_type": "code",
   "execution_count": 34,
   "id": "cce9c1c3",
   "metadata": {},
   "outputs": [],
   "source": [
    "choice_txt = get_choice_text(problem_list[1], options)"
   ]
  },
  {
   "cell_type": "code",
   "execution_count": 39,
   "id": "f385c57b",
   "metadata": {},
   "outputs": [],
   "source": [
    "def create_html_file_modular(params, df, sample_num=None):\n",
    "\n",
    "    # create individual tags\n",
    "    \n",
    "    # Question\n",
    "    if params[\"set_question_as_header\"] == False:\n",
    "        question_tag = create_question_tag().format(question_content = df[sample_num][\"question\"])\n",
    "        \n",
    "    else:\n",
    "        question_tag = \"\"\n",
    "        \n",
    "    # Choices\n",
    "    if params[\"set_question_as_header\"] == False:\n",
    "        choice_tag = create_choice_tag().format(choice_content = get_choice_text(df[sample_num], options))\n",
    "        \n",
    "    else:\n",
    "        choice_tag = \"\"\n",
    "        \n",
    "    # Image source\n",
    "    if df[sample_num][\"image\"] is not None:\n",
    "        img_tag = create_img_tag().format(img_source = os.path.join(os.getcwd(), \"data\", df[sample_num][\"split\"], \\\n",
    "                              str(sample_num), df[sample_num]['image']))\n",
    "    else:\n",
    "        img_tag = \"\"\n",
    "\n",
    "    # Context\n",
    "    if df[sample_num][\"hint\"] is not None and params[\"skip_text_context\"] == False:\n",
    "        context_tag = create_context_tag().format(context_content = df[sample_num][\"hint\"])    \n",
    "    else:\n",
    "        context_tag = \"\"\n",
    "\n",
    "\n",
    "    # Lecture\n",
    "    if df[sample_num][\"lecture\"] is not None and params[\"skip_lecture\"] == False:\n",
    "        lecture_tag = create_lecture_tag().format(lecture_content = df[sample_num]['lecture']) \n",
    "\n",
    "    else:\n",
    "        lecture_tag = \"\"\n",
    "    \n",
    "    # compose tags to html\n",
    "    final_html_file = create_html_template_modular().format(question_tag = question_tag, choice_tag = choice_tag, \\\n",
    "                                          img_tag = img_tag, context_tag = context_tag, \\\n",
    "                                          lecture_tag = lecture_tag)\n",
    "    \n",
    "    return final_html_file\n"
   ]
  },
  {
   "cell_type": "code",
   "execution_count": 49,
   "id": "61bab218",
   "metadata": {},
   "outputs": [],
   "source": [
    "params = {\n",
    "    \"set_question_as_header\": False,\n",
    "    \"skip_text_context\":True,\n",
    "    \"skip_lecture\":True\n",
    "}"
   ]
  },
  {
   "cell_type": "code",
   "execution_count": 50,
   "id": "f477024f",
   "metadata": {},
   "outputs": [],
   "source": [
    "test_html_file = create_html_file_modular(params, problem_list, sample_num=1)"
   ]
  },
  {
   "cell_type": "code",
   "execution_count": 51,
   "id": "c2005520",
   "metadata": {},
   "outputs": [
    {
     "name": "stdout",
     "output_type": "stream",
     "text": [
      "\n",
      "            <html>\n",
      "                <body style=\"background-color:white;\">\n",
      "                    <h2>Which of these states is farthest north?</h2>\n",
      "                    <h3>(A) West Virginia (B) Louisiana (C) Arizona (D) Oklahoma</h3>\n",
      "                    <img src=\"/Users/rohanwadhawan/Desktop/UCLA/research/peng-lab/document-vqa/data/train/1/image.png\">\n",
      "                    \n",
      "                    \n",
      "                </body>\n",
      "            </html>\n",
      "        \n"
     ]
    }
   ],
   "source": [
    "print(test_html_file)"
   ]
  },
  {
   "cell_type": "code",
   "execution_count": 46,
   "id": "2bc7e3c4",
   "metadata": {},
   "outputs": [],
   "source": [
    "def create_html_template(choice = None):\n",
    "    if choice is not None:\n",
    "        html_template = \\\n",
    "        '''\n",
    "            <html>\n",
    "                <img src=\"{img_source}\">\n",
    "                <p>\n",
    "                    {context}\n",
    "                </p>\n",
    "                <p>\n",
    "                    {lecture}\n",
    "                </p>\n",
    "            </html>\n",
    "        '''\n",
    "    else:\n",
    "        html_template = \\\n",
    "        '''\n",
    "            <html>\n",
    "                <p>\n",
    "                    {context}\n",
    "                </p>\n",
    "                <p>\n",
    "                    {lecture}\n",
    "                </p>\n",
    "            </html>\n",
    "        '''\n",
    "    return html_template"
   ]
  },
  {
   "cell_type": "code",
   "execution_count": 47,
   "id": "60223522",
   "metadata": {},
   "outputs": [
    {
     "name": "stdout",
     "output_type": "stream",
     "text": [
      "\n",
      "            <html>\n",
      "                <img src=\"{img_source}\">\n",
      "                <p>\n",
      "                    {context}\n",
      "                </p>\n",
      "                <p>\n",
      "                    {lecture}\n",
      "                </p>\n",
      "            </html>\n",
      "        \n"
     ]
    }
   ],
   "source": [
    "html_template = create_html_template(choice=\"img\")\n",
    "print(html_template)"
   ]
  },
  {
   "cell_type": "code",
   "execution_count": 48,
   "id": "8b5e3116",
   "metadata": {},
   "outputs": [],
   "source": [
    "def create_html_file(html_template, df, sample_num=None):\n",
    "\n",
    "    # Image source\n",
    "    img_source = os.path.join(os.getcwd(), \"data\", df[sample_num][\"split\"], \\\n",
    "                              str(sample_num), df[sample_num]['image']) \\\n",
    "                            if df[sample_num][\"image\"] is not None else \"\"\n",
    "\n",
    "    # Context\n",
    "    context = df[sample_num][\"hint\"] if df[sample_num][\"hint\"] is not None else \"\"\n",
    "\n",
    "    # Lecture\n",
    "    lecture = df[sample_num][\"lecture\"] if df[sample_num][\"lecture\"] is not None else \"\"\n",
    "\n",
    "    final_html_file = html_template.format(img_source = img_source, context = context, lecture = lecture)\n",
    "    return final_html_file\n"
   ]
  },
  {
   "cell_type": "code",
   "execution_count": 52,
   "id": "4fd8a992",
   "metadata": {},
   "outputs": [
    {
     "data": {
      "text/html": [
       "<pre style=\"white-space:pre;overflow-x:auto;line-height:normal;font-family:Menlo,'DejaVu Sans Mono',consolas,'Courier New',monospace\"><span style=\"color: #800000; text-decoration-color: #800000\">╭─────────────────────────────── </span><span style=\"color: #800000; text-decoration-color: #800000; font-weight: bold\">Traceback </span><span style=\"color: #bf7f7f; text-decoration-color: #bf7f7f; font-weight: bold\">(most recent call last)</span><span style=\"color: #800000; text-decoration-color: #800000\"> ────────────────────────────────╮</span>\n",
       "<span style=\"color: #800000; text-decoration-color: #800000\">│</span> in <span style=\"color: #00ff00; text-decoration-color: #00ff00\">&lt;module&gt;</span>:<span style=\"color: #0000ff; text-decoration-color: #0000ff\">1</span>                                                                                    <span style=\"color: #800000; text-decoration-color: #800000\">│</span>\n",
       "<span style=\"color: #800000; text-decoration-color: #800000\">│</span>                                                                                                  <span style=\"color: #800000; text-decoration-color: #800000\">│</span>\n",
       "<span style=\"color: #800000; text-decoration-color: #800000\">│</span> <span style=\"color: #800000; text-decoration-color: #800000\">❱ </span>1 final_html_file = create_html_file(test_html_template, problem_list, sample_num=<span style=\"color: #0000ff; text-decoration-color: #0000ff\">1</span>)           <span style=\"color: #800000; text-decoration-color: #800000\">│</span>\n",
       "<span style=\"color: #800000; text-decoration-color: #800000\">│</span>   <span style=\"color: #7f7f7f; text-decoration-color: #7f7f7f\">2 </span><span style=\"color: #00ffff; text-decoration-color: #00ffff\">print</span>(final_html_file)                                                                       <span style=\"color: #800000; text-decoration-color: #800000\">│</span>\n",
       "<span style=\"color: #800000; text-decoration-color: #800000\">│</span>   <span style=\"color: #7f7f7f; text-decoration-color: #7f7f7f\">3 </span>                                                                                             <span style=\"color: #800000; text-decoration-color: #800000\">│</span>\n",
       "<span style=\"color: #800000; text-decoration-color: #800000\">╰──────────────────────────────────────────────────────────────────────────────────────────────────╯</span>\n",
       "<span style=\"color: #ff0000; text-decoration-color: #ff0000; font-weight: bold\">NameError: </span>name <span style=\"color: #008000; text-decoration-color: #008000\">'test_html_template'</span> is not defined\n",
       "</pre>\n"
      ],
      "text/plain": [
       "\u001b[31m╭─\u001b[0m\u001b[31m──────────────────────────────\u001b[0m\u001b[31m \u001b[0m\u001b[1;31mTraceback \u001b[0m\u001b[1;2;31m(most recent call last)\u001b[0m\u001b[31m \u001b[0m\u001b[31m───────────────────────────────\u001b[0m\u001b[31m─╮\u001b[0m\n",
       "\u001b[31m│\u001b[0m in \u001b[92m<module>\u001b[0m:\u001b[94m1\u001b[0m                                                                                    \u001b[31m│\u001b[0m\n",
       "\u001b[31m│\u001b[0m                                                                                                  \u001b[31m│\u001b[0m\n",
       "\u001b[31m│\u001b[0m \u001b[31m❱ \u001b[0m1 final_html_file = create_html_file(test_html_template, problem_list, sample_num=\u001b[94m1\u001b[0m)           \u001b[31m│\u001b[0m\n",
       "\u001b[31m│\u001b[0m   \u001b[2m2 \u001b[0m\u001b[96mprint\u001b[0m(final_html_file)                                                                       \u001b[31m│\u001b[0m\n",
       "\u001b[31m│\u001b[0m   \u001b[2m3 \u001b[0m                                                                                             \u001b[31m│\u001b[0m\n",
       "\u001b[31m╰──────────────────────────────────────────────────────────────────────────────────────────────────╯\u001b[0m\n",
       "\u001b[1;91mNameError: \u001b[0mname \u001b[32m'test_html_template'\u001b[0m is not defined\n"
      ]
     },
     "metadata": {},
     "output_type": "display_data"
    }
   ],
   "source": [
    "final_html_file = create_html_file(test_html_template, problem_list, sample_num=1)\n",
    "print(final_html_file)"
   ]
  },
  {
   "cell_type": "code",
   "execution_count": 53,
   "id": "76fdae17",
   "metadata": {},
   "outputs": [],
   "source": [
    "def save_html_file(html_file, source, img_num, save_dir=\"\"):\n",
    "    with open(os.path.join(save_dir, f\"{source}_{img_num}.html\"), \"w\") as f:\n",
    "        f.writelines(html_file)"
   ]
  },
  {
   "cell_type": "code",
   "execution_count": 54,
   "id": "f09ca090",
   "metadata": {},
   "outputs": [],
   "source": [
    "save_html_file(test_html_file, source = problem_list[1][\"split\"], img_num=1, \\\n",
    "               save_dir=os.path.join(os.getcwd(), \"data\", \"html_files\"))"
   ]
  },
  {
   "cell_type": "markdown",
   "id": "79609616",
   "metadata": {},
   "source": [
    "## Convert to PDF using wkhtmltopdf and pdfkit"
   ]
  },
  {
   "cell_type": "code",
   "execution_count": 55,
   "id": "589457f5",
   "metadata": {},
   "outputs": [],
   "source": [
    "test_html_filename = os.path.join(os.getcwd(), \"data\", \"html_files\",f\"{problem_list[1]['split']}_{1}\")\n",
    "test_pdf_filename = os.path.join(os.getcwd(), \"data\", \"html_files\",f\"{problem_list[1]['split']}_{1}\")"
   ]
  },
  {
   "cell_type": "code",
   "execution_count": 56,
   "id": "e0817aa4",
   "metadata": {},
   "outputs": [],
   "source": [
    "def convert_html_to_pdf(path_to_inputfile, path_to_outputfile):\n",
    "    pdfkit.from_file(f'{path_to_inputfile}.html', f'{path_to_outputfile}.pdf')"
   ]
  },
  {
   "cell_type": "code",
   "execution_count": 57,
   "id": "cb9fcac3",
   "metadata": {},
   "outputs": [],
   "source": [
    "convert_html_to_pdf(test_html_filename, test_pdf_filename)"
   ]
  },
  {
   "cell_type": "markdown",
   "id": "a3e074a0",
   "metadata": {},
   "source": [
    "## Convert PDF to image "
   ]
  },
  {
   "cell_type": "code",
   "execution_count": 58,
   "id": "b90722c9",
   "metadata": {},
   "outputs": [],
   "source": [
    "test_pdf_filename = os.path.join(os.getcwd(), \"data\", \"html_files\",f\"{problem_list[1]['split']}_{1}\")\n",
    "test_image_filename = os.path.join(os.getcwd(), \"data\", \"html_files\",f\"{problem_list[1]['split']}_{1}\")"
   ]
  },
  {
   "cell_type": "code",
   "execution_count": 59,
   "id": "e96f3800",
   "metadata": {},
   "outputs": [],
   "source": [
    "def convert_pdf_to_image(path_to_inputfile, path_to_outputfile):\n",
    "    \n",
    "    # To get better resolution\n",
    "    zoom_x = 1.0  # horizontal zoom\n",
    "    zoom_y = 1.0  # vertical zoom\n",
    "    mat = fitz.Matrix(zoom_x, zoom_y)  # zoom factor 2 in each dimension\n",
    "\n",
    "    filename = f\"{path_to_inputfile}.pdf\"\n",
    "    doc = fitz.open(filename)  # open document\n",
    "    for page in doc:  # iterate through the pages\n",
    "        pix = page.get_pixmap(matrix=mat)  # render page to an image\n",
    "        pix.save(f\"{path_to_outputfile}.jpg\")  # store image as JPG"
   ]
  },
  {
   "cell_type": "code",
   "execution_count": 60,
   "id": "c55b513a",
   "metadata": {},
   "outputs": [],
   "source": [
    "convert_pdf_to_image(test_pdf_filename, test_image_filename)"
   ]
  },
  {
   "cell_type": "markdown",
   "id": "b1d4abe3",
   "metadata": {},
   "source": [
    "## Crop whitespace from image"
   ]
  },
  {
   "cell_type": "code",
   "execution_count": 61,
   "id": "69010b34",
   "metadata": {},
   "outputs": [],
   "source": [
    "def remove_white_space(filename, padding = 30, visualize = False):\n",
    "    \n",
    "    # Open input image\n",
    "    im = Image.open(filename)\n",
    "    \n",
    "    # Get bounding box of text and trim to it\n",
    "    bbox = ImageOps.invert(im).getbbox()\n",
    "    x, y = 0, 0\n",
    "    x_, y_ = im.size[0], bbox[3] + padding\n",
    "    new_bbox = (x, y, x_, y_)\n",
    "    trimmed = im.crop(new_bbox)\n",
    "    trimmed.save(filename)\n",
    "    if visualize:\n",
    "        trimmed.show()"
   ]
  },
  {
   "cell_type": "code",
   "execution_count": 62,
   "id": "eb356af5",
   "metadata": {},
   "outputs": [],
   "source": [
    "remove_white_space(f\"{test_image_filename}.jpg\")"
   ]
  },
  {
   "cell_type": "code",
   "execution_count": 63,
   "id": "9eb602c3",
   "metadata": {},
   "outputs": [],
   "source": [
    "# # find padding value\n",
    "# # Open input image\n",
    "# im = Image.open(f\"{test_image_filename}.png\")\n",
    "# print(im.size)\n",
    "# print(f\"{test_image_filename}.png\")\n",
    "# # Get bounding box of text and trim to it\n",
    "# bbox = ImageOps.invert(im).getbbox()\n",
    "# # trimmed = im.crop(bbox)\n",
    "# print(type(bbox))"
   ]
  },
  {
   "cell_type": "markdown",
   "id": "f82f2663",
   "metadata": {},
   "source": [
    "## Convert Input to Image"
   ]
  },
  {
   "cell_type": "code",
   "execution_count": 64,
   "id": "08a3227f",
   "metadata": {},
   "outputs": [],
   "source": [
    "# os.path.exists(\"/Users/rohanwadhawan/Desktop/UCLA/research/peng-lab/document-vqa/data/new_input\")"
   ]
  },
  {
   "cell_type": "code",
   "execution_count": 65,
   "id": "97f76dda",
   "metadata": {},
   "outputs": [],
   "source": [
    "def convert_input_to_img(problem_list, pid_splits, source=\"train\", html_template_choice=None, save_dir=\"\", \\\n",
    "                         sample_subset = 10, crop_padding = 30, remove_html_file = True, remove_pdf_file = True, \\\n",
    "                         params=None):\n",
    "    \n",
    "    idx_list = pid_splits[source] \n",
    "    idx_list = [int(idx) for idx in idx_list]\n",
    "    \n",
    "    if sample_subset is not None:\n",
    "        idx_list = idx_list[:sample_subset]\n",
    "        source = \"tiny_\" + source\n",
    "    \n",
    "    # create save directory if it does not exist\n",
    "    save_dir = os.path.join(save_dir, source)\n",
    "        \n",
    "    if os.path.exists(save_dir) == False:\n",
    "        os.makedirs(save_dir)\n",
    "        print(\"Save directory created\")\n",
    "    else:\n",
    "        print(\"Save directory already present\")\n",
    "        \n",
    "    \n",
    "    for sample_num in idx_list:\n",
    "        \n",
    "        # create html template\n",
    "#         html_template = create_html_template(html_template_choice)\n",
    "        html_template = create_html_file_modular(params, problem_list, sample_num=sample_num)\n",
    "        html_file = create_html_file(html_template, problem_list, sample_num)\n",
    "        \n",
    "        # save tmp html file\n",
    "        save_html_file(html_file, source, sample_num, save_dir=save_dir)\n",
    "        \n",
    "        # tmp and final filenames\n",
    "        tmp_hpi_filename = os.path.join(os.getcwd(), save_dir, f\"{source}_{sample_num}\")\n",
    "        img_filename = os.path.join(os.getcwd(), save_dir, f\"{source}_{sample_num}\")\n",
    "        \n",
    "        # convert tmp html to tmp pdf & delete tmp html file\n",
    "        convert_html_to_pdf(tmp_hpi_filename, tmp_hpi_filename)\n",
    "        \n",
    "        # convert tmp pdf to image & delete tmp pdf file\n",
    "        convert_pdf_to_image(tmp_hpi_filename, img_filename)\n",
    "        \n",
    "        # crop whitespace\n",
    "        remove_white_space(f\"{img_filename}.jpg\")\n",
    "        \n",
    "        # cleaning by removing tmp files\n",
    "        if remove_html_file:\n",
    "            os.remove(f\"{tmp_hpi_filename}.html\")\n",
    "        \n",
    "        if remove_pdf_file:\n",
    "            os.remove(f\"{tmp_hpi_filename}.pdf\")"
   ]
  },
  {
   "cell_type": "code",
   "execution_count": 56,
   "id": "2bd515da",
   "metadata": {},
   "outputs": [],
   "source": [
    "params = {\n",
    "    \"set_question_as_header\": False\n",
    "}"
   ]
  },
  {
   "cell_type": "code",
   "execution_count": 71,
   "id": "335127ec",
   "metadata": {},
   "outputs": [],
   "source": [
    "# convert_input_to_img(problem_list, pid_splits, source=\"train\", html_template_choice = \"img\", \n",
    "#                      save_dir=os.path.join(os.getcwd(), \"data\", \"new_data\"), sample_subset = 10, \n",
    "#                      crop_padding = 30, params = params)"
   ]
  },
  {
   "cell_type": "code",
   "execution_count": 72,
   "id": "7e3b2e3f",
   "metadata": {},
   "outputs": [
    {
     "name": "stdout",
     "output_type": "stream",
     "text": [
      "Save directory created\n"
     ]
    }
   ],
   "source": [
    "convert_input_to_img(problem_list, pid_splits, source=\"train\", html_template_choice = \"img\", \n",
    "                     save_dir=os.path.join(os.getcwd(), \"data\", \"new_data\", \"unimodal\"), sample_subset = 20 , \n",
    "                     crop_padding = 30, params = params)"
   ]
  },
  {
   "cell_type": "code",
   "execution_count": 73,
   "id": "f1ecef86",
   "metadata": {},
   "outputs": [
    {
     "name": "stdout",
     "output_type": "stream",
     "text": [
      "Save directory created\n"
     ]
    }
   ],
   "source": [
    "convert_input_to_img(problem_list, pid_splits, source=\"val\", html_template_choice = \"img\", \n",
    "                     save_dir=os.path.join(os.getcwd(), \"data\", \"new_data\", \"unimodal\"), sample_subset = 4, \n",
    "                     crop_padding = 30, params = params)"
   ]
  },
  {
   "cell_type": "code",
   "execution_count": 74,
   "id": "e3251b22",
   "metadata": {},
   "outputs": [
    {
     "name": "stdout",
     "output_type": "stream",
     "text": [
      "Save directory created\n"
     ]
    }
   ],
   "source": [
    "convert_input_to_img(problem_list, pid_splits, source=\"test\", html_template_choice = \"img\", \n",
    "                     save_dir=os.path.join(os.getcwd(), \"data\", \"new_data\", \"unimodal\"), sample_subset = 4, \n",
    "                     crop_padding = 30, params = params)"
   ]
  },
  {
   "cell_type": "markdown",
   "id": "74d090ba",
   "metadata": {},
   "source": [
    "# Create custom loading and training template"
   ]
  },
  {
   "cell_type": "markdown",
   "id": "c120328c",
   "metadata": {},
   "source": [
    "## Convert Science to dataset (header_text, image, output) - Dataloader - Collator"
   ]
  },
  {
   "cell_type": "code",
   "execution_count": 57,
   "id": "d2307dc6",
   "metadata": {},
   "outputs": [],
   "source": [
    "options = [\"A\", \"B\", \"C\", \"D\", \"E\"]"
   ]
  },
  {
   "cell_type": "code",
   "execution_count": 58,
   "id": "e55e6f7c",
   "metadata": {},
   "outputs": [],
   "source": [
    "output_format = \"AE\""
   ]
  },
  {
   "cell_type": "code",
   "execution_count": 59,
   "id": "587454cc",
   "metadata": {},
   "outputs": [],
   "source": [
    "ScienceQA = namedtuple(\"ScienceQA\", \"sample_num header_text image image_mean image_std output\")"
   ]
  },
  {
   "cell_type": "code",
   "execution_count": 60,
   "id": "dc266edc",
   "metadata": {},
   "outputs": [],
   "source": [
    "def preprocess_image_pix2struct(image):\n",
    "    im_arr = np.array(image)\n",
    "    im_arr16 = im_arr.astype(np.float16)\n",
    "    \n",
    "    im_arr16_mean = np.mean(im_arr16)\n",
    "    im_arr_16_tstd = np.sqrt(np.mean((im_arr16 - im_arr16_mean)**2))\n",
    "    N = im_arr16.shape[0]*im_arr16.shape[1]*im_arr16.shape[2]\n",
    "    im_arr16_std = max(im_arr_16_tstd, 1.0/np.sqrt(N))\n",
    "\n",
    "    im_arr16_final = (im_arr16 - im_arr16_mean)/im_arr16_std\n",
    "    \n",
    "    im_tensor = torch.tensor(im_arr16_final)\n",
    "#     print(im_tensor.shape)\n",
    "   \n",
    "    return im_tensor, im_arr16_mean, im_arr16_std"
   ]
  },
  {
   "cell_type": "code",
   "execution_count": 61,
   "id": "12e3a13e",
   "metadata": {},
   "outputs": [],
   "source": [
    "def visualize_processed_image(image, mean, std):\n",
    "    image  = np.array(image * std + mean, dtype = np.uint8)\n",
    "    plt.imshow(image)\n",
    "    plt.show()"
   ]
  },
  {
   "cell_type": "code",
   "execution_count": 65,
   "id": "bedd59dd",
   "metadata": {},
   "outputs": [],
   "source": [
    "test_image_filename = os.path.join(os.getcwd(), \"data\",\"new_data\",\"unimodal\",\"train\",f\"{problem_list[1]['split']}_{1}\")"
   ]
  },
  {
   "cell_type": "code",
   "execution_count": 66,
   "id": "17a696bf",
   "metadata": {},
   "outputs": [],
   "source": [
    "image = Image.open(f\"{test_image_filename}.jpg\")"
   ]
  },
  {
   "cell_type": "code",
   "execution_count": 67,
   "id": "dec6407a",
   "metadata": {},
   "outputs": [],
   "source": [
    "pre_image, pre_mean, pre_std = preprocess_image_pix2struct(image)"
   ]
  },
  {
   "cell_type": "code",
   "execution_count": 68,
   "id": "2c2a3219",
   "metadata": {},
   "outputs": [],
   "source": [
    "# print(pre_image)\n",
    "# np.unique(pre_image)"
   ]
  },
  {
   "cell_type": "code",
   "execution_count": 69,
   "id": "bfdf12b1",
   "metadata": {},
   "outputs": [
    {
     "data": {
      "image/png": "[encoded data removed]",
      "text/plain": [
       "<Figure size 640x480 with 1 Axes>"
      ]
     },
     "metadata": {},
     "output_type": "display_data"
    }
   ],
   "source": [
    "visualize_processed_image(pre_image, pre_mean, pre_std)"
   ]
  },
  {
   "cell_type": "code",
   "execution_count": 70,
   "id": "70712cab",
   "metadata": {},
   "outputs": [],
   "source": [
    "def create_one_scienceqa_example(problem_list, img_filename=\"\", sample_num=1, output_format=\"AE\", options = None, preprocess_image=None):\n",
    "    \n",
    "    # header text\n",
    "    header_text = problem_list[sample_num][\"question\"] + \" \" + get_choice_text(problem_list[sample_num], options)\n",
    "    \n",
    "    #input\n",
    "    image = Image.open(f\"{img_filename}.jpg\")\n",
    "    image_mean = 0\n",
    "    image_std = 0\n",
    "    if preprocess_image is not None:\n",
    "        image, image_mean, image_std = preprocess_image(image)\n",
    "    \n",
    "    # Outputs\n",
    "    if output_format == 'A':\n",
    "        output = f\"Answer: The answer is {problem_list[sample_num]['answer']}.\"\n",
    "    elif output_format == 'AE':\n",
    "        output = f\"Answer: The answer is {problem_list[sample_num]['answer']}. BECAUSE: {problem_list[sample_num]['solution']}\"\n",
    "    elif output_format == 'EA':\n",
    "        output = f\"Answer: {problem_list[sample_num]['solution']} The answer is {problem_list[sample_num]['answer']}.\"\n",
    "\n",
    "    output = output.replace(\"  \", \" \").strip()\n",
    "    if output.endswith(\"BECAUSE:\"):\n",
    "        output = output.replace(\"BECAUSE:\", \"\").strip()\n",
    "    \n",
    "    scienceqa_example = ScienceQA(sample_num, header_text, image, image_mean, image_std, output)\n",
    "    return scienceqa_example"
   ]
  },
  {
   "cell_type": "code",
   "execution_count": 71,
   "id": "3aa40cec",
   "metadata": {},
   "outputs": [],
   "source": [
    "sample_num = 1\n",
    "test_image_filename = os.path.join(os.getcwd(), \"data\", \"html_files\", f\"{problem_list[sample_num]['split']}_{sample_num}\")\n",
    "test_example = create_one_scienceqa_example(problem_list, img_filename=test_image_filename, \n",
    "                                  sample_num=sample_num, output_format=output_format, options = options,\n",
    "                                    preprocess_image = None) #preprocess_image_pix2struct)"
   ]
  },
  {
   "cell_type": "code",
   "execution_count": 72,
   "id": "26de00bc",
   "metadata": {},
   "outputs": [
    {
     "name": "stdout",
     "output_type": "stream",
     "text": [
      "Which of these states is farthest north? (A) West Virginia (B) Louisiana (C) Arizona (D) Oklahoma\n",
      "Answer: The answer is 0. BECAUSE: To find the answer, look at the compass rose. Look at which way the north arrow is pointing. West Virginia is farthest north.\n"
     ]
    }
   ],
   "source": [
    "print(test_example.header_text)\n",
    "test_example.image.show()\n",
    "# print(test_example.processed_image)\n",
    "print(test_example.output)"
   ]
  },
  {
   "cell_type": "code",
   "execution_count": 73,
   "id": "87417225",
   "metadata": {},
   "outputs": [],
   "source": [
    "def convert_scienceqa_to_dataset(problem_list, pid_splits, source=\"train\", save_dir = \"\", output_format=\"AE\", \\\n",
    "                                 options = None, preprocess_image = None, sample_subset = None):\n",
    "    \n",
    "    \n",
    "    idx_list = pid_splits[source] \n",
    "    idx_list = [int(idx) for idx in idx_list]\n",
    "    \n",
    "    if sample_subset is not None:\n",
    "        idx_list = idx_list[:sample_subset]\n",
    "        source = \"tiny_\"+source\n",
    "        \n",
    "    save_dir = os.path.join(save_dir, source)    \n",
    "    \n",
    "    dataset = []\n",
    "    for sample_num in idx_list:\n",
    "        ifile = os.path.join(os.getcwd(), save_dir, f\"{source}_{sample_num}\")\n",
    "        dataset.append(create_one_scienceqa_example(problem_list, img_filename=ifile, \\\n",
    "                                                    sample_num=sample_num, output_format=output_format, \\\n",
    "                                                    options = options, preprocess_image = preprocess_image))\n",
    "    return dataset\n",
    "        "
   ]
  },
  {
   "cell_type": "code",
   "execution_count": 76,
   "id": "3e68a488",
   "metadata": {},
   "outputs": [
    {
     "data": {
      "text/html": [
       "<pre style=\"white-space:pre;overflow-x:auto;line-height:normal;font-family:Menlo,'DejaVu Sans Mono',consolas,'Courier New',monospace\"><span style=\"color: #800000; text-decoration-color: #800000\">╭─────────────────────────────── </span><span style=\"color: #800000; text-decoration-color: #800000; font-weight: bold\">Traceback </span><span style=\"color: #bf7f7f; text-decoration-color: #bf7f7f; font-weight: bold\">(most recent call last)</span><span style=\"color: #800000; text-decoration-color: #800000\"> ────────────────────────────────╮</span>\n",
       "<span style=\"color: #800000; text-decoration-color: #800000\">│</span> in <span style=\"color: #00ff00; text-decoration-color: #00ff00\">&lt;module&gt;</span>:<span style=\"color: #0000ff; text-decoration-color: #0000ff\">4</span>                                                                                    <span style=\"color: #800000; text-decoration-color: #800000\">│</span>\n",
       "<span style=\"color: #800000; text-decoration-color: #800000\">│</span>                                                                                                  <span style=\"color: #800000; text-decoration-color: #800000\">│</span>\n",
       "<span style=\"color: #800000; text-decoration-color: #800000\">│</span>   <span style=\"color: #7f7f7f; text-decoration-color: #7f7f7f\">1 </span>source = <span style=\"color: #808000; text-decoration-color: #808000\">\"train\"</span>                                                                             <span style=\"color: #800000; text-decoration-color: #800000\">│</span>\n",
       "<span style=\"color: #800000; text-decoration-color: #800000\">│</span>   <span style=\"color: #7f7f7f; text-decoration-color: #7f7f7f\">2 </span>sample_subset = <span style=\"color: #0000ff; text-decoration-color: #0000ff\">None</span> <span style=\"color: #7f7f7f; text-decoration-color: #7f7f7f\"># 20</span>                                                                    <span style=\"color: #800000; text-decoration-color: #800000\">│</span>\n",
       "<span style=\"color: #800000; text-decoration-color: #800000\">│</span>   <span style=\"color: #7f7f7f; text-decoration-color: #7f7f7f\">3 </span>train_dataset = convert_scienceqa_to_dataset(problem_list, pid_splits, source=source, \\      <span style=\"color: #800000; text-decoration-color: #800000\">│</span>\n",
       "<span style=\"color: #800000; text-decoration-color: #800000\">│</span> <span style=\"color: #800000; text-decoration-color: #800000\">❱ </span>4 <span style=\"color: #7f7f7f; text-decoration-color: #7f7f7f\">│   │   │   │   │     </span>save_dir = os.path.join(os.getcwd(), <span style=\"color: #808000; text-decoration-color: #808000\">\"data\"</span>, <span style=\"color: #808000; text-decoration-color: #808000\">\"new_data\"</span>, <span style=\"color: #808000; text-decoration-color: #808000\">\"unimodal</span>     <span style=\"color: #800000; text-decoration-color: #800000\">│</span>\n",
       "<span style=\"color: #800000; text-decoration-color: #800000\">│</span>   <span style=\"color: #7f7f7f; text-decoration-color: #7f7f7f\">5 </span><span style=\"color: #7f7f7f; text-decoration-color: #7f7f7f\">│   │   │   │   │     </span>options = options, preprocess_image = <span style=\"color: #0000ff; text-decoration-color: #0000ff\">None</span>, sample_subset = sample     <span style=\"color: #800000; text-decoration-color: #800000\">│</span>\n",
       "<span style=\"color: #800000; text-decoration-color: #800000\">│</span>   <span style=\"color: #7f7f7f; text-decoration-color: #7f7f7f\">6 </span>                                                                                             <span style=\"color: #800000; text-decoration-color: #800000\">│</span>\n",
       "<span style=\"color: #800000; text-decoration-color: #800000\">╰──────────────────────────────────────────────────────────────────────────────────────────────────╯</span>\n",
       "<span style=\"color: #ff0000; text-decoration-color: #ff0000; font-weight: bold\">OSError: </span><span style=\"font-weight: bold\">[</span>Errno <span style=\"color: #008080; text-decoration-color: #008080; font-weight: bold\">24</span><span style=\"font-weight: bold\">]</span> Too many open files\n",
       "</pre>\n"
      ],
      "text/plain": [
       "\u001b[31m╭─\u001b[0m\u001b[31m──────────────────────────────\u001b[0m\u001b[31m \u001b[0m\u001b[1;31mTraceback \u001b[0m\u001b[1;2;31m(most recent call last)\u001b[0m\u001b[31m \u001b[0m\u001b[31m───────────────────────────────\u001b[0m\u001b[31m─╮\u001b[0m\n",
       "\u001b[31m│\u001b[0m in \u001b[92m<module>\u001b[0m:\u001b[94m4\u001b[0m                                                                                    \u001b[31m│\u001b[0m\n",
       "\u001b[31m│\u001b[0m                                                                                                  \u001b[31m│\u001b[0m\n",
       "\u001b[31m│\u001b[0m   \u001b[2m1 \u001b[0msource = \u001b[33m\"\u001b[0m\u001b[33mtrain\u001b[0m\u001b[33m\"\u001b[0m                                                                             \u001b[31m│\u001b[0m\n",
       "\u001b[31m│\u001b[0m   \u001b[2m2 \u001b[0msample_subset = \u001b[94mNone\u001b[0m \u001b[2m# 20\u001b[0m                                                                    \u001b[31m│\u001b[0m\n",
       "\u001b[31m│\u001b[0m   \u001b[2m3 \u001b[0mtrain_dataset = convert_scienceqa_to_dataset(problem_list, pid_splits, source=source, \\      \u001b[31m│\u001b[0m\n",
       "\u001b[31m│\u001b[0m \u001b[31m❱ \u001b[0m4 \u001b[2m│   │   │   │   │     \u001b[0msave_dir = os.path.join(os.getcwd(), \u001b[33m\"\u001b[0m\u001b[33mdata\u001b[0m\u001b[33m\"\u001b[0m, \u001b[33m\"\u001b[0m\u001b[33mnew_data\u001b[0m\u001b[33m\"\u001b[0m, \u001b[33m\"\u001b[0m\u001b[33munimodal\u001b[0m     \u001b[31m│\u001b[0m\n",
       "\u001b[31m│\u001b[0m   \u001b[2m5 \u001b[0m\u001b[2m│   │   │   │   │     \u001b[0moptions = options, preprocess_image = \u001b[94mNone\u001b[0m, sample_subset = sample     \u001b[31m│\u001b[0m\n",
       "\u001b[31m│\u001b[0m   \u001b[2m6 \u001b[0m                                                                                             \u001b[31m│\u001b[0m\n",
       "\u001b[31m╰──────────────────────────────────────────────────────────────────────────────────────────────────╯\u001b[0m\n",
       "\u001b[1;91mOSError: \u001b[0m\u001b[1m[\u001b[0mErrno \u001b[1;36m24\u001b[0m\u001b[1m]\u001b[0m Too many open files\n"
      ]
     },
     "metadata": {},
     "output_type": "display_data"
    }
   ],
   "source": [
    "source = \"train\"\n",
    "sample_subset = None # 20\n",
    "train_dataset = convert_scienceqa_to_dataset(problem_list, pid_splits, source=source, \\\n",
    "                      save_dir = os.path.join(os.getcwd(), \"data\", \"new_data\", \"unimodal\"), output_format=output_format, \\\n",
    "                      options = options, preprocess_image = None, sample_subset = sample_subset) #preprocess_image_pix2struct)"
   ]
  },
  {
   "cell_type": "code",
   "execution_count": 77,
   "id": "beb1c0be",
   "metadata": {},
   "outputs": [
    {
     "data": {
      "text/html": [
       "<pre style=\"white-space:pre;overflow-x:auto;line-height:normal;font-family:Menlo,'DejaVu Sans Mono',consolas,'Courier New',monospace\"><span style=\"color: #800000; text-decoration-color: #800000\">╭─────────────────────────────── </span><span style=\"color: #800000; text-decoration-color: #800000; font-weight: bold\">Traceback </span><span style=\"color: #bf7f7f; text-decoration-color: #bf7f7f; font-weight: bold\">(most recent call last)</span><span style=\"color: #800000; text-decoration-color: #800000\"> ────────────────────────────────╮</span>\n",
       "<span style=\"color: #800000; text-decoration-color: #800000\">│</span> in <span style=\"color: #00ff00; text-decoration-color: #00ff00\">&lt;module&gt;</span>:<span style=\"color: #0000ff; text-decoration-color: #0000ff\">4</span>                                                                                    <span style=\"color: #800000; text-decoration-color: #800000\">│</span>\n",
       "<span style=\"color: #800000; text-decoration-color: #800000\">│</span>                                                                                                  <span style=\"color: #800000; text-decoration-color: #800000\">│</span>\n",
       "<span style=\"color: #800000; text-decoration-color: #800000\">│</span>   <span style=\"color: #7f7f7f; text-decoration-color: #7f7f7f\">1 </span>source = <span style=\"color: #808000; text-decoration-color: #808000\">\"val\"</span>                                                                               <span style=\"color: #800000; text-decoration-color: #800000\">│</span>\n",
       "<span style=\"color: #800000; text-decoration-color: #800000\">│</span>   <span style=\"color: #7f7f7f; text-decoration-color: #7f7f7f\">2 </span>sample_subset = <span style=\"color: #0000ff; text-decoration-color: #0000ff\">None</span> <span style=\"color: #7f7f7f; text-decoration-color: #7f7f7f\"># 4</span>                                                                     <span style=\"color: #800000; text-decoration-color: #800000\">│</span>\n",
       "<span style=\"color: #800000; text-decoration-color: #800000\">│</span>   <span style=\"color: #7f7f7f; text-decoration-color: #7f7f7f\">3 </span>val_dataset = convert_scienceqa_to_dataset(problem_list, pid_splits, source=source, \\        <span style=\"color: #800000; text-decoration-color: #800000\">│</span>\n",
       "<span style=\"color: #800000; text-decoration-color: #800000\">│</span> <span style=\"color: #800000; text-decoration-color: #800000\">❱ </span>4 <span style=\"color: #7f7f7f; text-decoration-color: #7f7f7f\">│   │   │   │   │     </span>save_dir = os.path.join(os.getcwd(), <span style=\"color: #808000; text-decoration-color: #808000\">\"data\"</span>, <span style=\"color: #808000; text-decoration-color: #808000\">\"new_data\"</span>, <span style=\"color: #808000; text-decoration-color: #808000\">\"unimodal</span>     <span style=\"color: #800000; text-decoration-color: #800000\">│</span>\n",
       "<span style=\"color: #800000; text-decoration-color: #800000\">│</span>   <span style=\"color: #7f7f7f; text-decoration-color: #7f7f7f\">5 </span><span style=\"color: #7f7f7f; text-decoration-color: #7f7f7f\">│   │   │   │   │     </span>options = options, preprocess_image = <span style=\"color: #0000ff; text-decoration-color: #0000ff\">None</span>, sample_subset = sample     <span style=\"color: #800000; text-decoration-color: #800000\">│</span>\n",
       "<span style=\"color: #800000; text-decoration-color: #800000\">│</span>   <span style=\"color: #7f7f7f; text-decoration-color: #7f7f7f\">6 </span>                                                                                             <span style=\"color: #800000; text-decoration-color: #800000\">│</span>\n",
       "<span style=\"color: #800000; text-decoration-color: #800000\">╰──────────────────────────────────────────────────────────────────────────────────────────────────╯</span>\n",
       "<span style=\"color: #ff0000; text-decoration-color: #ff0000; font-weight: bold\">OSError: </span><span style=\"font-weight: bold\">[</span>Errno <span style=\"color: #008080; text-decoration-color: #008080; font-weight: bold\">24</span><span style=\"font-weight: bold\">]</span> Too many open files\n",
       "</pre>\n"
      ],
      "text/plain": [
       "\u001b[31m╭─\u001b[0m\u001b[31m──────────────────────────────\u001b[0m\u001b[31m \u001b[0m\u001b[1;31mTraceback \u001b[0m\u001b[1;2;31m(most recent call last)\u001b[0m\u001b[31m \u001b[0m\u001b[31m───────────────────────────────\u001b[0m\u001b[31m─╮\u001b[0m\n",
       "\u001b[31m│\u001b[0m in \u001b[92m<module>\u001b[0m:\u001b[94m4\u001b[0m                                                                                    \u001b[31m│\u001b[0m\n",
       "\u001b[31m│\u001b[0m                                                                                                  \u001b[31m│\u001b[0m\n",
       "\u001b[31m│\u001b[0m   \u001b[2m1 \u001b[0msource = \u001b[33m\"\u001b[0m\u001b[33mval\u001b[0m\u001b[33m\"\u001b[0m                                                                               \u001b[31m│\u001b[0m\n",
       "\u001b[31m│\u001b[0m   \u001b[2m2 \u001b[0msample_subset = \u001b[94mNone\u001b[0m \u001b[2m# 4\u001b[0m                                                                     \u001b[31m│\u001b[0m\n",
       "\u001b[31m│\u001b[0m   \u001b[2m3 \u001b[0mval_dataset = convert_scienceqa_to_dataset(problem_list, pid_splits, source=source, \\        \u001b[31m│\u001b[0m\n",
       "\u001b[31m│\u001b[0m \u001b[31m❱ \u001b[0m4 \u001b[2m│   │   │   │   │     \u001b[0msave_dir = os.path.join(os.getcwd(), \u001b[33m\"\u001b[0m\u001b[33mdata\u001b[0m\u001b[33m\"\u001b[0m, \u001b[33m\"\u001b[0m\u001b[33mnew_data\u001b[0m\u001b[33m\"\u001b[0m, \u001b[33m\"\u001b[0m\u001b[33munimodal\u001b[0m     \u001b[31m│\u001b[0m\n",
       "\u001b[31m│\u001b[0m   \u001b[2m5 \u001b[0m\u001b[2m│   │   │   │   │     \u001b[0moptions = options, preprocess_image = \u001b[94mNone\u001b[0m, sample_subset = sample     \u001b[31m│\u001b[0m\n",
       "\u001b[31m│\u001b[0m   \u001b[2m6 \u001b[0m                                                                                             \u001b[31m│\u001b[0m\n",
       "\u001b[31m╰──────────────────────────────────────────────────────────────────────────────────────────────────╯\u001b[0m\n",
       "\u001b[1;91mOSError: \u001b[0m\u001b[1m[\u001b[0mErrno \u001b[1;36m24\u001b[0m\u001b[1m]\u001b[0m Too many open files\n"
      ]
     },
     "metadata": {},
     "output_type": "display_data"
    }
   ],
   "source": [
    "source = \"val\"\n",
    "sample_subset = None # 4\n",
    "val_dataset = convert_scienceqa_to_dataset(problem_list, pid_splits, source=source, \\\n",
    "                      save_dir = os.path.join(os.getcwd(), \"data\", \"new_data\", \"unimodal\"), output_format=output_format, \\\n",
    "                      options = options, preprocess_image = None, sample_subset = sample_subset) #preprocess_image_pix2struct)"
   ]
  },
  {
   "cell_type": "code",
   "execution_count": 132,
   "id": "24adf0c6",
   "metadata": {},
   "outputs": [
    {
     "name": "stderr",
     "output_type": "stream",
     "text": [
      "Exception in thread Exception in threading.excepthook:\n",
      "Exception ignored in thread started by: <bound method Thread._bootstrap of <HistorySavingThread(IPythonHistorySavingThread, started 6235123712)>>\n",
      "Traceback (most recent call last):\n",
      "  File \"/Users/rohanwadhawan/miniconda3/lib/python3.10/threading.py\", line 973, in _bootstrap\n",
      "  File \"/Users/rohanwadhawan/miniconda3/lib/python3.10/threading.py\", line 1018, in _bootstrap_inner\n"
     ]
    },
    {
     "name": "stdout",
     "output_type": "stream",
     "text": [
      "The history saving thread hit an unexpected error (OperationalError('unable to open database file')).History will not be written to the database."
     ]
    },
    {
     "name": "stderr",
     "output_type": "stream",
     "text": [
      "  File \"/Users/rohanwadhawan/miniconda3/lib/python3.10/threading.py\", line 1336, in invoke_excepthook\n",
      "zmq.error.ZMQError: Too many open files\n",
      "Exception ignored in sys.unraisablehook: <built-in function unraisablehook>\n",
      "Traceback (most recent call last):\n",
      "  File \"/Users/rohanwadhawan/Desktop/UCLA/research/peng-lab/project/mm-cot/mmcot/lib/python3.10/site-packages/ipykernel/iostream.py\", line 492, in flush\n",
      "  File \"/Users/rohanwadhawan/Desktop/UCLA/research/peng-lab/project/mm-cot/mmcot/lib/python3.10/site-packages/ipykernel/iostream.py\", line 211, in schedule\n",
      "  File \"/Users/rohanwadhawan/Desktop/UCLA/research/peng-lab/project/mm-cot/mmcot/lib/python3.10/site-packages/ipykernel/iostream.py\", line 98, in _event_pipe\n",
      "  File \"/Users/rohanwadhawan/Desktop/UCLA/research/peng-lab/project/mm-cot/mmcot/lib/python3.10/site-packages/zmq/sugar/context.py\", line 362, in socket\n",
      "  File \"/Users/rohanwadhawan/Desktop/UCLA/research/peng-lab/project/mm-cot/mmcot/lib/python3.10/site-packages/zmq/sugar/socket.py\", line 159, in __init__\n",
      "  File \"zmq/backend/cython/socket.pyx\", line 332, in zmq.backend.cython.socket.Socket.__init__\n",
      "zmq.error.ZMQError: Too many open files\n"
     ]
    },
    {
     "data": {
      "text/html": [
       "<pre style=\"white-space:pre;overflow-x:auto;line-height:normal;font-family:Menlo,'DejaVu Sans Mono',consolas,'Courier New',monospace\"><span style=\"color: #800000; text-decoration-color: #800000\">╭─────────────────────────────── </span><span style=\"color: #800000; text-decoration-color: #800000; font-weight: bold\">Traceback </span><span style=\"color: #bf7f7f; text-decoration-color: #bf7f7f; font-weight: bold\">(most recent call last)</span><span style=\"color: #800000; text-decoration-color: #800000\"> ────────────────────────────────╮</span>\n",
       "<span style=\"color: #800000; text-decoration-color: #800000\">│</span> in <span style=\"color: #00ff00; text-decoration-color: #00ff00\">&lt;module&gt;</span>:<span style=\"color: #0000ff; text-decoration-color: #0000ff\">4</span>                                                                                    <span style=\"color: #800000; text-decoration-color: #800000\">│</span>\n",
       "<span style=\"color: #800000; text-decoration-color: #800000\">│</span>                                                                                                  <span style=\"color: #800000; text-decoration-color: #800000\">│</span>\n",
       "<span style=\"color: #800000; text-decoration-color: #800000\">│</span>   <span style=\"color: #7f7f7f; text-decoration-color: #7f7f7f\">1 </span>source = <span style=\"color: #808000; text-decoration-color: #808000\">\"test\"</span>                                                                              <span style=\"color: #800000; text-decoration-color: #800000\">│</span>\n",
       "<span style=\"color: #800000; text-decoration-color: #800000\">│</span>   <span style=\"color: #7f7f7f; text-decoration-color: #7f7f7f\">2 </span>sample_subset = <span style=\"color: #0000ff; text-decoration-color: #0000ff\">None</span> <span style=\"color: #7f7f7f; text-decoration-color: #7f7f7f\"># 4</span>                                                                     <span style=\"color: #800000; text-decoration-color: #800000\">│</span>\n",
       "<span style=\"color: #800000; text-decoration-color: #800000\">│</span>   <span style=\"color: #7f7f7f; text-decoration-color: #7f7f7f\">3 </span>test_dataset = convert_scienceqa_to_dataset(problem_list, pid_splits, source=source, \\       <span style=\"color: #800000; text-decoration-color: #800000\">│</span>\n",
       "<span style=\"color: #800000; text-decoration-color: #800000\">│</span> <span style=\"color: #800000; text-decoration-color: #800000\">❱ </span>4 <span style=\"color: #7f7f7f; text-decoration-color: #7f7f7f\">│   │   │   │   │     </span>save_dir = os.path.join(os.getcwd(), <span style=\"color: #808000; text-decoration-color: #808000\">\"data\"</span>, <span style=\"color: #808000; text-decoration-color: #808000\">\"new_data\"</span>, <span style=\"color: #808000; text-decoration-color: #808000\">\"unimodal</span>     <span style=\"color: #800000; text-decoration-color: #800000\">│</span>\n",
       "<span style=\"color: #800000; text-decoration-color: #800000\">│</span>   <span style=\"color: #7f7f7f; text-decoration-color: #7f7f7f\">5 </span><span style=\"color: #7f7f7f; text-decoration-color: #7f7f7f\">│   │   │   │   │     </span>options = options, preprocess_image = <span style=\"color: #0000ff; text-decoration-color: #0000ff\">None</span>, sample_subset = sample     <span style=\"color: #800000; text-decoration-color: #800000\">│</span>\n",
       "<span style=\"color: #800000; text-decoration-color: #800000\">│</span>   <span style=\"color: #7f7f7f; text-decoration-color: #7f7f7f\">6 </span>                                                                                             <span style=\"color: #800000; text-decoration-color: #800000\">│</span>\n",
       "<span style=\"color: #800000; text-decoration-color: #800000\">╰──────────────────────────────────────────────────────────────────────────────────────────────────╯</span>\n",
       "<span style=\"color: #ff0000; text-decoration-color: #ff0000; font-weight: bold\">OSError: </span><span style=\"font-weight: bold\">[</span>Errno <span style=\"color: #008080; text-decoration-color: #008080; font-weight: bold\">24</span><span style=\"font-weight: bold\">]</span> Too many open files\n",
       "</pre>\n"
      ],
      "text/plain": [
       "\u001b[31m╭─\u001b[0m\u001b[31m──────────────────────────────\u001b[0m\u001b[31m \u001b[0m\u001b[1;31mTraceback \u001b[0m\u001b[1;2;31m(most recent call last)\u001b[0m\u001b[31m \u001b[0m\u001b[31m───────────────────────────────\u001b[0m\u001b[31m─╮\u001b[0m\n",
       "\u001b[31m│\u001b[0m in \u001b[92m<module>\u001b[0m:\u001b[94m4\u001b[0m                                                                                    \u001b[31m│\u001b[0m\n",
       "\u001b[31m│\u001b[0m                                                                                                  \u001b[31m│\u001b[0m\n",
       "\u001b[31m│\u001b[0m   \u001b[2m1 \u001b[0msource = \u001b[33m\"\u001b[0m\u001b[33mtest\u001b[0m\u001b[33m\"\u001b[0m                                                                              \u001b[31m│\u001b[0m\n",
       "\u001b[31m│\u001b[0m   \u001b[2m2 \u001b[0msample_subset = \u001b[94mNone\u001b[0m \u001b[2m# 4\u001b[0m                                                                     \u001b[31m│\u001b[0m\n",
       "\u001b[31m│\u001b[0m   \u001b[2m3 \u001b[0mtest_dataset = convert_scienceqa_to_dataset(problem_list, pid_splits, source=source, \\       \u001b[31m│\u001b[0m\n",
       "\u001b[31m│\u001b[0m \u001b[31m❱ \u001b[0m4 \u001b[2m│   │   │   │   │     \u001b[0msave_dir = os.path.join(os.getcwd(), \u001b[33m\"\u001b[0m\u001b[33mdata\u001b[0m\u001b[33m\"\u001b[0m, \u001b[33m\"\u001b[0m\u001b[33mnew_data\u001b[0m\u001b[33m\"\u001b[0m, \u001b[33m\"\u001b[0m\u001b[33munimodal\u001b[0m     \u001b[31m│\u001b[0m\n",
       "\u001b[31m│\u001b[0m   \u001b[2m5 \u001b[0m\u001b[2m│   │   │   │   │     \u001b[0moptions = options, preprocess_image = \u001b[94mNone\u001b[0m, sample_subset = sample     \u001b[31m│\u001b[0m\n",
       "\u001b[31m│\u001b[0m   \u001b[2m6 \u001b[0m                                                                                             \u001b[31m│\u001b[0m\n",
       "\u001b[31m╰──────────────────────────────────────────────────────────────────────────────────────────────────╯\u001b[0m\n",
       "\u001b[1;91mOSError: \u001b[0m\u001b[1m[\u001b[0mErrno \u001b[1;36m24\u001b[0m\u001b[1m]\u001b[0m Too many open files\n"
      ]
     },
     "metadata": {},
     "output_type": "display_data"
    }
   ],
   "source": [
    "source = \"test\"\n",
    "sample_subset = None # 4\n",
    "test_dataset = convert_scienceqa_to_dataset(problem_list, pid_splits, source=source, \\\n",
    "                      save_dir = os.path.join(os.getcwd(), \"data\", \"new_data\", \"unimodal\"), output_format=output_format, \\\n",
    "                      options = options, preprocess_image = None, sample_subset = sample_subset) #preprocess_image_pix2struct)"
   ]
  },
  {
   "cell_type": "code",
   "execution_count": 126,
   "id": "a68b7851",
   "metadata": {},
   "outputs": [],
   "source": [
    "# minitrain_dataset"
   ]
  },
  {
   "cell_type": "markdown",
   "id": "7269434d",
   "metadata": {},
   "source": [
    "#### Save dataset"
   ]
  },
  {
   "cell_type": "code",
   "execution_count": 127,
   "id": "c0ccaadf",
   "metadata": {},
   "outputs": [],
   "source": [
    "def save_dataset(dataset, save_dir=\"\", filename=\"\"):\n",
    "    pickle_filename = os.path.join(save_dir, filename)\n",
    "    with open(pickle_filename, 'wb') as f:\n",
    "        pickle.dump(dataset, f)"
   ]
  },
  {
   "cell_type": "code",
   "execution_count": 128,
   "id": "92a46cb7",
   "metadata": {},
   "outputs": [],
   "source": [
    "save_dataset(\n",
    "    train_dataset,\n",
    "    save_dir = os.path.join(os.getcwd(), \"data\", \"new_data\", \"unimodal\"),\n",
    "    filename = \"minitrain.pkl\"\n",
    ")"
   ]
  },
  {
   "cell_type": "code",
   "execution_count": 129,
   "id": "c58f557f",
   "metadata": {},
   "outputs": [],
   "source": [
    "save_dataset(\n",
    "    val_dataset,\n",
    "    save_dir = os.path.join(os.getcwd(), \"data\", \"new_data\", \"unimodal\"),\n",
    "    filename = \"minival.pkl\"\n",
    ")"
   ]
  },
  {
   "cell_type": "code",
   "execution_count": 130,
   "id": "991ca5dc",
   "metadata": {},
   "outputs": [],
   "source": [
    "save_dataset(\n",
    "    test_dataset,\n",
    "    save_dir = os.path.join(os.getcwd(), \"data\", \"new_data\", \"unimodal\"),\n",
    "    filename = \"minitest.pkl\"\n",
    ")"
   ]
  },
  {
   "cell_type": "markdown",
   "id": "d6682d8e",
   "metadata": {},
   "source": [
    "##### Load Test"
   ]
  },
  {
   "cell_type": "code",
   "execution_count": 78,
   "id": "0d868966",
   "metadata": {},
   "outputs": [],
   "source": [
    "# pickle_filename = os.path.join(os.getcwd(), \"data\", \"new_data\", \"minitrain.pkl\")\n",
    "# with open(pickle_filename, 'rb') as f:\n",
    "#     minitrain_dataset = pickle.load(f)"
   ]
  },
  {
   "cell_type": "code",
   "execution_count": 79,
   "id": "ee219247",
   "metadata": {},
   "outputs": [],
   "source": [
    "# pickle_filename = os.path.join(os.getcwd(), \"data\", \"new_data\", \"minival.pkl\")\n",
    "# with open(pickle_filename, 'rb') as f:\n",
    "#     minival_dataset = pickle.load(f)"
   ]
  },
  {
   "cell_type": "code",
   "execution_count": 80,
   "id": "d551501c",
   "metadata": {},
   "outputs": [],
   "source": [
    "# pickle_filename = os.path.join(os.getcwd(), \"data\", \"new_data\", \"minitest.pkl\")\n",
    "# with open(pickle_filename, 'rb') as f:\n",
    "#     minitest_dataset = pickle.load(f)"
   ]
  },
  {
   "cell_type": "code",
   "execution_count": 81,
   "id": "7123d66c",
   "metadata": {},
   "outputs": [],
   "source": [
    "# temp_minitrain[0]"
   ]
  },
  {
   "cell_type": "markdown",
   "id": "aab1de91",
   "metadata": {},
   "source": [
    "### Dataloader"
   ]
  },
  {
   "cell_type": "code",
   "execution_count": 264,
   "id": "3fc1271d",
   "metadata": {},
   "outputs": [],
   "source": [
    "MAX_PATCHES = 1024 # make it 2048 for base and 4096 for large\n",
    "\n",
    "class VQADataset(Dataset):\n",
    "    def __init__(self, dataset, processor):\n",
    "        self.dataset = dataset\n",
    "        self.processor = processor\n",
    "\n",
    "    def __len__(self):\n",
    "        return len(self.dataset)\n",
    "\n",
    "    def __gettext__(self, idx):\n",
    "        return len(self.dataset[idx].output.split(\" \"))\n",
    "    \n",
    "    def __getitem__(self, idx):\n",
    "        item = self.dataset[idx]\n",
    "        encoding = self.processor(images=item.image, return_tensors=\"pt\", add_special_tokens=True, max_patches=MAX_PATCHES)\n",
    "        \n",
    "        encoding = {k:v.squeeze() for k,v in encoding.items()}\n",
    "        encoding[\"text\"] = item.output\n",
    "        encoding[\"sample_num\"] = item.sample_num\n",
    "        return encoding"
   ]
  },
  {
   "cell_type": "markdown",
   "id": "0dd1b2ea",
   "metadata": {},
   "source": [
    "### Load model and processor"
   ]
  },
  {
   "cell_type": "code",
   "execution_count": 265,
   "id": "dc841fb2",
   "metadata": {},
   "outputs": [],
   "source": [
    "processor = AutoProcessor.from_pretrained(\"google/pix2struct-base\")\n",
    "model = Pix2StructForConditionalGeneration.from_pretrained(\"google/pix2struct-base\")\n",
    "# model.half()"
   ]
  },
  {
   "cell_type": "code",
   "execution_count": 266,
   "id": "72044de1",
   "metadata": {},
   "outputs": [],
   "source": [
    "a = torch.tensor([1.0, 2.0])"
   ]
  },
  {
   "cell_type": "code",
   "execution_count": 267,
   "id": "0c587643",
   "metadata": {},
   "outputs": [
    {
     "name": "stdout",
     "output_type": "stream",
     "text": [
      "tensor([1., 2.])\n",
      "<class 'torch.Tensor'>\n",
      "torch.float32\n",
      "torch.float16\n"
     ]
    }
   ],
   "source": [
    "print(a)\n",
    "print(type(a))\n",
    "print(a.dtype)\n",
    "a = a.half()\n",
    "print(a.dtype)"
   ]
  },
  {
   "cell_type": "code",
   "execution_count": 268,
   "id": "c74a6949",
   "metadata": {},
   "outputs": [],
   "source": [
    "# processor.image_processor.do_convert_rgb = False\n",
    "# processor.image_processor.do_normalize = False\n",
    "processor.image_processor.convert_fp16 = False"
   ]
  },
  {
   "cell_type": "markdown",
   "id": "a3d5987e",
   "metadata": {},
   "source": [
    "### Data Collator\n",
    "\n"
   ]
  },
  {
   "cell_type": "code",
   "execution_count": 455,
   "id": "ad55b8af",
   "metadata": {},
   "outputs": [],
   "source": [
    "def collator(batch):\n",
    "    new_batch = {\"flattened_patches\":[], \"attention_mask\":[]}\n",
    "    texts = [item[\"text\"] for item in batch]\n",
    "\n",
    "    text_inputs = processor(text=texts, padding=\"max_length\", return_tensors=\"pt\", add_special_tokens=True, max_length=512)\n",
    "    new_batch[\"labels\"] = text_inputs.input_ids\n",
    "\n",
    "    for item in batch:\n",
    "        new_batch[\"flattened_patches\"].append(item[\"flattened_patches\"])\n",
    "        new_batch[\"attention_mask\"].append(item[\"attention_mask\"])\n",
    "\n",
    "    new_batch[\"flattened_patches\"] = torch.stack(new_batch[\"flattened_patches\"])\n",
    "    new_batch[\"attention_mask\"] = torch.stack(new_batch[\"attention_mask\"])\n",
    "    new_batch[\"sample_num\"] = [item[\"sample_num\"] for item in batch]\n",
    "\n",
    "    return new_batch"
   ]
  },
  {
   "cell_type": "markdown",
   "id": "58f866b1",
   "metadata": {},
   "source": [
    "### Create the necessary variable"
   ]
  },
  {
   "cell_type": "code",
   "execution_count": 456,
   "id": "5c2d67e0",
   "metadata": {},
   "outputs": [],
   "source": [
    "minitrain_vqadataset = VQADataset(minitrain_dataset, processor)\n",
    "minitrain_dataloader = DataLoader(minitrain_vqadataset, shuffle=True, batch_size=1, collate_fn=collator)"
   ]
  },
  {
   "cell_type": "code",
   "execution_count": 457,
   "id": "2a9d4cb2",
   "metadata": {},
   "outputs": [],
   "source": [
    "data_sample = next(iter(minitrain_dataloader))"
   ]
  },
  {
   "cell_type": "code",
   "execution_count": 458,
   "id": "d7d8aae9",
   "metadata": {},
   "outputs": [
    {
     "data": {
      "text/plain": [
       "torch.Size([512])"
      ]
     },
     "execution_count": 458,
     "metadata": {},
     "output_type": "execute_result"
    }
   ],
   "source": [
    "data_sample[\"labels\"][0].shape"
   ]
  },
  {
   "cell_type": "code",
   "execution_count": 459,
   "id": "b89736b3",
   "metadata": {},
   "outputs": [],
   "source": [
    "minival_vqadataset = VQADataset(minival_dataset, processor)\n",
    "minival_dataloader = DataLoader(minival_vqadataset, shuffle=True, batch_size=2, collate_fn=collator)"
   ]
  },
  {
   "cell_type": "code",
   "execution_count": 460,
   "id": "d6b48dd0",
   "metadata": {},
   "outputs": [],
   "source": [
    "minitest_vqadataset = VQADataset(minitest_dataset, processor)\n",
    "minitest_dataloader = DataLoader(minitest_vqadataset, shuffle=True, batch_size=2, collate_fn=collator)"
   ]
  },
  {
   "cell_type": "markdown",
   "id": "b2c33517",
   "metadata": {},
   "source": [
    "## Evaluate Model"
   ]
  },
  {
   "cell_type": "code",
   "execution_count": 461,
   "id": "208cc84b",
   "metadata": {},
   "outputs": [],
   "source": [
    "def extract_explanation(text):\n",
    "    text = re.sub(r\"The answer is [A-Z]. BECAUSE: \", \"\", text)\n",
    "    return text\n"
   ]
  },
  {
   "cell_type": "code",
   "execution_count": 462,
   "id": "f03f3631",
   "metadata": {},
   "outputs": [],
   "source": [
    "def score_rouge(str1, str2):\n",
    "    rouge = Rouge(metrics=[\"rouge-l\"])\n",
    "    scores = rouge.get_scores(str1, str2, avg=True)\n",
    "    rouge_l = scores['rouge-l']['f']\n",
    "    return rouge_l"
   ]
  },
  {
   "cell_type": "code",
   "execution_count": 463,
   "id": "8e68fd82",
   "metadata": {},
   "outputs": [],
   "source": [
    "def calculate_rouge(results, data): # expects results to be dictionary\n",
    "    rouges = []\n",
    "    for qid, output in results.items():\n",
    "        prediction = extract_explanation(output)\n",
    "        target = data[qid][\"solution\"]\n",
    "        target = target.strip()\n",
    "        if prediction == \"\":\n",
    "            continue\n",
    "        if target == \"\":\n",
    "            continue\n",
    "        rouge = score_rouge(target, prediction)\n",
    "        rouges.append(rouge)\n",
    "\n",
    "    avg_rouge = sum(rouges) / len(rouges)\n",
    "    return avg_rouge"
   ]
  },
  {
   "cell_type": "code",
   "execution_count": 464,
   "id": "cf44e856",
   "metadata": {},
   "outputs": [],
   "source": [
    "def extract_answer(output):\n",
    "    pattern = re.compile(r'The answer is ([A-Z]).')\n",
    "#     print(output)\n",
    "#     print(type(output))\n",
    "#     print(pattern.findall(\"hello\"))\n",
    "    res = pattern.findall(output)\n",
    "    \n",
    "    if len(res) == 1:\n",
    "        answer = res[0]  # 'A', 'B', ...\n",
    "    else:\n",
    "        answer = \"FAILED\"\n",
    "    return answer"
   ]
  },
  {
   "cell_type": "code",
   "execution_count": 465,
   "id": "b57dedf9",
   "metadata": {},
   "outputs": [],
   "source": [
    "def get_pred_idx(prediction, choices, options):\n",
    "    \"\"\"\n",
    "    Get the index (e.g. 2) from the prediction (e.g. 'C')\n",
    "    \"\"\"\n",
    "    if prediction in options[:len(choices)]:\n",
    "#         print(\"options pred: \", options.index(prediction))\n",
    "        return options.index(prediction)\n",
    "    else:\n",
    "#         print(\"rand choice: \", random.choice(range(len(choices))), type(random.choice(range(len(choices)))))\n",
    "        return random.choice(range(len(choices)))"
   ]
  },
  {
   "cell_type": "code",
   "execution_count": 478,
   "id": "cc6ef3a2",
   "metadata": {},
   "outputs": [],
   "source": [
    "def calculate_acc(results, data, options=None):\n",
    "    acc = []\n",
    "    for qid, output in results.items():\n",
    "        prediction = get_pred_idx(extract_answer(output), \\\n",
    "                                             data[qid][\"choices\"], options = options)\n",
    "#         print(\"target-answer: \", data[qid][\"answer\"], type(data[qid][\"answer\"]))\n",
    "        target = data[qid][\"answer\"]\n",
    "\n",
    "        if prediction == \"\":\n",
    "            continue\n",
    "        if target == \"\":\n",
    "            continue\n",
    "        acc.append(prediction == target)\n",
    "\n",
    "    avg_acc = sum(acc) / len(acc)\n",
    "    return avg_acc"
   ]
  },
  {
   "cell_type": "code",
   "execution_count": 479,
   "id": "54a33093",
   "metadata": {},
   "outputs": [],
   "source": [
    "def create_result_dict(result_list, qids):\n",
    "    return dict([(qids[i], result_list[i]) \\\n",
    "                           for i in range(len(result_list))])"
   ]
  },
  {
   "cell_type": "code",
   "execution_count": 480,
   "id": "229f0604",
   "metadata": {},
   "outputs": [],
   "source": [
    "def create_dummy_example(problem_list, sample_num=1, output_format=\"AE\", options = None):\n",
    "    \n",
    "    if np.random.randint(1, len(problem_list)+1)/50 > 0.5:\n",
    "        new_sample_num = sample_num\n",
    "    else:\n",
    "        new_sample_num = np.random.randint(1, len(problem_list)+1)\n",
    "    \n",
    "    # Outputs\n",
    "    if output_format == 'A':\n",
    "        output = f\"Answer: The answer is {problem_list[new_sample_num]['answer']}.\"\n",
    "    elif output_format == 'AE':\n",
    "        output = f\"Answer: The answer is {problem_list[new_sample_num]['answer']}. BECAUSE: {problem_list[new_sample_num]['solution']}\"\n",
    "    elif output_format == 'EA':\n",
    "        output = f\"Answer: {problem_list[new_sample_num]['solution']} The answer is {problem_list[new_sample_num]['answer']}.\"\n",
    "\n",
    "    output = output.replace(\"  \", \" \").strip()\n",
    "    if output.endswith(\"BECAUSE:\"):\n",
    "        output = output.replace(\"BECAUSE:\", \"\").strip()\n",
    "    \n",
    "    return output"
   ]
  },
  {
   "cell_type": "code",
   "execution_count": 481,
   "id": "e99693a0",
   "metadata": {},
   "outputs": [],
   "source": [
    "# np.random.randint(0, 50)/50"
   ]
  },
  {
   "cell_type": "code",
   "execution_count": 482,
   "id": "5b5dcc48",
   "metadata": {},
   "outputs": [],
   "source": [
    "dummy_problem_list = problem_list[:50]"
   ]
  },
  {
   "cell_type": "code",
   "execution_count": 483,
   "id": "9ed30d39",
   "metadata": {},
   "outputs": [],
   "source": [
    "dummy_example_list = [create_dummy_example(dummy_problem_list, i+1, output_format=\"AE\", options=options) \\\n",
    "                      for i in range(len(dummy_problem_list))]"
   ]
  },
  {
   "cell_type": "code",
   "execution_count": 484,
   "id": "4794446a",
   "metadata": {},
   "outputs": [],
   "source": [
    "dummy_example_dict = create_result_dict(dummy_example_list, np.arange(1, len(dummy_example_list)+1))"
   ]
  },
  {
   "cell_type": "code",
   "execution_count": 485,
   "id": "469b0263",
   "metadata": {},
   "outputs": [],
   "source": [
    "# print(dummy_example_dict)"
   ]
  },
  {
   "cell_type": "code",
   "execution_count": 486,
   "id": "1586d3bb",
   "metadata": {},
   "outputs": [
    {
     "data": {
      "text/plain": [
       "0.2189008770326228"
      ]
     },
     "execution_count": 486,
     "metadata": {},
     "output_type": "execute_result"
    }
   ],
   "source": [
    "calculate_rouge(dummy_example_dict, dummy_problem_list)"
   ]
  },
  {
   "cell_type": "code",
   "execution_count": 487,
   "id": "930146cb",
   "metadata": {},
   "outputs": [
    {
     "data": {
      "text/plain": [
       "0.21428571428571427"
      ]
     },
     "execution_count": 487,
     "metadata": {},
     "output_type": "execute_result"
    }
   ],
   "source": [
    "calculate_acc(dummy_example_dict, dummy_problem_list, options)"
   ]
  },
  {
   "cell_type": "code",
   "execution_count": null,
   "id": "47c2ff3f",
   "metadata": {},
   "outputs": [],
   "source": []
  },
  {
   "cell_type": "code",
   "execution_count": 488,
   "id": "94b0b37d",
   "metadata": {},
   "outputs": [],
   "source": [
    "# problem_list[1][\"choices\"]"
   ]
  },
  {
   "cell_type": "markdown",
   "id": "17455294",
   "metadata": {},
   "source": [
    "## Train the model"
   ]
  },
  {
   "cell_type": "code",
   "execution_count": 489,
   "id": "2253cf37",
   "metadata": {},
   "outputs": [],
   "source": [
    "device = \"cuda\" if torch.cuda.is_available() else \"cpu\""
   ]
  },
  {
   "cell_type": "code",
   "execution_count": 490,
   "id": "4c74e9de",
   "metadata": {},
   "outputs": [],
   "source": [
    "# model"
   ]
  },
  {
   "cell_type": "code",
   "execution_count": 491,
   "id": "4ebef17a",
   "metadata": {},
   "outputs": [],
   "source": [
    "def training_loop(problem_list, train_dataloader, val_dataloader, epochs, lr, options, device, checkpoint_dir, log_epoch=2):\n",
    "    EPOCHS = epochs\n",
    "\n",
    "    optimizer = torch.optim.AdamW(model.parameters(), lr=lr)\n",
    "\n",
    "    device = device\n",
    "    model.to(device)\n",
    "\n",
    "    model.train()\n",
    "    \n",
    "    data_logger = {\n",
    "        \"accuracy_stats\":{\n",
    "        'train': [],\n",
    "        \"val\": []\n",
    "      },\n",
    "        \"rouge_stats\":{\n",
    "        'train': [],\n",
    "        \"val\": []\n",
    "       },\n",
    "      \"loss_stats\":{\n",
    "          'train': []\n",
    "      }\n",
    "    }\n",
    "    \n",
    "    for epoch in range(EPOCHS):\n",
    "\n",
    "        print(\"Epoch:\", epoch)\n",
    "        train_epoch_loss = 0.0\n",
    "\n",
    "        for idx, batch in enumerate(train_dataloader):\n",
    "            labels = batch.pop(\"labels\").to(device)\n",
    "            flattened_patches = batch.pop(\"flattened_patches\").to(device)\n",
    "            attention_mask = batch.pop(\"attention_mask\").to(device)\n",
    "\n",
    "            outputs = model(flattened_patches=flattened_patches,\n",
    "                            attention_mask=attention_mask,\n",
    "                            labels=labels)\n",
    "#             print(outputs)\n",
    "            loss = outputs.loss\n",
    "\n",
    "            print(\"Loss:\", loss.item())\n",
    "\n",
    "            loss.backward()\n",
    "\n",
    "            optimizer.step()\n",
    "            optimizer.zero_grad()\n",
    "            \n",
    "            train_epoch_loss += loss.item()\n",
    "            \n",
    "#             if (idx+1)% 2 ==0 :\n",
    "#                 break\n",
    "        \n",
    "        data_logger[\"loss_stats\"]['train'].append(train_epoch_loss/len(train_dataloader))\n",
    "        \n",
    "        if (epoch + 1) % log_epoch == 0:\n",
    "            with torch.no_grad():\n",
    "\n",
    "                train_results = []\n",
    "                train_qids = []\n",
    "                for j, train_batch in enumerate(train_dataloader):\n",
    "                    eflattened_patches = train_batch.pop(\"flattened_patches\").to(device)\n",
    "                    eattention_mask = train_batch.pop(\"attention_mask\").to(device)\n",
    "                    predictions = model.generate(flattened_patches=eflattened_patches, attention_mask=eattention_mask)   \n",
    "                    train_results+=predictions\n",
    "                    train_qids+=[b[\"sample_num\"] for b in train_batch]\n",
    "\n",
    "#                     print(\"Predictions:\", processor.batch_decode(predictions, skip_special_tokens=True))\n",
    "\n",
    "                train_result_dict = create_result_dict(train_results, train_qids)\n",
    "                data_logger[\"accuracy_stats\"]['train'].append(calculate_acc(train_result_dict, problem_list, options))\n",
    "                data_logger[\"rouge_stats\"]['train'].append(calculate_rouge(train_result_dict, problem_list))\n",
    "                \n",
    "                val_results = []\n",
    "                val_qids = []\n",
    "                for j, val_batch in enumerate(val_dataloader):\n",
    "                    eflattened_patches = val_batch.pop(\"flattened_patches\").to(device)\n",
    "                    eattention_mask = val_batch.pop(\"attention_mask\").to(device)\n",
    "                    predictions = model.generate(flattened_patches=eflattened_patches, attention_mask=eattention_mask)   \n",
    "                    val_results+=predictions\n",
    "                    val_qids+=[b[\"sample_num\"] for b in val_batch]\n",
    "\n",
    "#                     print(\"Predictions:\", processor.batch_decode(predictions, skip_special_tokens=True))\n",
    "\n",
    "                val_result_dict = create_result_dict(val_results, val_qids)\n",
    "                data_logger[\"accuracy_stats\"]['val'].append(calculate_acc(val_result_dict, problem_list, options))\n",
    "                data_logger[\"rouge_stats\"]['val'].append(calculate_rouge(val_result_dict, problem_list))\n",
    "\n",
    "\n",
    "            model.train()\n",
    "            \n",
    "    return data_logger\n"
   ]
  },
  {
   "cell_type": "code",
   "execution_count": 446,
   "id": "586ec1ba",
   "metadata": {},
   "outputs": [],
   "source": [
    "# a = []\n",
    "# for i in range(10):\n",
    "#     a += [2,2]\n",
    "# print(a)"
   ]
  },
  {
   "cell_type": "code",
   "execution_count": 447,
   "id": "28d90586",
   "metadata": {},
   "outputs": [],
   "source": [
    "# processor"
   ]
  },
  {
   "cell_type": "code",
   "execution_count": 448,
   "id": "2072cc7d",
   "metadata": {},
   "outputs": [],
   "source": [
    "epochs = 4\n",
    "lr = 1e-5\n",
    "checkpoint_dir = os.path.join(os.getcwd(),\"results\", \"checkpoints\")"
   ]
  },
  {
   "cell_type": "code",
   "execution_count": 449,
   "id": "3ceae56c",
   "metadata": {},
   "outputs": [
    {
     "name": "stdout",
     "output_type": "stream",
     "text": [
      "Epoch: 0\n",
      "Loss: 35.94094467163086\n",
      "Loss: 34.90445327758789\n"
     ]
    }
   ],
   "source": [
    "data_logger = training_loop(problem_list, minitrain_dataloader, minival_dataloader, \n",
    "              epochs, lr, options, device, checkpoint_dir, log_epoch=2)"
   ]
  },
  {
   "cell_type": "code",
   "execution_count": null,
   "id": "4473886c",
   "metadata": {},
   "outputs": [],
   "source": []
  },
  {
   "cell_type": "markdown",
   "id": "47775308",
   "metadata": {},
   "source": [
    "## Inference Code"
   ]
  },
  {
   "cell_type": "code",
   "execution_count": 501,
   "id": "5b39923b",
   "metadata": {},
   "outputs": [],
   "source": [
    "def model_loader(params):\n",
    "    # create net\n",
    "#     net = params[\"model_fn\"]()\n",
    "    net = params[\"model\"]\n",
    "    net.to(params[\"device\"])\n",
    "\n",
    "    # load weights from VAE_classifier_autocoder model and freeze those layers\n",
    "    checkpoint_path = os.path.join(params[\"output_dir\"], params[\"checkpoint_name\"])\n",
    "    net.load_state_dict(torch.load(checkpoint_path, map_location = params[\"device\"])[\"model_state_dict\"])\n",
    "    return net"
   ]
  },
  {
   "cell_type": "code",
   "execution_count": 502,
   "id": "933585e7",
   "metadata": {},
   "outputs": [],
   "source": [
    "def get_subset_results(params):\n",
    "    \n",
    "    # load model\n",
    "    net = model_loader(params)\n",
    "    \n",
    "    # predict outputs\n",
    "    results = [] # change code here\n",
    "    qids = []\n",
    "    for idx, batch in enumerate(params[\"dataloader\"]):\n",
    "        eflattened_patches = batch.pop(\"flattened_patches\").to(device)\n",
    "        eattention_mask = batch.pop(\"attention_mask\").to(device)\n",
    "        predictions = model.generate(flattened_patches=eflattened_patches, attention_mask=eattention_mask)   \n",
    "        text_predictions = processor.batch_decode(predictions, skip_special_tokens=True)\n",
    "        results+=text_predictions\n",
    "        qids+=batch['sample_num']\n",
    "        if (idx+1)%100 == 0:\n",
    "            print(f\"{params['datasplit']} {idx+1}\")\n",
    "\n",
    "    # create results dict\n",
    "    results_dict = create_result_dict(results, qids)\n",
    "    \n",
    "    # calculate average rouge-L and accuracy\n",
    "    avg_acc = calculate_acc(results_dict, params[\"problem_list\"], params[\"options\"])\n",
    "    \n",
    "    avg_rouge = calculate_rouge(results_dict, params[\"problem_list\"])\n",
    "    \n",
    "    print(f\"Average accuracy: {avg_acc} \\n Average Rouge-L score: {avg_rouge}\")\n",
    "    \n",
    "    return avg_acc, avg_rouge"
   ]
  },
  {
   "cell_type": "code",
   "execution_count": 505,
   "id": "9b96f11c",
   "metadata": {},
   "outputs": [],
   "source": [
    "params = {\n",
    "    \"model\": Pix2StructForConditionalGeneration.from_pretrained(\"google/pix2struct-base\"),\n",
    "    \"device\": device,\n",
    "    \"output_dir\":os.path.join(os.getcwd(), \"results\", \"checkpoints\"),\n",
    "    \"checkpoint_name\":\"pix2struct_sqa_1024_512_5.pt\",\n",
    "    \"problem_list\":problem_list,\n",
    "    \"dataloader\":minival_dataloader,\n",
    "    \"datasplit\":\"minival\",\n",
    "    \"options\":options\n",
    "}"
   ]
  },
  {
   "cell_type": "code",
   "execution_count": 506,
   "id": "9c7238a3",
   "metadata": {},
   "outputs": [
    {
     "name": "stdout",
     "output_type": "stream",
     "text": [
      "minival 100\n",
      "minival 200\n",
      "Average accuracy: 0.41509433962264153 \n",
      " Average Rouge-L score: 0.025421022055376396\n"
     ]
    }
   ],
   "source": [
    "avg_acc, avg_rouge = get_subset_results(params)"
   ]
  },
  {
   "cell_type": "markdown",
   "id": "b5ffd8d6",
   "metadata": {},
   "source": [
    "# Playground"
   ]
  },
  {
   "cell_type": "markdown",
   "id": "7a4441ed",
   "metadata": {},
   "source": [
    "## POC train/test data and training and inference"
   ]
  },
  {
   "cell_type": "markdown",
   "id": "30f01ba1",
   "metadata": {},
   "source": [
    "### Science QA code"
   ]
  },
  {
   "cell_type": "code",
   "execution_count": null,
   "id": "bd957eef",
   "metadata": {},
   "outputs": [],
   "source": [
    "def get_question_text(problem):\n",
    "    question = problem['question']\n",
    "    return question\n"
   ]
  },
  {
   "cell_type": "code",
   "execution_count": null,
   "id": "e0da89ff",
   "metadata": {},
   "outputs": [],
   "source": [
    "get_question_text(problem_list[1])"
   ]
  },
  {
   "cell_type": "code",
   "execution_count": null,
   "id": "53651e98",
   "metadata": {},
   "outputs": [],
   "source": [
    "def get_context_text(problem_list, captions_dict, sample_number, use_caption = True):\n",
    "    txt_context = problem_list[sample_number]['hint']\n",
    "    img_context = captions_dict[sample_number] if use_caption and sample_number in captions_dict else \"\"\n",
    "    context = \" \".join([txt_context, img_context]).strip()\n",
    "    if context == \"\":\n",
    "        context = \"N/A\"\n",
    "    return context"
   ]
  },
  {
   "cell_type": "code",
   "execution_count": null,
   "id": "92482694",
   "metadata": {},
   "outputs": [],
   "source": [
    "get_context_text(problem_list, captions_dict, 4)"
   ]
  },
  {
   "cell_type": "code",
   "execution_count": null,
   "id": "839b3e60",
   "metadata": {},
   "outputs": [],
   "source": [
    "options = [\"A\", \"B\", \"C\", \"D\", \"E\"]"
   ]
  },
  {
   "cell_type": "code",
   "execution_count": null,
   "id": "02e461ad",
   "metadata": {},
   "outputs": [],
   "source": [
    "def get_choice_text(problem, options, verbose = False):\n",
    "    choices = problem['choices']\n",
    "    choice_list = []\n",
    "    for i, c in enumerate(choices):\n",
    "        choice_list.append(\"({}) {}\".format(options[i], c))\n",
    "    choice_txt = \" \".join(choice_list)\n",
    "    if verbose:\n",
    "        print(choice_txt)\n",
    "    \n",
    "    return choice_txt"
   ]
  },
  {
   "cell_type": "code",
   "execution_count": null,
   "id": "f5a5d1e9",
   "metadata": {},
   "outputs": [],
   "source": [
    "choice_txt = get_choice_text(problem_list[1], options)"
   ]
  },
  {
   "cell_type": "code",
   "execution_count": null,
   "id": "d0d96788",
   "metadata": {},
   "outputs": [],
   "source": [
    "def get_answer(problem, options):\n",
    "    return options[problem['answer']]"
   ]
  },
  {
   "cell_type": "markdown",
   "id": "091dc5f0",
   "metadata": {},
   "source": [
    "### Create dataset"
   ]
  },
  {
   "cell_type": "code",
   "execution_count": null,
   "id": "526a7be2",
   "metadata": {},
   "outputs": [],
   "source": [
    "def create_one_example(problem_list, img_filename=\"\", sample_num=1, output_format=\"AE\", options = None):\n",
    "    \n",
    "    # header text\n",
    "    header_text = problem_list[sample_num][\"question\"] + \" \" + get_choice_text(problem_list[sample_num], options)\n",
    "    \n",
    "    #input\n",
    "    image = Image.open(f\"{img_filename}.jpg\")\n",
    "    \n",
    "    # Outputs\n",
    "    if output_format == 'A':\n",
    "        output = f\"Answer: The answer is {problem_list[sample_num]['answer']}.\"\n",
    "    elif output_format == 'AE':\n",
    "        output = f\"Answer: The answer is {problem_list[sample_num]['answer']}. BECAUSE: {problem_list[sample_num]['solution']}\"\n",
    "    elif output_format == 'EA':\n",
    "        output = f\"Answer: {problem_list[sample_num]['solution']} The answer is {problem_list[sample_num]['answer']}.\"\n",
    "\n",
    "    output = output.replace(\"  \", \" \").strip()\n",
    "    if output.endswith(\"BECAUSE:\"):\n",
    "        output = output.replace(\"BECAUSE:\", \"\").strip()\n",
    "    \n",
    "    example = (header_text, image, output)\n",
    "    return example"
   ]
  },
  {
   "cell_type": "code",
   "execution_count": null,
   "id": "76579952",
   "metadata": {},
   "outputs": [],
   "source": [
    "sample_num = 1\n",
    "test_image_filename = os.path.join(os.getcwd(), \"data\", \"html_files\",f\"{problem_list[sample_num]['split']}_{sample_num}\")"
   ]
  },
  {
   "cell_type": "code",
   "execution_count": null,
   "id": "65d2643b",
   "metadata": {},
   "outputs": [],
   "source": [
    "test_example = create_one_example(problem_list, img_filename=test_image_filename, \\\n",
    "                                  sample_num=sample_num, output_format=\"AE\", options = options)"
   ]
  },
  {
   "cell_type": "code",
   "execution_count": null,
   "id": "ed2a94ee",
   "metadata": {},
   "outputs": [],
   "source": [
    "print(test_example[0])\n",
    "test_example[1].show()\n",
    "print(test_example[2])"
   ]
  },
  {
   "cell_type": "markdown",
   "id": "6d30f026",
   "metadata": {},
   "source": [
    "### training / inference "
   ]
  },
  {
   "cell_type": "code",
   "execution_count": null,
   "id": "1dd16422",
   "metadata": {},
   "outputs": [],
   "source": [
    "processor = AutoProcessor.from_pretrained(\"google/pix2struct-docvqa-base\")\n",
    "model = Pix2StructForConditionalGeneration.from_pretrained(\"google/pix2struct-docvqa-base\")\n",
    "\n",
    "# # google/pix2struct-ai2d-base , google/pix2struct-docvqa-base\n",
    "\n",
    "# url = \"https://www.ilankelman.org/stopsigns/australia.jpg\"\n",
    "# image = Image.open(requests.get(url, stream=True).raw)\n",
    "\n",
    "# inputs = processor(images=image, return_tensors=\"pt\")\n",
    "\n",
    "# # autoregressive generation\n",
    "# generated_ids = model.generate(**inputs, max_new_tokens=50)\n",
    "# generated_text = processor.batch_decode(generated_ids, skip_special_tokens=True)[0]\n",
    "# print(generated_text)\n",
    "# # A stop sign is on a street corner."
   ]
  },
  {
   "cell_type": "code",
   "execution_count": null,
   "id": "44b17dcf",
   "metadata": {},
   "outputs": [],
   "source": [
    "sample_num = 21\n",
    "test_image_filename = os.path.join(os.getcwd(), \"data\", \"new_data\", \"train\",f\"{problem_list[sample_num]['split']}_{sample_num}\")"
   ]
  },
  {
   "cell_type": "code",
   "execution_count": null,
   "id": "0ea2252c",
   "metadata": {},
   "outputs": [],
   "source": [
    "test_example = create_one_example(problem_list, img_filename=test_image_filename, \\\n",
    "                                  sample_num=sample_num, output_format=\"AE\", options = options)"
   ]
  },
  {
   "cell_type": "code",
   "execution_count": null,
   "id": "fadcf26a",
   "metadata": {},
   "outputs": [],
   "source": [
    "print(type(test_example[1]))"
   ]
  },
  {
   "cell_type": "code",
   "execution_count": null,
   "id": "90b21914",
   "metadata": {},
   "outputs": [],
   "source": [
    "processed_example = processor(images=test_example[1], text=\"\", return_tensors=\"pt\")"
   ]
  },
  {
   "cell_type": "code",
   "execution_count": null,
   "id": "23603eca",
   "metadata": {},
   "outputs": [],
   "source": []
  },
  {
   "cell_type": "code",
   "execution_count": null,
   "id": "f5999d02",
   "metadata": {},
   "outputs": [],
   "source": [
    "print(processed_example.keys())"
   ]
  },
  {
   "cell_type": "code",
   "execution_count": null,
   "id": "26eec1ec",
   "metadata": {},
   "outputs": [],
   "source": [
    "# autoregressive generation\n",
    "generated_ids = model.generate(**processed_example, max_new_tokens=50)\n",
    "generated_text = processor.batch_decode(generated_ids, skip_special_tokens=True)[0]\n",
    "print(generated_text)"
   ]
  },
  {
   "cell_type": "code",
   "execution_count": null,
   "id": "598c26ee",
   "metadata": {},
   "outputs": [],
   "source": [
    "print(test_example[0])\n",
    "print(test_example[2])"
   ]
  },
  {
   "cell_type": "markdown",
   "id": "b33080d5",
   "metadata": {},
   "source": [
    "## Finding max token length"
   ]
  },
  {
   "cell_type": "code",
   "execution_count": null,
   "id": "cb8b238d",
   "metadata": {},
   "outputs": [],
   "source": [
    "processor = AutoProcessor.from_pretrained(\"google/pix2struct-base\")\n",
    "model = Pix2StructForConditionalGeneration.from_pretrained(\"google/pix2struct-base\")"
   ]
  },
  {
   "cell_type": "code",
   "execution_count": null,
   "id": "7e46886d",
   "metadata": {},
   "outputs": [],
   "source": [
    "def get_text_stats(dataloader):\n",
    "    max_token_count = 0\n",
    "    \n",
    "    for idx, batch in enumerate(dataloader):\n",
    "        batch[\"labels\"][0].shape[0]\n",
    "\n",
    "        if text_inputs[\"labels\"][0].shape[0] > max_token_count:\n",
    "            max_token_count = text_inputs[\"labels\"][0].shape[0]\n",
    "    \n",
    "    print(max_token_count)"
   ]
  },
  {
   "cell_type": "code",
   "execution_count": null,
   "id": "407833ba",
   "metadata": {},
   "outputs": [],
   "source": [
    "get_text_stats(problem_list)"
   ]
  },
  {
   "cell_type": "code",
   "execution_count": null,
   "id": "57a167a2",
   "metadata": {},
   "outputs": [],
   "source": []
  },
  {
   "cell_type": "markdown",
   "id": "5251701e",
   "metadata": {},
   "source": [
    "## Convert HTML to image Html2Image - Failed"
   ]
  },
  {
   "cell_type": "code",
   "execution_count": null,
   "id": "5829a124",
   "metadata": {},
   "outputs": [],
   "source": [
    "hti = Html2Image()"
   ]
  },
  {
   "cell_type": "code",
   "execution_count": null,
   "id": "be09ae54",
   "metadata": {},
   "outputs": [],
   "source": [
    "test_html_filename = os.path.join(os.getcwd(), \"data\", \"html_files\",f\"{pids[1]['split']}_{1}\")\n",
    "test_image_output_filename = f\"{pids[1]['split']}_{1}\""
   ]
  },
  {
   "cell_type": "code",
   "execution_count": null,
   "id": "19bec216",
   "metadata": {},
   "outputs": [],
   "source": [
    "hti.screenshot(\n",
    "    html_file=f'{test_html_filename}.html',\n",
    "    save_as=f'{test_image_output_filename}.jpg'\n",
    ")"
   ]
  },
  {
   "cell_type": "markdown",
   "id": "9f94e873",
   "metadata": {},
   "source": [
    "## pdf2image fail"
   ]
  },
  {
   "cell_type": "code",
   "execution_count": null,
   "id": "add9cb78",
   "metadata": {},
   "outputs": [],
   "source": [
    "test_html_filename = os.path.join(os.getcwd(), \"data\", \"html_files\",f\"{pids[1]['split']}_{1}\")\n",
    "test_image_output_filename = f\"{pids[1]['split']}_{1}\""
   ]
  },
  {
   "cell_type": "code",
   "execution_count": null,
   "id": "7e87a3ce",
   "metadata": {},
   "outputs": [],
   "source": [
    "# Store Pdf with convert_from_path function\n",
    "print(f'{test_html_filename}.pdf')\n",
    "images = convert_from_path(f'{test_html_filename}.html')"
   ]
  },
  {
   "cell_type": "code",
   "execution_count": null,
   "id": "76344a07",
   "metadata": {},
   "outputs": [],
   "source": [
    "for i in range(len(images)):\n",
    "\n",
    "    # Save pages as images in the pdf\n",
    "    images[i].save('page'+ str(i) +'.jpg', 'JPEG')\n"
   ]
  },
  {
   "cell_type": "code",
   "execution_count": null,
   "id": "d1eda7fb",
   "metadata": {},
   "outputs": [],
   "source": []
  },
  {
   "cell_type": "code",
   "execution_count": null,
   "id": "f72fe76f",
   "metadata": {},
   "outputs": [],
   "source": []
  }
 ],
 "metadata": {
  "kernelspec": {
   "display_name": "Python 3 (ipykernel)",
   "language": "python",
   "name": "python3"
  },
  "language_info": {
   "codemirror_mode": {
    "name": "ipython",
    "version": 3
   },
   "file_extension": ".py",
   "mimetype": "text/x-python",
   "name": "python",
   "nbconvert_exporter": "python",
   "pygments_lexer": "ipython3",
   "version": "3.10.10"
  }
 },
 "nbformat": 4,
 "nbformat_minor": 5
}
