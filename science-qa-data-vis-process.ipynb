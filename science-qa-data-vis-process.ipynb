{
 "cells": [
  {
   "cell_type": "markdown",
   "id": "f064f282",
   "metadata": {},
   "source": [
    "# Import modules"
   ]
  },
  {
   "cell_type": "code",
   "execution_count": 1,
   "id": "2969792c",
   "metadata": {},
   "outputs": [
    {
     "name": "stderr",
     "output_type": "stream",
     "text": [
      "/Users/rohanwadhawan/miniconda3/envs/nlg/lib/python3.10/site-packages/tqdm/auto.py:21: TqdmWarning: IProgress not found. Please update jupyter and ipywidgets. See https://ipywidgets.readthedocs.io/en/stable/user_install.html\n",
      "  from .autonotebook import tqdm as notebook_tqdm\n"
     ]
    }
   ],
   "source": [
    "import os\n",
    "import numpy as np\n",
    "import torch\n",
    "import os\n",
    "import re\n",
    "import json\n",
    "import argparse\n",
    "import pandas as pd\n",
    "import random\n",
    "from transformers import T5Tokenizer, DataCollatorForSeq2Seq, Seq2SeqTrainingArguments, Seq2SeqTrainer, T5ForConditionalGeneration\n",
    "from rich.table import Column, Table\n",
    "from rich import box\n",
    "from rich.console import Console\n",
    "console = Console(record=True)\n",
    "from torch import cuda\n",
    "import nltk\n",
    "import evaluate\n",
    "import pdfkit\n",
    "from pdf2image import convert_from_path\n",
    "import glob, sys, fitz\n",
    "from torch.utils.data import Dataset, DataLoader\n",
    "from collections import namedtuple\n",
    "\n",
    "from PIL import Image, ImageDraw, ImageOps, ImageFont\n",
    "import requests\n",
    "from transformers import AutoProcessor, Pix2StructForConditionalGeneration, Pix2StructConfig\n",
    "\n",
    "import textwrap\n",
    "import math\n",
    "\n",
    "import matplotlib.pyplot as plt\n",
    "from rouge import Rouge"
   ]
  },
  {
   "cell_type": "markdown",
   "id": "577830fc",
   "metadata": {},
   "source": [
    "# Data visualization"
   ]
  },
  {
   "cell_type": "code",
   "execution_count": 2,
   "id": "dba28e9c",
   "metadata": {},
   "outputs": [],
   "source": [
    "def read_captions():\n",
    "    captions_dict = dict(pd.read_json(os.path.join(os.getcwd(), \"data\", \"captions.json\"))[\"captions\"])\n",
    "    return captions_dict"
   ]
  },
  {
   "cell_type": "code",
   "execution_count": 3,
   "id": "b28f5352",
   "metadata": {},
   "outputs": [],
   "source": [
    "captions_dict = read_captions()"
   ]
  },
  {
   "cell_type": "code",
   "execution_count": 4,
   "id": "bf6a1fae",
   "metadata": {},
   "outputs": [],
   "source": [
    "def read_problem_list(captions_dict = None):\n",
    "    \n",
    "    problem_list = pd.read_json(os.path.join(os.getcwd(), \"data\", \"scienceqa\", \"problems.json\"))\n",
    "    return problem_list"
   ]
  },
  {
   "cell_type": "code",
   "execution_count": 5,
   "id": "f9501d4b",
   "metadata": {},
   "outputs": [],
   "source": [
    "problem_list = read_problem_list(captions_dict)"
   ]
  },
  {
   "cell_type": "code",
   "execution_count": 6,
   "id": "b84128eb",
   "metadata": {},
   "outputs": [
    {
     "data": {
      "text/plain": [
       "Int64Index([    1,     2,     3,     4,     5,     6,     7,     8,     9,\n",
       "               10,\n",
       "            ...\n",
       "            21199, 21200, 21201, 21202, 21203, 21204, 21205, 21206, 21207,\n",
       "            21208],\n",
       "           dtype='int64', length=21208)"
      ]
     },
     "execution_count": 6,
     "metadata": {},
     "output_type": "execute_result"
    }
   ],
   "source": [
    "problem_list.keys()"
   ]
  },
  {
   "cell_type": "code",
   "execution_count": 7,
   "id": "d94f9c53",
   "metadata": {},
   "outputs": [
    {
     "name": "stdout",
     "output_type": "stream",
     "text": [
      "image.png\n"
     ]
    }
   ],
   "source": [
    "print(problem_list[1][\"image\"])"
   ]
  },
  {
   "cell_type": "code",
   "execution_count": 8,
   "id": "4915ee99",
   "metadata": {},
   "outputs": [
    {
     "name": "stdout",
     "output_type": "stream",
     "text": [
      "train\n"
     ]
    }
   ],
   "source": [
    "print(problem_list[1][\"split\"])"
   ]
  },
  {
   "cell_type": "code",
   "execution_count": 9,
   "id": "c45ad588",
   "metadata": {},
   "outputs": [
    {
     "name": "stdout",
     "output_type": "stream",
     "text": [
      "closed choice\n"
     ]
    }
   ],
   "source": [
    "print(problem_list[1][\"task\"])"
   ]
  },
  {
   "cell_type": "code",
   "execution_count": 10,
   "id": "70df03d6",
   "metadata": {},
   "outputs": [
    {
     "name": "stdout",
     "output_type": "stream",
     "text": [
      "The passage below describes an experiment. Read the passage and then follow the instructions below.\n",
      "\n",
      "Tom placed a ping pong ball in a catapult, pulled the catapult's arm back to a 45° angle, and launched the ball. Then, Tom launched another ping pong ball, this time pulling the catapult's arm back to a 30° angle. With each launch, his friend Justin measured the distance between the catapult and the place where the ball hit the ground. Tom and Justin repeated the launches with ping pong balls in four more identical catapults. They compared the distances the balls traveled when launched from a 45° angle to the distances the balls traveled when launched from a 30° angle.\n",
      "Figure: a catapult for launching ping pong balls.\n"
     ]
    }
   ],
   "source": [
    "print(problem_list[2][\"hint\"])"
   ]
  },
  {
   "cell_type": "code",
   "execution_count": 11,
   "id": "1abdbdb2",
   "metadata": {},
   "outputs": [
    {
     "data": {
      "text/plain": [
       "21208"
      ]
     },
     "execution_count": 11,
     "metadata": {},
     "output_type": "execute_result"
    }
   ],
   "source": [
    "len(problem_list.keys())"
   ]
  },
  {
   "cell_type": "code",
   "execution_count": 12,
   "id": "c2e6ad1b",
   "metadata": {},
   "outputs": [
    {
     "name": "stdout",
     "output_type": "stream",
     "text": [
      "[2 3 4 5]\n"
     ]
    }
   ],
   "source": [
    "choice_len = []\n",
    "for i in range(len(problem_list.keys())):\n",
    "    choice_len.append(len(problem_list[i+1][\"choices\"]))\n",
    "print(np.unique(choice_len))\n",
    "#     print(problem_list[i+1][\"choices\"])"
   ]
  },
  {
   "cell_type": "code",
   "execution_count": 13,
   "id": "7da75ad9",
   "metadata": {},
   "outputs": [
    {
     "name": "stdout",
     "output_type": "stream",
     "text": [
      "0\n"
     ]
    }
   ],
   "source": [
    "print(problem_list[1][\"answer\"])"
   ]
  },
  {
   "cell_type": "code",
   "execution_count": 14,
   "id": "a53a6010",
   "metadata": {},
   "outputs": [
    {
     "name": "stdout",
     "output_type": "stream",
     "text": [
      "To find the answer, look at the compass rose. Look at which way the north arrow is pointing. West Virginia is farthest north.\n"
     ]
    }
   ],
   "source": [
    "print(problem_list[1][\"solution\"])"
   ]
  },
  {
   "cell_type": "code",
   "execution_count": 15,
   "id": "aadb835b",
   "metadata": {},
   "outputs": [
    {
     "name": "stdout",
     "output_type": "stream",
     "text": [
      "60\n"
     ]
    }
   ],
   "source": [
    "print(len((problem_list[1][\"lecture\"]).split(\" \")))"
   ]
  },
  {
   "cell_type": "code",
   "execution_count": 16,
   "id": "42b92482",
   "metadata": {},
   "outputs": [],
   "source": [
    "# problem_list[1]"
   ]
  },
  {
   "cell_type": "code",
   "execution_count": null,
   "id": "4a8c74e2",
   "metadata": {},
   "outputs": [],
   "source": []
  },
  {
   "cell_type": "markdown",
   "id": "fa1e9139",
   "metadata": {},
   "source": [
    "# Get specific data split data frames"
   ]
  },
  {
   "cell_type": "code",
   "execution_count": 17,
   "id": "0de1ea94",
   "metadata": {},
   "outputs": [],
   "source": [
    "def read_pid_splits():\n",
    "    with open(os.path.join(os.getcwd(), \"data\", \"scienceqa\", \"pid_splits.json\")) as json_file:\n",
    "        data = json.load(json_file)\n",
    "    return data"
   ]
  },
  {
   "cell_type": "code",
   "execution_count": 18,
   "id": "6d4870a2",
   "metadata": {},
   "outputs": [],
   "source": [
    "pid_splits = read_pid_splits()"
   ]
  },
  {
   "cell_type": "code",
   "execution_count": 19,
   "id": "7f51c686",
   "metadata": {},
   "outputs": [
    {
     "name": "stdout",
     "output_type": "stream",
     "text": [
      "dict_keys(['train', 'val', 'test', 'trainval', 'minitrain', 'minival', 'minitest', 'tiny_train', 'tiny_val', 'tiny_test'])\n"
     ]
    }
   ],
   "source": [
    "print(pid_splits.keys())"
   ]
  },
  {
   "cell_type": "code",
   "execution_count": 20,
   "id": "787ad1d5",
   "metadata": {},
   "outputs": [],
   "source": [
    "def get_specific_split(pid_splits, split_name=\"train\"):\n",
    "    return [int(i) for i in pid_splits[split_name]]"
   ]
  },
  {
   "cell_type": "code",
   "execution_count": 21,
   "id": "37d31690",
   "metadata": {},
   "outputs": [],
   "source": [
    "train_split = get_specific_split(pid_splits, split_name = \"train\")"
   ]
  },
  {
   "cell_type": "markdown",
   "id": "6538ac76",
   "metadata": {},
   "source": [
    "# Prepare HTML - JPEG content"
   ]
  },
  {
   "cell_type": "code",
   "execution_count": 22,
   "id": "d3b22a1e",
   "metadata": {},
   "outputs": [],
   "source": [
    "options = [\"A\", \"B\", \"C\", \"D\", \"E\"]"
   ]
  },
  {
   "cell_type": "code",
   "execution_count": 23,
   "id": "8ca589dc",
   "metadata": {},
   "outputs": [],
   "source": [
    "def create_question_tag():\n",
    "    question_tag = \"<h2>{question_content}</h2>\"\n",
    "    return question_tag"
   ]
  },
  {
   "cell_type": "code",
   "execution_count": 24,
   "id": "e220920b",
   "metadata": {},
   "outputs": [],
   "source": [
    "def create_choice_tag():\n",
    "    choice_tag = \"<h3>{choice_content}</h3>\"\n",
    "    return choice_tag"
   ]
  },
  {
   "cell_type": "code",
   "execution_count": 25,
   "id": "809a1af8",
   "metadata": {},
   "outputs": [],
   "source": [
    "def create_img_tag():\n",
    "    img_tag = '<img src=\"{img_source}\">'\n",
    "    return img_tag"
   ]
  },
  {
   "cell_type": "code",
   "execution_count": 26,
   "id": "d77377ec",
   "metadata": {},
   "outputs": [],
   "source": [
    "def create_context_tag():\n",
    "    context_tag = \"<p>{context_content}</p>\"\n",
    "    return context_tag"
   ]
  },
  {
   "cell_type": "code",
   "execution_count": 27,
   "id": "fe4541a4",
   "metadata": {},
   "outputs": [],
   "source": [
    "def create_lecture_tag():\n",
    "    lecture_tag = \"<p>{lecture_content}</p>\"\n",
    "    return lecture_tag"
   ]
  },
  {
   "cell_type": "code",
   "execution_count": 28,
   "id": "a53264af",
   "metadata": {},
   "outputs": [],
   "source": [
    "def get_choice_text(problem, options, verbose = False):\n",
    "    choices = problem['choices']\n",
    "    choice_list = []\n",
    "    for i, c in enumerate(choices):\n",
    "        choice_list.append(\"({}) {}\".format(options[i], c))\n",
    "    choice_txt = \" \".join(choice_list)\n",
    "    if verbose:\n",
    "        print(choice_txt)\n",
    "    \n",
    "    return choice_txt"
   ]
  },
  {
   "cell_type": "code",
   "execution_count": 29,
   "id": "712b4fa5",
   "metadata": {},
   "outputs": [],
   "source": [
    "def create_html_template_modular():\n",
    "    html_template = \\\n",
    "        '''\n",
    "            <html>\n",
    "                <body style=\"background-color:white;\">\n",
    "                    {question_tag}\n",
    "                    {choice_tag}\n",
    "                    {img_tag}\n",
    "                    {context_tag}\n",
    "                    {lecture_tag}\n",
    "                </body>\n",
    "            </html>\n",
    "        '''\n",
    "    return html_template"
   ]
  },
  {
   "cell_type": "code",
   "execution_count": 30,
   "id": "ad9b5030",
   "metadata": {},
   "outputs": [],
   "source": [
    "def create_html_template_modular_v2(tags=[]):\n",
    "    html_template = '<html> <body style=\"background-color:white;\">'\n",
    "    for tag in tags:\n",
    "        html_template += \"{\" + tag + \"}\"           \n",
    "    html_template+=\"</body></html>\"\n",
    "\n",
    "    return html_template"
   ]
  },
  {
   "cell_type": "code",
   "execution_count": 31,
   "id": "f385c57b",
   "metadata": {},
   "outputs": [],
   "source": [
    "def create_html_file_modular(params, df, sample_num=None, html_type=1):\n",
    "\n",
    "    # create individual tags\n",
    "    \n",
    "    # Question\n",
    "    if params[\"set_question_as_header\"] == False:\n",
    "        question_tag = create_question_tag().format(question_content = df[sample_num][\"question\"])\n",
    "        \n",
    "    else:\n",
    "        question_tag = \"\"\n",
    "        \n",
    "    # Choices\n",
    "    if params[\"set_question_as_header\"] == False:\n",
    "        choice_tag = create_choice_tag().format(choice_content = get_choice_text(df[sample_num], params[\"options\"]))\n",
    "        \n",
    "    else:\n",
    "        choice_tag = \"\"\n",
    "        \n",
    "    # Image source\n",
    "    if df[sample_num][\"image\"] is not None:\n",
    "        img_tag = create_img_tag().format(img_source = os.path.join(os.getcwd(), \"data\", df[sample_num][\"split\"], \\\n",
    "                              str(sample_num), df[sample_num]['image']))\n",
    "    else:\n",
    "        img_tag = \"\"\n",
    "\n",
    "    # Context\n",
    "    if df[sample_num][\"hint\"] is not None and params[\"skip_text_context\"] == False:\n",
    "        context_tag = create_context_tag().format(context_content = df[sample_num][\"hint\"])    \n",
    "    else:\n",
    "        context_tag = \"\"\n",
    "\n",
    "\n",
    "    # Lecture\n",
    "    if df[sample_num][\"lecture\"] is not None and params[\"skip_lecture\"] == False:\n",
    "        lecture_tag = create_lecture_tag().format(lecture_content = df[sample_num]['lecture']) \n",
    "\n",
    "    else:\n",
    "        lecture_tag = \"\"\n",
    "    \n",
    "    # compose tags to html\n",
    "    if html_type==1: # QM I CL\n",
    "        tags = [\"question_tag\", \"choice_tag\", \"img_tag\", \"context_tag\", \"lecture_tag\"]\n",
    "        \n",
    "    elif html_type==2: # QM CL I\n",
    "        tags = [\"question_tag\", \"choice_tag\", \"context_tag\", \"lecture_tag\", \"img_tag\"]\n",
    "    \n",
    "    elif html_type==3: # QM I\n",
    "        tags = [\"question_tag\", \"choice_tag\", \"img_tag\"]\n",
    "    \n",
    "    \n",
    "    final_html_file = create_html_template_modular_v2(tags).format(question_tag = question_tag, choice_tag = choice_tag, \\\n",
    "                                          img_tag = img_tag, context_tag = context_tag, \\\n",
    "                                          lecture_tag = lecture_tag)\n",
    "    \n",
    "    return final_html_file"
   ]
  },
  {
   "cell_type": "code",
   "execution_count": 32,
   "id": "61bab218",
   "metadata": {},
   "outputs": [],
   "source": [
    "params = {\n",
    "    \"set_question_as_header\": False,\n",
    "    \"skip_text_context\":False,\n",
    "    \"skip_lecture\":False,\n",
    "    \"options\":options\n",
    "}"
   ]
  },
  {
   "cell_type": "code",
   "execution_count": 33,
   "id": "f477024f",
   "metadata": {},
   "outputs": [],
   "source": [
    "test_html_file = create_html_file_modular(params, problem_list, sample_num=2)"
   ]
  },
  {
   "cell_type": "code",
   "execution_count": 34,
   "id": "c2005520",
   "metadata": {},
   "outputs": [
    {
     "name": "stdout",
     "output_type": "stream",
     "text": [
      "<html> <body style=\"background-color:white;\"><h2>Identify the question that Tom and Justin's experiment can best answer.</h2><h3>(A) Do ping pong balls stop rolling along the ground sooner after being launched from a 30° angle or a 45° angle? (B) Do ping pong balls travel farther when launched from a 30° angle compared to a 45° angle?</h3><img src=\"/Users/rohanwadhawan/Desktop/UCLA/research/peng-lab/eeevqa/data/train/2/image.png\"><p>The passage below describes an experiment. Read the passage and then follow the instructions below.\n",
      "\n",
      "Tom placed a ping pong ball in a catapult, pulled the catapult's arm back to a 45° angle, and launched the ball. Then, Tom launched another ping pong ball, this time pulling the catapult's arm back to a 30° angle. With each launch, his friend Justin measured the distance between the catapult and the place where the ball hit the ground. Tom and Justin repeated the launches with ping pong balls in four more identical catapults. They compared the distances the balls traveled when launched from a 45° angle to the distances the balls traveled when launched from a 30° angle.\n",
      "Figure: a catapult for launching ping pong balls.</p><p>Experiments can be designed to answer specific questions. How can you identify the questions that a certain experiment can answer? In order to do this, you need to figure out what was tested and what was measured during the experiment.\n",
      "Imagine an experiment with two groups of daffodil plants. One group of plants was grown in sandy soil, and the other was grown in clay soil. Then, the height of each plant was measured.\n",
      "First, identify the part of the experiment that was tested. The part of an experiment that is tested usually involves the part of the experimental setup that is different or changed. In the experiment described above, each group of plants was grown in a different type of soil. So, the effect of growing plants in different soil types was tested.\n",
      "Then, identify the part of the experiment that was measured. The part of the experiment that is measured may include measurements and calculations. In the experiment described above, the heights of the plants in each group were measured.\n",
      "Experiments can answer questions about how the part of the experiment that is tested affects the part that is measured. So, the experiment described above can answer questions about how soil type affects plant height.\n",
      "Examples of questions that this experiment can answer include:\n",
      "Does soil type affect the height of daffodil plants?\n",
      "Do daffodil plants in sandy soil grow taller than daffodil plants in clay soil?\n",
      "Are daffodil plants grown in sandy soil shorter than daffodil plants grown in clay soil?</p></body></html>\n"
     ]
    }
   ],
   "source": [
    "print(test_html_file)"
   ]
  },
  {
   "cell_type": "code",
   "execution_count": 35,
   "id": "2bc7e3c4",
   "metadata": {},
   "outputs": [],
   "source": [
    "def create_html_template(choice = None):\n",
    "    if choice is not None:\n",
    "        html_template = \\\n",
    "        '''\n",
    "            <html>\n",
    "                <img src=\"{img_source}\">\n",
    "                <p>\n",
    "                    {context}\n",
    "                </p>\n",
    "                <p>\n",
    "                    {lecture}\n",
    "                </p>\n",
    "            </html>\n",
    "        '''\n",
    "    else:\n",
    "        html_template = \\\n",
    "        '''\n",
    "            <html>\n",
    "                <p>\n",
    "                    {context}\n",
    "                </p>\n",
    "                <p>\n",
    "                    {lecture}\n",
    "                </p>\n",
    "            </html>\n",
    "        '''\n",
    "    return html_template"
   ]
  },
  {
   "cell_type": "code",
   "execution_count": 36,
   "id": "60223522",
   "metadata": {},
   "outputs": [
    {
     "name": "stdout",
     "output_type": "stream",
     "text": [
      "\n",
      "            <html>\n",
      "                <img src=\"{img_source}\">\n",
      "                <p>\n",
      "                    {context}\n",
      "                </p>\n",
      "                <p>\n",
      "                    {lecture}\n",
      "                </p>\n",
      "            </html>\n",
      "        \n"
     ]
    }
   ],
   "source": [
    "html_template = create_html_template(choice=\"img\")\n",
    "print(html_template)"
   ]
  },
  {
   "cell_type": "code",
   "execution_count": 37,
   "id": "8b5e3116",
   "metadata": {},
   "outputs": [],
   "source": [
    "def create_html_file(html_template, df, sample_num=None):\n",
    "\n",
    "    # Image source\n",
    "    img_source = os.path.join(os.getcwd(), \"data\", df[sample_num][\"split\"], \\\n",
    "                              str(sample_num), df[sample_num]['image']) \\\n",
    "                            if df[sample_num][\"image\"] is not None else \"\"\n",
    "\n",
    "    # Context\n",
    "    context = df[sample_num][\"hint\"] if df[sample_num][\"hint\"] is not None else \"\"\n",
    "\n",
    "    # Lecture\n",
    "    lecture = df[sample_num][\"lecture\"] if df[sample_num][\"lecture\"] is not None else \"\"\n",
    "\n",
    "    final_html_file = html_template.format(img_source = img_source, context = context, lecture = lecture)\n",
    "    return final_html_file\n"
   ]
  },
  {
   "cell_type": "code",
   "execution_count": 38,
   "id": "4fd8a992",
   "metadata": {},
   "outputs": [
    {
     "name": "stdout",
     "output_type": "stream",
     "text": [
      "<html> <body style=\"background-color:white;\"><h2>Identify the question that Tom and Justin's experiment can best answer.</h2><h3>(A) Do ping pong balls stop rolling along the ground sooner after being launched from a 30° angle or a 45° angle? (B) Do ping pong balls travel farther when launched from a 30° angle compared to a 45° angle?</h3><img src=\"/Users/rohanwadhawan/Desktop/UCLA/research/peng-lab/eeevqa/data/train/2/image.png\"><p>The passage below describes an experiment. Read the passage and then follow the instructions below.\n",
      "\n",
      "Tom placed a ping pong ball in a catapult, pulled the catapult's arm back to a 45° angle, and launched the ball. Then, Tom launched another ping pong ball, this time pulling the catapult's arm back to a 30° angle. With each launch, his friend Justin measured the distance between the catapult and the place where the ball hit the ground. Tom and Justin repeated the launches with ping pong balls in four more identical catapults. They compared the distances the balls traveled when launched from a 45° angle to the distances the balls traveled when launched from a 30° angle.\n",
      "Figure: a catapult for launching ping pong balls.</p><p>Experiments can be designed to answer specific questions. How can you identify the questions that a certain experiment can answer? In order to do this, you need to figure out what was tested and what was measured during the experiment.\n",
      "Imagine an experiment with two groups of daffodil plants. One group of plants was grown in sandy soil, and the other was grown in clay soil. Then, the height of each plant was measured.\n",
      "First, identify the part of the experiment that was tested. The part of an experiment that is tested usually involves the part of the experimental setup that is different or changed. In the experiment described above, each group of plants was grown in a different type of soil. So, the effect of growing plants in different soil types was tested.\n",
      "Then, identify the part of the experiment that was measured. The part of the experiment that is measured may include measurements and calculations. In the experiment described above, the heights of the plants in each group were measured.\n",
      "Experiments can answer questions about how the part of the experiment that is tested affects the part that is measured. So, the experiment described above can answer questions about how soil type affects plant height.\n",
      "Examples of questions that this experiment can answer include:\n",
      "Does soil type affect the height of daffodil plants?\n",
      "Do daffodil plants in sandy soil grow taller than daffodil plants in clay soil?\n",
      "Are daffodil plants grown in sandy soil shorter than daffodil plants grown in clay soil?</p></body></html>\n"
     ]
    }
   ],
   "source": [
    "final_html_file = create_html_file(test_html_file, problem_list, sample_num=1)\n",
    "print(final_html_file)"
   ]
  },
  {
   "cell_type": "code",
   "execution_count": 39,
   "id": "76fdae17",
   "metadata": {},
   "outputs": [],
   "source": [
    "def save_html_file(html_file, source, img_num, save_dir=\"\"):\n",
    "    with open(os.path.join(save_dir, f\"{source}_{img_num}.html\"), \"w\") as f:\n",
    "        f.writelines(html_file)"
   ]
  },
  {
   "cell_type": "code",
   "execution_count": 40,
   "id": "f09ca090",
   "metadata": {},
   "outputs": [],
   "source": [
    "save_html_file(test_html_file, source = problem_list[1][\"split\"], img_num=1, \\\n",
    "               save_dir=os.path.join(os.getcwd(), \"data\", \"html_files\"))"
   ]
  },
  {
   "cell_type": "markdown",
   "id": "79609616",
   "metadata": {},
   "source": [
    "## Convert to PDF using wkhtmltopdf and pdfkit"
   ]
  },
  {
   "cell_type": "code",
   "execution_count": 41,
   "id": "589457f5",
   "metadata": {},
   "outputs": [],
   "source": [
    "test_html_filename = os.path.join(os.getcwd(), \"data\", \"html_files\",f\"{problem_list[1]['split']}_{1}\")\n",
    "test_pdf_filename = os.path.join(os.getcwd(), \"data\", \"html_files\",f\"{problem_list[1]['split']}_{1}\")"
   ]
  },
  {
   "cell_type": "code",
   "execution_count": 42,
   "id": "e0817aa4",
   "metadata": {},
   "outputs": [],
   "source": [
    "def convert_html_to_pdf(path_to_inputfile, path_to_outputfile):\n",
    "    pdfkit.from_file(f'{path_to_inputfile}.html', f'{path_to_outputfile}.pdf')"
   ]
  },
  {
   "cell_type": "code",
   "execution_count": 43,
   "id": "cb9fcac3",
   "metadata": {},
   "outputs": [],
   "source": [
    "convert_html_to_pdf(test_html_filename, test_pdf_filename)"
   ]
  },
  {
   "cell_type": "markdown",
   "id": "a3e074a0",
   "metadata": {},
   "source": [
    "## Convert PDF to image "
   ]
  },
  {
   "cell_type": "code",
   "execution_count": 44,
   "id": "b90722c9",
   "metadata": {},
   "outputs": [],
   "source": [
    "test_pdf_filename = os.path.join(os.getcwd(), \"data\", \"html_files\",f\"{problem_list[1]['split']}_{1}\")\n",
    "test_image_filename = os.path.join(os.getcwd(), \"data\", \"html_files\",f\"{problem_list[1]['split']}_{1}\")"
   ]
  },
  {
   "cell_type": "code",
   "execution_count": 45,
   "id": "e96f3800",
   "metadata": {},
   "outputs": [],
   "source": [
    "def convert_pdf_to_image(path_to_inputfile, path_to_outputfile):\n",
    "    \n",
    "    # To get better resolution\n",
    "    zoom_x = 1.0  # horizontal zoom\n",
    "    zoom_y = 1.0  # vertical zoom\n",
    "    mat = fitz.Matrix(zoom_x, zoom_y)  # zoom factor 2 in each dimension\n",
    "\n",
    "    filename = f\"{path_to_inputfile}.pdf\"\n",
    "    doc = fitz.open(filename)  # open document\n",
    "    for page in doc:  # iterate through the pages\n",
    "        pix = page.get_pixmap(matrix=mat)  # render page to an image\n",
    "        pix.save(f\"{path_to_outputfile}.jpg\")  # store image as JPG"
   ]
  },
  {
   "cell_type": "code",
   "execution_count": 46,
   "id": "c55b513a",
   "metadata": {},
   "outputs": [],
   "source": [
    "convert_pdf_to_image(test_pdf_filename, test_image_filename)"
   ]
  },
  {
   "cell_type": "markdown",
   "id": "b1d4abe3",
   "metadata": {},
   "source": [
    "## Crop whitespace from image"
   ]
  },
  {
   "cell_type": "code",
   "execution_count": 47,
   "id": "69010b34",
   "metadata": {},
   "outputs": [],
   "source": [
    "def remove_white_space(filename, padding = 30, visualize = False):\n",
    "    \n",
    "    # Open input image\n",
    "    im = Image.open(filename)\n",
    "    \n",
    "    # Get bounding box of text and trim to it\n",
    "    bbox = ImageOps.invert(im).getbbox()\n",
    "    x, y = 0, 0\n",
    "    print(bbox)\n",
    "    x_, y_ = bbox[2], bbox[3] + padding\n",
    "    \n",
    "#     x_, y_ = im.size[0], bbox[3] + padding\n",
    "    new_bbox = bbox\n",
    "    print(new_bbox)\n",
    "    draw = ImageDraw.Draw(im)\n",
    "    draw.rectangle(new_bbox, fill=None, outline =\"red\", width=3)\n",
    "    im.show()\n",
    "    trimmed = im.crop(new_bbox)\n",
    "    trimmed.save(filename)\n",
    "    if visualize:\n",
    "        trimmed.show()"
   ]
  },
  {
   "cell_type": "code",
   "execution_count": 48,
   "id": "eb356af5",
   "metadata": {},
   "outputs": [
    {
     "name": "stdout",
     "output_type": "stream",
     "text": [
      "(16, 16, 576, 664)\n",
      "(16, 16, 576, 664)\n"
     ]
    }
   ],
   "source": [
    "remove_white_space(f\"{test_image_filename}.jpg\")"
   ]
  },
  {
   "cell_type": "code",
   "execution_count": 49,
   "id": "7a06647e",
   "metadata": {},
   "outputs": [],
   "source": [
    "# train 1, 2, 9, 10"
   ]
  },
  {
   "cell_type": "code",
   "execution_count": 213,
   "id": "6da803fc",
   "metadata": {},
   "outputs": [],
   "source": [
    "def render_text_on_image(image, header, text_context, params):\n",
    "    \"\"\"Renders a header and text context on a PIL image and returns a new PIL image.\"\"\"\n",
    "    params[\"is_text_context\"] = False\n",
    "    header_image = render_text(header, params)\n",
    "    image_type = params[\"image_type\"]\n",
    "    print(\"tc: \", r\"{}\".format(text_context))\n",
    "    if text_context!=\"\":\n",
    "        params[\"is_text_context\"] = True\n",
    "        print(type(text_context))\n",
    "        text_context_image = render_text(text_context, params)\n",
    "        print(\"here\")\n",
    "        \n",
    "    else:\n",
    "        image_type = 3\n",
    "        text_context_image = Image.new(\"RGB\",(1, 1),\"white\")\n",
    "        print(text_context_image.size, text_context_image.height)\n",
    "\n",
    "#     print(f\"image, header, text context = {image.size}, {header_image.size}, {text_context_image.size}\")\n",
    "    \n",
    "    new_width = max(max(header_image.width, text_context_image.width), image.width)\n",
    "        \n",
    "    new_height = image.height if image.height == 1 else int(image.height *  (new_width / image.width))\n",
    "    \n",
    "    new_header_height = int(\n",
    "      header_image.height * (new_width / header_image.width))\n",
    "    \n",
    "    new_text_context_height = text_context_image.height if text_context_image.height == 1 else int(\n",
    "      text_context_image.height * (new_width / text_context_image.width))\n",
    "    \n",
    "    print(new_text_context_height)\n",
    "    new_image = Image.new(\n",
    "      \"RGB\",\n",
    "      (new_width, new_height + new_header_height + new_text_context_height),\n",
    "      \"white\")\n",
    "\n",
    "    if image_type==1: # QM I CL\n",
    "\n",
    "        new_image.paste(header_image.resize((new_width, new_header_height)), (0, 0))\n",
    "        new_image.paste(image.resize((new_width, new_height)), (0, new_header_height))\n",
    "        new_image.paste(text_context_image.resize((new_width, new_text_context_height)), (0, new_header_height+new_height))\n",
    "        \n",
    "    elif image_type==2: # QM CL I\n",
    "        new_image.paste(header_image.resize((new_width, new_header_height)), (0, 0))\n",
    "        new_image.paste(text_context_image.resize((new_width, new_text_context_height)), (0, new_header_height))\n",
    "        new_image.paste(image.resize((new_width, new_height)), (0, new_header_height+new_text_context_height))\n",
    "        \n",
    "    elif image_type==3: # QM I\n",
    "        new_image.paste(header_image.resize((new_width, new_header_height)), (0, 0))\n",
    "        new_image.paste(image.resize((new_width, new_height)), (0, new_header_height))\n",
    "        \n",
    "    return new_image\n"
   ]
  },
  {
   "cell_type": "code",
   "execution_count": 214,
   "id": "bcf2320f",
   "metadata": {},
   "outputs": [],
   "source": [
    "def render_text(text,\n",
    "                params):\n",
    "    \n",
    "    \"\"\"Render text.\"\"\"\n",
    "    # Add new lines so that each line is no more than 80 characters.\n",
    "    wrapper = textwrap.TextWrapper(width=80)\n",
    "    lines = wrapper.wrap(text=text)\n",
    "    wrapped_text = \"\\n\".join(lines)\n",
    "    if params[\"is_text_context\"] == False:\n",
    "        font = ImageFont.truetype(os.path.join(params[\"path_to_font\"], \"arial.ttf\"), encoding=\"UTF-8\", size=params[\"header_size\"])\n",
    "    else:\n",
    "        font = ImageFont.truetype(os.path.join(params[\"path_to_font\"], \"arial.ttf\"), encoding=\"UTF-8\", size=params[\"text_context_size\"])\n",
    "    \n",
    "    # Use a temporary canvas to determine the width and height in pixels when\n",
    "    # rendering the text.\n",
    "    temp_draw = ImageDraw.Draw(Image.new(\"RGB\", (1, 1), params[\"background_color\"]))\n",
    "    _, _, text_width, text_height = temp_draw.textbbox((0, 0), wrapped_text, font)\n",
    "\n",
    "    # Create the actual image with a bit of padding around the text.\n",
    "    image_width = text_width + params[\"left_padding\"] + params[\"right_padding\"]\n",
    "    image_height = text_height + params[\"top_padding\"] + params[\"bottom_padding\"]\n",
    "    image = Image.new(\"RGB\", (image_width, image_height), params[\"background_color\"])\n",
    "    draw = ImageDraw.Draw(image)\n",
    "    \n",
    "    draw.text(\n",
    "      xy=(params[\"left_padding\"], params[\"top_padding\"]),\n",
    "      text=wrapped_text,\n",
    "      fill=params[\"text_color\"],\n",
    "      font=font)\n",
    "    \n",
    "    return image  "
   ]
  },
  {
   "cell_type": "code",
   "execution_count": 215,
   "id": "239b84b3",
   "metadata": {},
   "outputs": [
    {
     "data": {
      "text/plain": [
       "1048576"
      ]
     },
     "execution_count": 215,
     "metadata": {},
     "output_type": "execute_result"
    }
   ],
   "source": [
    "4096*256"
   ]
  },
  {
   "cell_type": "code",
   "execution_count": 216,
   "id": "5514c498",
   "metadata": {},
   "outputs": [],
   "source": [
    "def image_creator(image_dir, problem_list, sample_num=1, stats_dict=None, params=None):\n",
    "    \n",
    "    # Open input image\n",
    "    if os.path.exists(os.path.join(image_dir, str(sample_num), \"image.png\")):\n",
    "        im = Image.open(os.path.join(image_dir, str(sample_num), \"image.png\"))\n",
    "        if params[\"visualize\"]:\n",
    "            im.show()\n",
    "        \n",
    "    else:\n",
    "        im = Image.new(\"RGB\",(1, 1),\"white\")\n",
    "    \n",
    "    if params[\"analyze\"]:\n",
    "        stats_dict[\"original_size_w\"].append(im.size[0])\n",
    "        stats_dict[\"original_size_h\"].append(im.size[1])\n",
    "    \n",
    "    # combine question and choice, strip all leading and trailing spaces, \n",
    "    # remove all newlines\n",
    "    question_text = problem_list[sample_num][\"question\"]\n",
    "    choice_text = get_choice_text(problem_list[sample_num], options)\n",
    "    question_choice_text = question_text + \" \" + choice_text\n",
    "    print(question_choice_text)\n",
    "    # combine lecture and text context, strip all leading and trailing spaces, \n",
    "    # remove all newlines\n",
    "    hint_text = ' '.join(problem_list[sample_num][\"hint\"].split(\"/n\"))\n",
    "    lecture_text = ' '.join(problem_list[sample_num][\"lecture\"].split(\"/n\"))\n",
    "    hint_lecture_text = (hint_text + \" \" + lecture_text).strip()\n",
    "    print(hint_lecture_text)\n",
    "    \n",
    "    final_im = render_text_on_image(im, question_choice_text, hint_lecture_text, params)\n",
    "    \n",
    "    if params[\"analyze\"]:\n",
    "        final_w = final_im.size[0]\n",
    "        final_h = final_im.size[1]\n",
    "        if final_w * final_h > 4096*256:\n",
    "            print(final_w * final_h)\n",
    "            final_im.show()\n",
    "            max_ph = int(math.ceil((4096*256)/final_w))\n",
    "            test_resize = final_im.copy()\n",
    "            test_resize = test_resize.resize((final_w, max_ph))\n",
    "            test_resize.show()\n",
    "            \n",
    "            test_clip = final_im.copy()\n",
    "            test_clip = test_clip.crop((0, 0, final_w, max_ph))\n",
    "            test_clip.show()\n",
    "            stats_dict[\"ret\"] = True\n",
    "            return stats_dict\n",
    "        stats_dict[\"final_size_w\"].append(final_im.size[0])\n",
    "        stats_dict[\"final_size_h\"].append(final_im.size[1])\n",
    "    \n",
    "    if params[\"visualize\"]:\n",
    "        final_im.show()\n",
    "        \n",
    "    if params[\"save\"]:\n",
    "        final_im.save(params[\"save_path\"])\n",
    "        \n",
    "    return stats_dict"
   ]
  },
  {
   "cell_type": "code",
   "execution_count": 217,
   "id": "a0ae0a59",
   "metadata": {},
   "outputs": [],
   "source": [
    "# things to do\n",
    "'''\n",
    "resize to appropriate size, check pix2struct for this what max and min\n",
    "and average\n",
    "\n",
    "for only text based question change font size to 18\n",
    "'''\n",
    "params = {\n",
    "    \"header_size\":18,\n",
    "    \"text_context_size\":18,\n",
    "    \"text_color\":\"black\",\n",
    "    \"background_color\":\"white\",\n",
    "    \"left_padding\":5,\n",
    "    \"right_padding\":5,\n",
    "    \"top_padding\":5,\n",
    "    \"bottom_padding\":5,\n",
    "    \"image_type\":2,\n",
    "    \"path_to_font\":os.path.join(os.getcwd(), \"eeevqa\", \"assets\"),\n",
    "    \"visualize\":True,\n",
    "    \"analyze\":True,\n",
    "    \"source\":\"minitrain\",\n",
    "    \"save_dir\":os.path.join(os.getcwd(), \"data\", \"new_data\"),\n",
    "    \"sample_subset\":None, \n",
    "    \"save\":True,\n",
    "    \"save_path\":os.path.join(os.getcwd(), \"data\", \"test_images\",\"v2\",\"test_image1.jpg\"),\n",
    "}\n",
    "stats_dict = {\n",
    "    \"original_size_w\":[],\n",
    "    \"original_size_h\":[],\n",
    "    \"final_size_w\":[],\n",
    "    \"final_size_h\":[]\n",
    "}"
   ]
  },
  {
   "cell_type": "code",
   "execution_count": 218,
   "id": "dd5919d5",
   "metadata": {},
   "outputs": [],
   "source": [
    "image_dir = os.path.join(os.getcwd(),\"data\",\"train\")"
   ]
  },
  {
   "cell_type": "code",
   "execution_count": 557,
   "id": "599ed6e7",
   "metadata": {},
   "outputs": [
    {
     "name": "stdout",
     "output_type": "stream",
     "text": [
      "What can Debbie and Madelyn trade to each get what they want? (A) Madelyn can trade her broccoli for Debbie's oranges. (B) Debbie can trade her tomatoes for Madelyn's broccoli. (C) Debbie can trade her tomatoes for Madelyn's sandwich. (D) Madelyn can trade her almonds for Debbie's tomatoes.\n",
      "Trade happens when people agree to exchange goods and services. People give up something to get something else. Sometimes people barter, or directly exchange one good or service for another.\n",
      "Debbie and Madelyn open their lunch boxes in the school cafeteria. Both of them could be happier with their lunches. Debbie wanted broccoli in her lunch and Madelyn was hoping for tomatoes. Look at the images of their lunches. Then answer the question below.\n",
      "tc:  Trade happens when people agree to exchange goods and services. People give up something to get something else. Sometimes people barter, or directly exchange one good or service for another.\n",
      "Debbie and Madelyn open their lunch boxes in the school cafeteria. Both of them could be happier with their lunches. Debbie wanted broccoli in her lunch and Madelyn was hoping for tomatoes. Look at the images of their lunches. Then answer the question below.\n",
      "<class 'str'>\n",
      "here\n",
      "145\n"
     ]
    },
    {
     "data": {
      "text/plain": [
       "{'original_size_w': [378, 728, 425, 302, 364, 728, 728],\n",
       " 'original_size_h': [251, 266, 154, 232, 208, 174, 266],\n",
       " 'final_size_w': [643, 728, 658, 679, 637, 728, 728],\n",
       " 'final_size_h': [698, 513, 430, 1213, 489, 419, 513]}"
      ]
     },
     "execution_count": 557,
     "metadata": {},
     "output_type": "execute_result"
    }
   ],
   "source": [
    "# for idx in [1,3,9,10,12,17]:\n",
    "image_creator(image_dir, problem_list, sample_num=130, stats_dict=stats_dict, params=params)"
   ]
  },
  {
   "cell_type": "code",
   "execution_count": 57,
   "id": "6447ab58",
   "metadata": {},
   "outputs": [],
   "source": [
    "def convert_input_to_img_v2(problem_list, pid_splits, params=None):\n",
    "    \n",
    "    source = params[\"data_source\"]\n",
    "    idx_list = pid_splits[source] \n",
    "    idx_list = [int(idx) for idx in idx_list]\n",
    "    \n",
    "    if params[\"sample_subset\"] is not None:\n",
    "        idx_list = idx_list[:params[\"sample_subset\"]]\n",
    "        source = \"tiny_\" + source\n",
    "    \n",
    "    stats_dict = {\n",
    "        \"original_size_w\":[],\n",
    "        \"original_size_h\":[],\n",
    "        \"final_size_w\":[],\n",
    "        \"final_size_h\":[]\n",
    "    }\n",
    "    create save directory if it does not exist\n",
    "    \n",
    "    save_dir = os.path.join(save_dir, source)\n",
    "        \n",
    "    if os.path.exists(save_dir) == False:\n",
    "        os.makedirs(save_dir)\n",
    "        print(\"Save directory created\")\n",
    "    else:\n",
    "        print(\"Save directory already present\")\n",
    "        \n",
    "    image_dir = os.path.join(os.getcwd(),\"data\",params[\"data_split\"])\n",
    "    \n",
    "    for sample_num in idx_list:\n",
    "        \n",
    "        # call image converter\n",
    "        stats_dict = image_creator(image_dir, problem_list, sample_num=sample_num, stats_dict=stats_dict, params=params)\n",
    "        if \"ret\" in stats_dict:\n",
    "            return stats_dict\n",
    "    return stats_dict"
   ]
  },
  {
   "cell_type": "code",
   "execution_count": 58,
   "id": "ed321256",
   "metadata": {},
   "outputs": [],
   "source": [
    "params = {\n",
    "    \"header_size\":36,\n",
    "    \"text_context_size\":18,\n",
    "    \"text_color\":\"black\",\n",
    "    \"background_color\":\"white\",\n",
    "    \"left_padding\":5,\n",
    "    \"right_padding\":5,\n",
    "    \"top_padding\":5,\n",
    "    \"bottom_padding\":5,\n",
    "    \"image_type\":1,\n",
    "    \"path_to_font\":os.path.join(os.getcwd(), \"eeevqa\", \"assets\"),\n",
    "    \"visualize\":False,\n",
    "    \"analyze\":True,\n",
    "    \"data_split\":\"val\",\n",
    "    \"data_source\":\"minival\",\n",
    "    \"save_dir\":os.path.join(os.getcwd(), \"data\", \"new_data\"),\n",
    "    \"sample_subset\":None, \n",
    "}"
   ]
  },
  {
   "cell_type": "code",
   "execution_count": 59,
   "id": "fce785ef",
   "metadata": {},
   "outputs": [
    {
     "name": "stdout",
     "output_type": "stream",
     "text": [
      "What information supports the conclusion that Olivia inherited this trait? (A) Olivia's neighbor also has straight hair. (B) Olivia's biological parents have red hair. Olivia also has red hair. (C) Olivia's biological mother often wears her straight hair in a ponytail.\n",
      "Read the description of a trait.\n",
      "Olivia has straight hair. Organisms, including people, have both inherited and acquired traits. Inherited and acquired traits are gained in different ways.\n",
      "Inherited traits are passed down from biological parents to their offspring through genes. Genes are pieces of hereditary material that contain the instructions that affect inherited traits. Offspring receive their genes, and therefore gain their inherited traits, from their biological parents. Inherited traits do not need to be learned.\n",
      "Acquired traits are gained during a person's life. Some acquired traits, such as riding a bicycle, are gained by learning. Other acquired traits, such as scars, are caused by the environment. Parents do not pass acquired traits down to their offspring.\n",
      "tc:  Read the description of a trait.\n",
      "Olivia has straight hair. Organisms, including people, have both inherited and acquired traits. Inherited and acquired traits are gained in different ways.\n",
      "Inherited traits are passed down from biological parents to their offspring through genes. Genes are pieces of hereditary material that contain the instructions that affect inherited traits. Offspring receive their genes, and therefore gain their inherited traits, from their biological parents. Inherited traits do not need to be learned.\n",
      "Acquired traits are gained during a person's life. Some acquired traits, such as riding a bicycle, are gained by learning. Other acquired traits, such as scars, are caused by the environment. Parents do not pass acquired traits down to their offspring.\n",
      "<class 'str'>\n",
      "here\n",
      "464\n",
      "Based on the arrows, which of the following living things is a consumer? (A) kelp (B) kelp bass\n",
      "Below is a food web from an ocean ecosystem. The ecosystem is in Monterey Bay, off the coast of California.\n",
      "A food web is a model that shows how the matter eaten by living things moves through an ecosystem. The arrows show how matter moves through the food web. A food web is a model.\n",
      "Models can make things in nature easier to understand. Models can be simpler than the things they represent. A food web is a model that shows where living things in an ecosystem get their food. If a food web showed every living thing in an ecosystem, the food web would be hard to understand. So, each food web shows how some living things in an ecosystem can get their food.\n",
      "Arrows show how matter moves.\n",
      "A food web has arrows that point from one living thing to another. Each arrow shows the direction that matter moves when one living thing eats another living thing. An arrow starts from the living thing that is eaten. The arrow points to the living thing that is doing the eating.\n",
      "A living thing in a food web can have more than one arrow pointing from it. This shows that the living thing is eaten by more than one other living thing in the food web.\n",
      "A living thing in a food web can also have more than one arrow pointing to it. This shows that the living thing eats more than one other living thing in the food web.\n",
      "tc:  Below is a food web from an ocean ecosystem. The ecosystem is in Monterey Bay, off the coast of California.\n",
      "A food web is a model that shows how the matter eaten by living things moves through an ecosystem. The arrows show how matter moves through the food web. A food web is a model.\n",
      "Models can make things in nature easier to understand. Models can be simpler than the things they represent. A food web is a model that shows where living things in an ecosystem get their food. If a food web showed every living thing in an ecosystem, the food web would be hard to understand. So, each food web shows how some living things in an ecosystem can get their food.\n",
      "Arrows show how matter moves.\n",
      "A food web has arrows that point from one living thing to another. Each arrow shows the direction that matter moves when one living thing eats another living thing. An arrow starts from the living thing that is eaten. The arrow points to the living thing that is doing the eating.\n",
      "A living thing in a food web can have more than one arrow pointing from it. This shows that the living thing is eaten by more than one other living thing in the food web.\n",
      "A living thing in a food web can also have more than one arrow pointing to it. This shows that the living thing eats more than one other living thing in the food web.\n",
      "<class 'str'>\n",
      "here\n",
      "662\n",
      "1884660\n"
     ]
    }
   ],
   "source": [
    "stats_dict = convert_input_to_img_v2(problem_list, pid_splits, params=params)"
   ]
  },
  {
   "cell_type": "code",
   "execution_count": 60,
   "id": "f7fd6c87",
   "metadata": {},
   "outputs": [],
   "source": [
    "# print(stats_dict[\"original_size_w\"])"
   ]
  },
  {
   "cell_type": "code",
   "execution_count": 61,
   "id": "5c5b5383",
   "metadata": {},
   "outputs": [
    {
     "data": {
      "image/png": "[encoded data removed]",
      "text/plain": [
       "<Figure size 640x480 with 1 Axes>"
      ]
     },
     "metadata": {},
     "output_type": "display_data"
    }
   ],
   "source": [
    "plt.scatter(stats_dict[\"original_size_w\"], stats_dict[\"original_size_h\"])\n",
    "plt.show()"
   ]
  },
  {
   "cell_type": "code",
   "execution_count": 62,
   "id": "bc488862",
   "metadata": {},
   "outputs": [
    {
     "data": {
      "image/png": "[encoded data removed]",
      "text/plain": [
       "<Figure size 640x480 with 1 Axes>"
      ]
     },
     "metadata": {},
     "output_type": "display_data"
    }
   ],
   "source": [
    "plt.scatter(stats_dict[\"final_size_w\"], stats_dict[\"final_size_h\"])\n",
    "plt.show()"
   ]
  },
  {
   "cell_type": "code",
   "execution_count": 63,
   "id": "cf99e9d3",
   "metadata": {},
   "outputs": [],
   "source": [
    "import statistics as st"
   ]
  },
  {
   "cell_type": "code",
   "execution_count": 64,
   "id": "8b3ec7f4",
   "metadata": {},
   "outputs": [
    {
     "name": "stdout",
     "output_type": "stream",
     "text": [
      "1202\n",
      "626\n"
     ]
    }
   ],
   "source": [
    "print(st.median(stats_dict[\"final_size_w\"]))\n",
    "print(st.median(stats_dict[\"final_size_h\"]))"
   ]
  },
  {
   "cell_type": "code",
   "execution_count": 65,
   "id": "a9b08526",
   "metadata": {},
   "outputs": [
    {
     "name": "stdout",
     "output_type": "stream",
     "text": [
      "[1202. 1202. 1202. 1202. 1202.]\n",
      "[626. 626. 626. 626. 626.]\n"
     ]
    }
   ],
   "source": [
    "print(np.quantile(stats_dict[\"final_size_w\"], [0,0.25,0.5,0.75,1]))\n",
    "print(np.quantile(stats_dict[\"final_size_h\"], [0,0.25,0.5,0.75,1]))"
   ]
  },
  {
   "cell_type": "code",
   "execution_count": 66,
   "id": "55c8bddd",
   "metadata": {},
   "outputs": [
    {
     "data": {
      "text/plain": [
       "1202.0"
      ]
     },
     "execution_count": 66,
     "metadata": {},
     "output_type": "execute_result"
    }
   ],
   "source": [
    "sum(stats_dict[\"final_size_w\"])/len(stats_dict[\"final_size_w\"])"
   ]
  },
  {
   "cell_type": "code",
   "execution_count": 67,
   "id": "2491eeb8",
   "metadata": {},
   "outputs": [
    {
     "data": {
      "image/png": "[encoded data removed]",
      "text/plain": [
       "<Figure size 640x480 with 1 Axes>"
      ]
     },
     "metadata": {},
     "output_type": "display_data"
    }
   ],
   "source": [
    "counts, bins = np.histogram(stats_dict[\"final_size_h\"])\n",
    "plt.hist(bins[:-1], bins, weights=counts)\n",
    "plt.show()"
   ]
  },
  {
   "cell_type": "code",
   "execution_count": 68,
   "id": "3fb4e08c",
   "metadata": {},
   "outputs": [],
   "source": [
    "# max original width and image dim for that\n",
    "\n",
    "# max original width and image dim for that\n",
    "\n",
    "# max original width and image dim for that\n",
    "\n",
    "# max original width and image dim for that"
   ]
  },
  {
   "cell_type": "markdown",
   "id": "f82f2663",
   "metadata": {},
   "source": [
    "### Convert Input to Image"
   ]
  },
  {
   "cell_type": "code",
   "execution_count": 69,
   "id": "08a3227f",
   "metadata": {},
   "outputs": [],
   "source": [
    "# os.path.exists(\"/Users/rohanwadhawan/Desktop/UCLA/research/peng-lab/document-vqa/data/new_input\")"
   ]
  },
  {
   "cell_type": "code",
   "execution_count": 70,
   "id": "97f76dda",
   "metadata": {},
   "outputs": [],
   "source": [
    "def convert_input_to_img(problem_list, pid_splits, source=\"train\", html_template_choice=None, save_dir=\"\", \\\n",
    "                         sample_subset = 10, crop_padding = 30, remove_html_file = True, remove_pdf_file = True, \\\n",
    "                         params=None):\n",
    "    \n",
    "    idx_list = pid_splits[source] \n",
    "    idx_list = [int(idx) for idx in idx_list]\n",
    "    \n",
    "    if sample_subset is not None:\n",
    "        idx_list = idx_list[:sample_subset]\n",
    "        source = \"tiny_\" + source\n",
    "    \n",
    "    # create save directory if it does not exist\n",
    "    save_dir = os.path.join(save_dir, source)\n",
    "        \n",
    "    if os.path.exists(save_dir) == False:\n",
    "        os.makedirs(save_dir)\n",
    "        print(\"Save directory created\")\n",
    "    else:\n",
    "        print(\"Save directory already present\")\n",
    "        \n",
    "    \n",
    "    for sample_num in idx_list:\n",
    "        \n",
    "        # create html template\n",
    "#         html_template = create_html_template(html_template_choice)\n",
    "        html_template = create_html_file_modular(params, problem_list, sample_num=sample_num)\n",
    "        html_file = create_html_file(html_template, problem_list, sample_num)\n",
    "        \n",
    "        # save tmp html file\n",
    "        save_html_file(html_file, source, sample_num, save_dir=save_dir)\n",
    "        \n",
    "        # tmp and final filenames\n",
    "        tmp_hpi_filename = os.path.join(os.getcwd(), save_dir, f\"{source}_{sample_num}\")\n",
    "        img_filename = os.path.join(os.getcwd(), save_dir, f\"{source}_{sample_num}\")\n",
    "        \n",
    "        # convert tmp html to tmp pdf & delete tmp html file\n",
    "        convert_html_to_pdf(tmp_hpi_filename, tmp_hpi_filename)\n",
    "        \n",
    "        # convert tmp pdf to image & delete tmp pdf file\n",
    "        convert_pdf_to_image(tmp_hpi_filename, img_filename)\n",
    "        \n",
    "        # crop whitespace\n",
    "        remove_white_space(f\"{img_filename}.jpg\")\n",
    "        \n",
    "        # cleaning by removing tmp files\n",
    "        if remove_html_file:\n",
    "            os.remove(f\"{tmp_hpi_filename}.html\")\n",
    "        \n",
    "        if remove_pdf_file:\n",
    "            os.remove(f\"{tmp_hpi_filename}.pdf\")"
   ]
  },
  {
   "cell_type": "code",
   "execution_count": 71,
   "id": "2bd515da",
   "metadata": {},
   "outputs": [],
   "source": [
    "params = {\n",
    "    \"set_question_as_header\": False\n",
    "}"
   ]
  },
  {
   "cell_type": "code",
   "execution_count": 60,
   "id": "335127ec",
   "metadata": {},
   "outputs": [],
   "source": [
    "# convert_input_to_img(problem_list, pid_splits, source=\"train\", html_template_choice = \"img\", \n",
    "#                      save_dir=os.path.join(os.getcwd(), \"data\", \"new_data\"), sample_subset = 10, \n",
    "#                      crop_padding = 30, params = params)"
   ]
  },
  {
   "cell_type": "code",
   "execution_count": 61,
   "id": "7e3b2e3f",
   "metadata": {},
   "outputs": [],
   "source": [
    "# convert_input_to_img(problem_list, pid_splits, source=\"train\", html_template_choice = \"img\", \n",
    "#                      save_dir=os.path.join(os.getcwd(), \"data\", \"new_data\", \"unimodal\"), sample_subset = 20 , \n",
    "#                      crop_padding = 30, params = params)"
   ]
  },
  {
   "cell_type": "code",
   "execution_count": 62,
   "id": "f1ecef86",
   "metadata": {},
   "outputs": [],
   "source": [
    "# convert_input_to_img(problem_list, pid_splits, source=\"val\", html_template_choice = \"img\", \n",
    "#                      save_dir=os.path.join(os.getcwd(), \"data\", \"new_data\", \"unimodal\"), sample_subset = 4, \n",
    "#                      crop_padding = 30, params = params)"
   ]
  },
  {
   "cell_type": "code",
   "execution_count": 63,
   "id": "e3251b22",
   "metadata": {},
   "outputs": [],
   "source": [
    "# convert_input_to_img(problem_list, pid_splits, source=\"test\", html_template_choice = \"img\", \n",
    "#                      save_dir=os.path.join(os.getcwd(), \"data\", \"new_data\", \"unimodal\"), sample_subset = 4, \n",
    "#                      crop_padding = 30, params = params)"
   ]
  },
  {
   "cell_type": "markdown",
   "id": "74d090ba",
   "metadata": {},
   "source": [
    "# Create custom loading and training template"
   ]
  },
  {
   "cell_type": "markdown",
   "id": "c120328c",
   "metadata": {},
   "source": [
    "## Convert Science to dataset (header_text, image, output) - Dataloader - Collator"
   ]
  },
  {
   "cell_type": "code",
   "execution_count": 72,
   "id": "d2307dc6",
   "metadata": {},
   "outputs": [],
   "source": [
    "options = [\"A\", \"B\", \"C\", \"D\", \"E\"]"
   ]
  },
  {
   "cell_type": "code",
   "execution_count": 73,
   "id": "e55e6f7c",
   "metadata": {},
   "outputs": [],
   "source": [
    "output_format = \"AE\""
   ]
  },
  {
   "cell_type": "code",
   "execution_count": 74,
   "id": "587454cc",
   "metadata": {},
   "outputs": [],
   "source": [
    "ScienceQA = namedtuple(\"ScienceQA\", \"sample_num header_text image image_mean image_std output\")"
   ]
  },
  {
   "cell_type": "code",
   "execution_count": 75,
   "id": "dc266edc",
   "metadata": {},
   "outputs": [],
   "source": [
    "def preprocess_image_pix2struct(image):\n",
    "    im_arr = np.array(image)\n",
    "    im_arr16 = im_arr.astype(np.float16)\n",
    "    \n",
    "    im_arr16_mean = np.mean(im_arr16)\n",
    "    im_arr_16_tstd = np.sqrt(np.mean((im_arr16 - im_arr16_mean)**2))\n",
    "    N = im_arr16.shape[0]*im_arr16.shape[1]*im_arr16.shape[2]\n",
    "    im_arr16_std = max(im_arr_16_tstd, 1.0/np.sqrt(N))\n",
    "\n",
    "    im_arr16_final = (im_arr16 - im_arr16_mean)/im_arr16_std\n",
    "    \n",
    "    im_tensor = torch.tensor(im_arr16_final)\n",
    "#     print(im_tensor.shape)\n",
    "   \n",
    "    return im_tensor, im_arr16_mean, im_arr16_std"
   ]
  },
  {
   "cell_type": "code",
   "execution_count": 76,
   "id": "12e3a13e",
   "metadata": {},
   "outputs": [],
   "source": [
    "def visualize_processed_image(image, mean, std):\n",
    "    image  = np.array(image * std + mean, dtype = np.uint8)\n",
    "    plt.imshow(image)\n",
    "    plt.show()"
   ]
  },
  {
   "cell_type": "code",
   "execution_count": 77,
   "id": "bedd59dd",
   "metadata": {},
   "outputs": [],
   "source": [
    "test_image_filename = os.path.join(os.getcwd(), \"data\",\"new_data\",\"unimodal\",\"train\",f\"{problem_list[1]['split']}_{1}\")"
   ]
  },
  {
   "cell_type": "code",
   "execution_count": 78,
   "id": "17a696bf",
   "metadata": {},
   "outputs": [
    {
     "data": {
      "text/html": [
       "<pre style=\"white-space:pre;overflow-x:auto;line-height:normal;font-family:Menlo,'DejaVu Sans Mono',consolas,'Courier New',monospace\"><span style=\"color: #800000; text-decoration-color: #800000\">╭─────────────────────────────── </span><span style=\"color: #800000; text-decoration-color: #800000; font-weight: bold\">Traceback </span><span style=\"color: #bf7f7f; text-decoration-color: #bf7f7f; font-weight: bold\">(most recent call last)</span><span style=\"color: #800000; text-decoration-color: #800000\"> ────────────────────────────────╮</span>\n",
       "<span style=\"color: #800000; text-decoration-color: #800000\">│</span> in <span style=\"color: #00ff00; text-decoration-color: #00ff00\">&lt;module&gt;</span>:<span style=\"color: #0000ff; text-decoration-color: #0000ff\">1</span>                                                                                    <span style=\"color: #800000; text-decoration-color: #800000\">│</span>\n",
       "<span style=\"color: #800000; text-decoration-color: #800000\">│</span>                                                                                                  <span style=\"color: #800000; text-decoration-color: #800000\">│</span>\n",
       "<span style=\"color: #800000; text-decoration-color: #800000\">│</span> <span style=\"color: #800000; text-decoration-color: #800000\">❱ </span>1 image = Image.open(<span style=\"color: #808000; text-decoration-color: #808000\">f\"{</span>test_image_filename<span style=\"color: #808000; text-decoration-color: #808000\">}.jpg\"</span>)                                             <span style=\"color: #800000; text-decoration-color: #800000\">│</span>\n",
       "<span style=\"color: #800000; text-decoration-color: #800000\">│</span>   <span style=\"color: #7f7f7f; text-decoration-color: #7f7f7f\">2 </span>                                                                                             <span style=\"color: #800000; text-decoration-color: #800000\">│</span>\n",
       "<span style=\"color: #800000; text-decoration-color: #800000\">│</span>                                                                                                  <span style=\"color: #800000; text-decoration-color: #800000\">│</span>\n",
       "<span style=\"color: #800000; text-decoration-color: #800000\">│</span> <span style=\"color: #bfbf7f; text-decoration-color: #bfbf7f\">/Users/rohanwadhawan/miniconda3/envs/nlg/lib/python3.10/site-packages/PIL/</span><span style=\"color: #808000; text-decoration-color: #808000; font-weight: bold\">Image.py</span>:<span style=\"color: #0000ff; text-decoration-color: #0000ff\">3236</span> in <span style=\"color: #00ff00; text-decoration-color: #00ff00\">open</span>  <span style=\"color: #800000; text-decoration-color: #800000\">│</span>\n",
       "<span style=\"color: #800000; text-decoration-color: #800000\">│</span>                                                                                                  <span style=\"color: #800000; text-decoration-color: #800000\">│</span>\n",
       "<span style=\"color: #800000; text-decoration-color: #800000\">│</span>   <span style=\"color: #7f7f7f; text-decoration-color: #7f7f7f\">3233 </span><span style=\"color: #7f7f7f; text-decoration-color: #7f7f7f\">│   │   </span>filename = fp                                                                     <span style=\"color: #800000; text-decoration-color: #800000\">│</span>\n",
       "<span style=\"color: #800000; text-decoration-color: #800000\">│</span>   <span style=\"color: #7f7f7f; text-decoration-color: #7f7f7f\">3234 </span><span style=\"color: #7f7f7f; text-decoration-color: #7f7f7f\">│   </span>                                                                                      <span style=\"color: #800000; text-decoration-color: #800000\">│</span>\n",
       "<span style=\"color: #800000; text-decoration-color: #800000\">│</span>   <span style=\"color: #7f7f7f; text-decoration-color: #7f7f7f\">3235 </span><span style=\"color: #7f7f7f; text-decoration-color: #7f7f7f\">│   </span><span style=\"color: #0000ff; text-decoration-color: #0000ff\">if</span> filename:                                                                          <span style=\"color: #800000; text-decoration-color: #800000\">│</span>\n",
       "<span style=\"color: #800000; text-decoration-color: #800000\">│</span> <span style=\"color: #800000; text-decoration-color: #800000\">❱ </span>3236 <span style=\"color: #7f7f7f; text-decoration-color: #7f7f7f\">│   │   </span>fp = builtins.open(filename, <span style=\"color: #808000; text-decoration-color: #808000\">\"rb\"</span>)                                                <span style=\"color: #800000; text-decoration-color: #800000\">│</span>\n",
       "<span style=\"color: #800000; text-decoration-color: #800000\">│</span>   <span style=\"color: #7f7f7f; text-decoration-color: #7f7f7f\">3237 </span><span style=\"color: #7f7f7f; text-decoration-color: #7f7f7f\">│   │   </span>exclusive_fp = <span style=\"color: #0000ff; text-decoration-color: #0000ff\">True</span>                                                               <span style=\"color: #800000; text-decoration-color: #800000\">│</span>\n",
       "<span style=\"color: #800000; text-decoration-color: #800000\">│</span>   <span style=\"color: #7f7f7f; text-decoration-color: #7f7f7f\">3238 </span><span style=\"color: #7f7f7f; text-decoration-color: #7f7f7f\">│   </span>                                                                                      <span style=\"color: #800000; text-decoration-color: #800000\">│</span>\n",
       "<span style=\"color: #800000; text-decoration-color: #800000\">│</span>   <span style=\"color: #7f7f7f; text-decoration-color: #7f7f7f\">3239 </span><span style=\"color: #7f7f7f; text-decoration-color: #7f7f7f\">│   </span><span style=\"color: #0000ff; text-decoration-color: #0000ff\">try</span>:                                                                                  <span style=\"color: #800000; text-decoration-color: #800000\">│</span>\n",
       "<span style=\"color: #800000; text-decoration-color: #800000\">╰──────────────────────────────────────────────────────────────────────────────────────────────────╯</span>\n",
       "<span style=\"color: #ff0000; text-decoration-color: #ff0000; font-weight: bold\">FileNotFoundError: </span><span style=\"font-weight: bold\">[</span>Errno <span style=\"color: #008080; text-decoration-color: #008080; font-weight: bold\">2</span><span style=\"font-weight: bold\">]</span> No such file or directory: \n",
       "<span style=\"color: #008000; text-decoration-color: #008000\">'/Users/rohanwadhawan/Desktop/UCLA/research/peng-lab/eeevqa/data/new_data/unimodal/train/train_1.jpg'</span>\n",
       "</pre>\n"
      ],
      "text/plain": [
       "\u001b[31m╭─\u001b[0m\u001b[31m──────────────────────────────\u001b[0m\u001b[31m \u001b[0m\u001b[1;31mTraceback \u001b[0m\u001b[1;2;31m(most recent call last)\u001b[0m\u001b[31m \u001b[0m\u001b[31m───────────────────────────────\u001b[0m\u001b[31m─╮\u001b[0m\n",
       "\u001b[31m│\u001b[0m in \u001b[92m<module>\u001b[0m:\u001b[94m1\u001b[0m                                                                                    \u001b[31m│\u001b[0m\n",
       "\u001b[31m│\u001b[0m                                                                                                  \u001b[31m│\u001b[0m\n",
       "\u001b[31m│\u001b[0m \u001b[31m❱ \u001b[0m1 image = Image.open(\u001b[33mf\u001b[0m\u001b[33m\"\u001b[0m\u001b[33m{\u001b[0mtest_image_filename\u001b[33m}\u001b[0m\u001b[33m.jpg\u001b[0m\u001b[33m\"\u001b[0m)                                             \u001b[31m│\u001b[0m\n",
       "\u001b[31m│\u001b[0m   \u001b[2m2 \u001b[0m                                                                                             \u001b[31m│\u001b[0m\n",
       "\u001b[31m│\u001b[0m                                                                                                  \u001b[31m│\u001b[0m\n",
       "\u001b[31m│\u001b[0m \u001b[2;33m/Users/rohanwadhawan/miniconda3/envs/nlg/lib/python3.10/site-packages/PIL/\u001b[0m\u001b[1;33mImage.py\u001b[0m:\u001b[94m3236\u001b[0m in \u001b[92mopen\u001b[0m  \u001b[31m│\u001b[0m\n",
       "\u001b[31m│\u001b[0m                                                                                                  \u001b[31m│\u001b[0m\n",
       "\u001b[31m│\u001b[0m   \u001b[2m3233 \u001b[0m\u001b[2m│   │   \u001b[0mfilename = fp                                                                     \u001b[31m│\u001b[0m\n",
       "\u001b[31m│\u001b[0m   \u001b[2m3234 \u001b[0m\u001b[2m│   \u001b[0m                                                                                      \u001b[31m│\u001b[0m\n",
       "\u001b[31m│\u001b[0m   \u001b[2m3235 \u001b[0m\u001b[2m│   \u001b[0m\u001b[94mif\u001b[0m filename:                                                                          \u001b[31m│\u001b[0m\n",
       "\u001b[31m│\u001b[0m \u001b[31m❱ \u001b[0m3236 \u001b[2m│   │   \u001b[0mfp = builtins.open(filename, \u001b[33m\"\u001b[0m\u001b[33mrb\u001b[0m\u001b[33m\"\u001b[0m)                                                \u001b[31m│\u001b[0m\n",
       "\u001b[31m│\u001b[0m   \u001b[2m3237 \u001b[0m\u001b[2m│   │   \u001b[0mexclusive_fp = \u001b[94mTrue\u001b[0m                                                               \u001b[31m│\u001b[0m\n",
       "\u001b[31m│\u001b[0m   \u001b[2m3238 \u001b[0m\u001b[2m│   \u001b[0m                                                                                      \u001b[31m│\u001b[0m\n",
       "\u001b[31m│\u001b[0m   \u001b[2m3239 \u001b[0m\u001b[2m│   \u001b[0m\u001b[94mtry\u001b[0m:                                                                                  \u001b[31m│\u001b[0m\n",
       "\u001b[31m╰──────────────────────────────────────────────────────────────────────────────────────────────────╯\u001b[0m\n",
       "\u001b[1;91mFileNotFoundError: \u001b[0m\u001b[1m[\u001b[0mErrno \u001b[1;36m2\u001b[0m\u001b[1m]\u001b[0m No such file or directory: \n",
       "\u001b[32m'/Users/rohanwadhawan/Desktop/UCLA/research/peng-lab/eeevqa/data/new_data/unimodal/train/train_1.jpg'\u001b[0m\n"
      ]
     },
     "metadata": {},
     "output_type": "display_data"
    }
   ],
   "source": [
    "image = Image.open(f\"{test_image_filename}.jpg\")"
   ]
  },
  {
   "cell_type": "code",
   "execution_count": null,
   "id": "dec6407a",
   "metadata": {},
   "outputs": [],
   "source": [
    "pre_image, pre_mean, pre_std = preprocess_image_pix2struct(image)"
   ]
  },
  {
   "cell_type": "code",
   "execution_count": null,
   "id": "2c2a3219",
   "metadata": {},
   "outputs": [],
   "source": [
    "# print(pre_image)\n",
    "# np.unique(pre_image)"
   ]
  },
  {
   "cell_type": "code",
   "execution_count": null,
   "id": "bfdf12b1",
   "metadata": {},
   "outputs": [],
   "source": [
    "visualize_processed_image(pre_image, pre_mean, pre_std)"
   ]
  },
  {
   "cell_type": "code",
   "execution_count": 79,
   "id": "70712cab",
   "metadata": {},
   "outputs": [],
   "source": [
    "def create_one_scienceqa_example(problem_list, img_filename=\"\", sample_num=1, output_format=\"AE\", options = None, preprocess_image=None):\n",
    "    \n",
    "    # header text\n",
    "    header_text = problem_list[sample_num][\"question\"] + \" \" + get_choice_text(problem_list[sample_num], options)\n",
    "    \n",
    "    #input\n",
    "    image = Image.open(f\"{img_filename}.jpg\")\n",
    "    image_mean = 0\n",
    "    image_std = 0\n",
    "    if preprocess_image is not None:\n",
    "        image, image_mean, image_std = preprocess_image(image)\n",
    "    \n",
    "    # Outputs\n",
    "    if output_format == 'A':\n",
    "        output = f\"Answer: The answer is {options[problem_list[sample_num]['answer']]}.\"\n",
    "    elif output_format == 'AE':\n",
    "        output = f\"Answer: The answer is {options[problem_list[sample_num]['answer']]}. BECAUSE: {problem_list[sample_num]['solution']}\"\n",
    "    elif output_format == 'EA':\n",
    "        output = f\"Answer: {problem_list[sample_num]['solution']} The answer is {options[problem_list[sample_num]['answer']]}.\"\n",
    "\n",
    "    output = output.replace(\"  \", \" \").strip()\n",
    "    if output.endswith(\"BECAUSE:\"):\n",
    "        output = output.replace(\"BECAUSE:\", \"\").strip()\n",
    "    \n",
    "    scienceqa_example = ScienceQA(sample_num, header_text, image, image_mean, image_std, output)\n",
    "    return scienceqa_example"
   ]
  },
  {
   "cell_type": "code",
   "execution_count": 80,
   "id": "3aa40cec",
   "metadata": {},
   "outputs": [],
   "source": [
    "sample_num = 1\n",
    "test_image_filename = os.path.join(os.getcwd(), \"data\", \"html_files\", f\"{problem_list[sample_num]['split']}_{sample_num}\")\n",
    "test_example = create_one_scienceqa_example(problem_list, img_filename=test_image_filename, \n",
    "                                  sample_num=sample_num, output_format=output_format, options = options,\n",
    "                                    preprocess_image = None) #preprocess_image_pix2struct)"
   ]
  },
  {
   "cell_type": "code",
   "execution_count": 81,
   "id": "26de00bc",
   "metadata": {},
   "outputs": [
    {
     "name": "stdout",
     "output_type": "stream",
     "text": [
      "Which of these states is farthest north? (A) West Virginia (B) Louisiana (C) Arizona (D) Oklahoma\n",
      "Answer: The answer is A. BECAUSE: To find the answer, look at the compass rose. Look at which way the north arrow is pointing. West Virginia is farthest north.\n"
     ]
    }
   ],
   "source": [
    "print(test_example.header_text)\n",
    "test_example.image.show()\n",
    "# print(test_example.processed_image)\n",
    "print(test_example.output)\n"
   ]
  },
  {
   "cell_type": "code",
   "execution_count": 82,
   "id": "87417225",
   "metadata": {},
   "outputs": [],
   "source": [
    "def convert_scienceqa_to_dataset(problem_list, pid_splits, source=\"train\", save_dir = \"\", output_format=\"AE\", \\\n",
    "                                 options = None, preprocess_image = None, sample_subset = None):\n",
    "    \n",
    "    \n",
    "    idx_list = pid_splits[source] \n",
    "    idx_list = [int(idx) for idx in idx_list]\n",
    "    \n",
    "    if sample_subset is not None:\n",
    "        idx_list = idx_list[:sample_subset]\n",
    "        source = \"tiny_\"+source\n",
    "        \n",
    "    save_dir = os.path.join(save_dir, source)    \n",
    "    \n",
    "    dataset = []\n",
    "    for sample_num in idx_list:\n",
    "        ifile = os.path.join(os.getcwd(), save_dir, f\"{source}_{sample_num}\")\n",
    "        dataset.append(create_one_scienceqa_example(problem_list, img_filename=ifile, \\\n",
    "                                                    sample_num=sample_num, output_format=output_format, \\\n",
    "                                                    options = options, preprocess_image = preprocess_image))\n",
    "    return dataset\n",
    "        "
   ]
  },
  {
   "cell_type": "code",
   "execution_count": 83,
   "id": "3e68a488",
   "metadata": {},
   "outputs": [],
   "source": [
    "# source = \"train\"\n",
    "# sample_subset = None # 20\n",
    "# train_dataset = convert_scienceqa_to_dataset(problem_list, pxxxid_splits, source=source, \\\n",
    "#                       save_dir = os.path.join(os.getcwd(), \"data\", \"new_data\", \"unimodal\"), output_format=output_format, \\\n",
    "#                       options = options, preprocess_image = None, sample_subset = sample_subset) #preprocess_image_pix2struct)"
   ]
  },
  {
   "cell_type": "code",
   "execution_count": 84,
   "id": "beb1c0be",
   "metadata": {},
   "outputs": [],
   "source": [
    "# source = \"val\"\n",
    "# sample_subset = None # 4\n",
    "# val_dataset = convert_scienceqa_to_dataset(problem_list, pid_splits, source=source, \\\n",
    "#                       save_dir = os.path.join(os.getcwd(), \"data\", \"new_data\", \"unimodal\"), output_format=output_format, \\\n",
    "#                       options = options, preprocess_image = None, sample_subset = sample_subset) #preprocess_image_pix2struct)"
   ]
  },
  {
   "cell_type": "code",
   "execution_count": 85,
   "id": "24adf0c6",
   "metadata": {},
   "outputs": [],
   "source": [
    "# source = \"test\"\n",
    "# sample_subset = None # 4\n",
    "# test_dataset = convert_scienceqa_to_dataset(problem_list, pid_splits, source=source, \\\n",
    "#                       save_dir = os.path.join(os.getcwd(), \"data\", \"new_data\", \"unimodal\"), output_format=output_format, \\\n",
    "#                       options = options, preprocess_image = None, sample_subset = sample_subset) #preprocess_image_pix2struct)"
   ]
  },
  {
   "cell_type": "code",
   "execution_count": 86,
   "id": "a68b7851",
   "metadata": {},
   "outputs": [],
   "source": [
    "# minitrain_dataset"
   ]
  },
  {
   "cell_type": "markdown",
   "id": "7269434d",
   "metadata": {},
   "source": [
    "#### Save dataset"
   ]
  },
  {
   "cell_type": "code",
   "execution_count": 87,
   "id": "c0ccaadf",
   "metadata": {},
   "outputs": [],
   "source": [
    "def save_dataset(dataset, save_dir=\"\", filename=\"\"):\n",
    "    pickle_filename = os.path.join(save_dir, filename)\n",
    "    with open(pickle_filename, 'wb') as f:\n",
    "        pickle.dump(dataset, f)"
   ]
  },
  {
   "cell_type": "code",
   "execution_count": 88,
   "id": "92a46cb7",
   "metadata": {},
   "outputs": [],
   "source": [
    "# save_dataset(\n",
    "#     train_dataset,\n",
    "#     save_dir = os.path.join(os.getcwd(), \"data\", \"new_data\", \"unimodal\"),\n",
    "#     filename = \"minitrain.pkl\"\n",
    "# )"
   ]
  },
  {
   "cell_type": "code",
   "execution_count": 89,
   "id": "c58f557f",
   "metadata": {},
   "outputs": [],
   "source": [
    "# save_dataset(\n",
    "#     val_dataset,\n",
    "#     save_dir = os.path.join(os.getcwd(), \"data\", \"new_data\", \"unimodal\"),\n",
    "#     filename = \"minival.pkl\"\n",
    "# )"
   ]
  },
  {
   "cell_type": "code",
   "execution_count": 90,
   "id": "991ca5dc",
   "metadata": {},
   "outputs": [],
   "source": [
    "# save_dataset(\n",
    "#     test_dataset,\n",
    "#     save_dir = os.path.join(os.getcwd(), \"data\", \"new_data\", \"unimodal\"),\n",
    "#     filename = \"minitest.pkl\"\n",
    "# )"
   ]
  },
  {
   "cell_type": "markdown",
   "id": "d6682d8e",
   "metadata": {},
   "source": [
    "##### Load Test"
   ]
  },
  {
   "cell_type": "code",
   "execution_count": 92,
   "id": "0d868966",
   "metadata": {},
   "outputs": [],
   "source": [
    "# ScienceQA = namedtuple(\"ScienceQA\", \"sample_num header_text image text_context lecture image_mean image_std output\")\n",
    "\n",
    "# pickle_filename = os.path.join(os.getcwd(), \"data\", \"new_data\", \"multimodal\", \"minitrain.pkl\")\n",
    "# with open(pickle_filename, 'rb') as f:\n",
    "#     minitrain_dataset = pickle.load(f)"
   ]
  },
  {
   "cell_type": "code",
   "execution_count": 93,
   "id": "ee219247",
   "metadata": {},
   "outputs": [],
   "source": [
    "# pickle_filename = os.path.join(os.getcwd(), \"data\", \"new_data\", \"unimodal\", \"1\",\"minival.pkl\")\n",
    "# with open(pickle_filename, 'rb') as f:\n",
    "#     minival_dataset = pickle.load(f)"
   ]
  },
  {
   "cell_type": "code",
   "execution_count": 94,
   "id": "d551501c",
   "metadata": {},
   "outputs": [],
   "source": [
    "# pickle_filename = os.path.join(os.getcwd(), \"data\", \"new_data\", \"minitest.pkl\")\n",
    "# with open(pickle_filename, 'rb') as f:\n",
    "#     minitest_dataset = pickle.load(f)"
   ]
  },
  {
   "cell_type": "code",
   "execution_count": 95,
   "id": "7123d66c",
   "metadata": {},
   "outputs": [],
   "source": [
    "# temp_minitrain[0]"
   ]
  },
  {
   "cell_type": "markdown",
   "id": "aab1de91",
   "metadata": {},
   "source": [
    "### Dataloader"
   ]
  },
  {
   "cell_type": "code",
   "execution_count": 96,
   "id": "3fc1271d",
   "metadata": {},
   "outputs": [],
   "source": [
    "MAX_PATCHES = 1024 # make it 2048 for base and 4096 for large\n",
    "\n",
    "class VQADataset(Dataset):\n",
    "    def __init__(self, dataset, processor, output_format=\"AE\"):\n",
    "        self.dataset = dataset\n",
    "        self.processor = processor\n",
    "        self.output_format = output_format\n",
    "\n",
    "    def __len__(self):\n",
    "        return len(self.dataset)\n",
    "\n",
    "    def __gettext__(self, idx):\n",
    "        return len(self.dataset[idx].output.split(\" \"))\n",
    "    \n",
    "    def __getitem__(self, idx):\n",
    "        item = self.dataset[idx]\n",
    "        encoding = self.processor(images=item.image, return_tensors=\"pt\", add_special_tokens=True, max_patches=MAX_PATCHES)\n",
    "        \n",
    "        encoding = {k:v.squeeze() for k,v in encoding.items()}\n",
    "    \n",
    "\n",
    "        if self.output_format == \"AE\":\n",
    "            encoding[\"text\"] = item.output\n",
    "        elif self.output_format == \"A\":\n",
    "            encoding[\"text\"] = item.output.split(\"BECAUSE:\")[0].strip()\n",
    "        elif self.output_format == \"EA\":\n",
    "            split_text = item.output.split(\"BECAUSE:\")\n",
    "            if len(split_text)==1:\n",
    "                encoding[\"text\"] = split_text[0].strip()\n",
    "            else:\n",
    "                answer = split_text[0].split(\"Answer: The answer is \")[1].split(\".\")[0].strip()\n",
    "                explanation = split_text[1].strip()\n",
    "                encoding[\"text\"] = f\"Answer: {explanation} The answer is {answer}.\"\n",
    "        encoding[\"sample_num\"] = item.sample_num\n",
    "        return encoding"
   ]
  },
  {
   "cell_type": "markdown",
   "id": "0dd1b2ea",
   "metadata": {},
   "source": [
    "### Load model and processor"
   ]
  },
  {
   "cell_type": "code",
   "execution_count": 285,
   "id": "dc841fb2",
   "metadata": {},
   "outputs": [],
   "source": [
    "processor = AutoProcessor.from_pretrained(\"google/pix2struct-base\")\n",
    "model = Pix2StructForConditionalGeneration.from_pretrained(\"google/pix2struct-base\")\n",
    "# model.half()"
   ]
  },
  {
   "cell_type": "code",
   "execution_count": 286,
   "id": "c74a6949",
   "metadata": {},
   "outputs": [],
   "source": [
    "# processor.image_processor.do_convert_rgb = False\n",
    "# processor.image_processor.do_normalize = False\n",
    "processor.image_processor.convert_fp16 = False"
   ]
  },
  {
   "cell_type": "markdown",
   "id": "a3d5987e",
   "metadata": {},
   "source": [
    "### Data Collator\n",
    "\n"
   ]
  },
  {
   "cell_type": "code",
   "execution_count": 287,
   "id": "ad55b8af",
   "metadata": {},
   "outputs": [],
   "source": [
    "def collator(batch):\n",
    "    new_batch = {\"flattened_patches\":[], \"attention_mask\":[]}\n",
    "    texts = [item[\"text\"] for item in batch]\n",
    "\n",
    "    text_inputs = processor(text=texts, padding=\"max_length\", return_tensors=\"pt\", add_special_tokens=True, max_length=512)\n",
    "    new_batch[\"labels\"] = text_inputs.input_ids\n",
    "\n",
    "    for item in batch:\n",
    "        new_batch[\"flattened_patches\"].append(item[\"flattened_patches\"])\n",
    "        new_batch[\"attention_mask\"].append(item[\"attention_mask\"])\n",
    "\n",
    "    new_batch[\"flattened_patches\"] = torch.stack(new_batch[\"flattened_patches\"])\n",
    "    new_batch[\"attention_mask\"] = torch.stack(new_batch[\"attention_mask\"])\n",
    "    new_batch[\"sample_num\"] = [item[\"sample_num\"] for item in batch]\n",
    "\n",
    "    return new_batch"
   ]
  },
  {
   "cell_type": "markdown",
   "id": "58f866b1",
   "metadata": {},
   "source": [
    "### Create the necessary variable"
   ]
  },
  {
   "cell_type": "code",
   "execution_count": 290,
   "id": "5c2d67e0",
   "metadata": {},
   "outputs": [],
   "source": [
    "minitrain_vqadataset = VQADataset(minitrain_dataset, processor, output_format=\"A\")\n",
    "minitrain_dataloader = DataLoader(minitrain_vqadataset, shuffle=True, batch_size=1, collate_fn=collator)"
   ]
  },
  {
   "cell_type": "code",
   "execution_count": 299,
   "id": "4178b066",
   "metadata": {},
   "outputs": [
    {
     "data": {
      "text/plain": [
       "1272"
      ]
     },
     "execution_count": 299,
     "metadata": {},
     "output_type": "execute_result"
    }
   ],
   "source": [
    "len(minitrain_dataloader)"
   ]
  },
  {
   "cell_type": "code",
   "execution_count": 298,
   "id": "bfab8132",
   "metadata": {},
   "outputs": [
    {
     "data": {
      "text/plain": [
       "tensor([[[255, 255, 255,  ..., 255, 255, 255],\n",
       "         [255, 255, 255,  ..., 255, 255, 255],\n",
       "         [255, 255, 255,  ..., 255, 255, 255],\n",
       "         ...,\n",
       "         [255, 255, 255,  ..., 255, 255, 255],\n",
       "         [255, 255, 255,  ..., 255, 255, 255],\n",
       "         [255, 255, 255,  ..., 255, 255, 255]],\n",
       "\n",
       "        [[255, 255, 255,  ..., 255, 255, 255],\n",
       "         [255, 255, 255,  ..., 255, 255, 255],\n",
       "         [255, 255, 255,  ..., 255, 255, 255],\n",
       "         ...,\n",
       "         [255, 255, 255,  ..., 255, 255, 255],\n",
       "         [255, 255, 255,  ..., 255, 255, 255],\n",
       "         [255, 255, 255,  ..., 255, 255, 255]],\n",
       "\n",
       "        [[255, 255, 255,  ..., 255, 255, 255],\n",
       "         [255, 255, 255,  ..., 255, 255, 255],\n",
       "         [255, 255, 255,  ..., 255, 255, 255],\n",
       "         ...,\n",
       "         [255, 255, 255,  ..., 255, 255, 255],\n",
       "         [255, 255, 255,  ..., 255, 255, 255],\n",
       "         [255, 255, 255,  ..., 255, 255, 255]]], dtype=torch.uint8)"
      ]
     },
     "execution_count": 298,
     "metadata": {},
     "output_type": "execute_result"
    }
   ],
   "source": [
    "next(iter(minitrain_dataset)).image"
   ]
  },
  {
   "cell_type": "code",
   "execution_count": 291,
   "id": "2a9d4cb2",
   "metadata": {},
   "outputs": [],
   "source": [
    "data_sample = next(iter(minitrain_dataloader))"
   ]
  },
  {
   "cell_type": "code",
   "execution_count": 292,
   "id": "d7d8aae9",
   "metadata": {},
   "outputs": [
    {
     "data": {
      "text/plain": [
       "{'flattened_patches': tensor([[[1.0000, 1.0000, 0.5848,  ..., 0.5704, 0.5704, 0.5704],\n",
       "          [1.0000, 2.0000, 0.5848,  ..., 0.5829, 0.5829, 0.5829],\n",
       "          [1.0000, 3.0000, 0.5848,  ..., 0.5848, 0.5848, 0.5848],\n",
       "          ...,\n",
       "          [0.0000, 0.0000, 0.0000,  ..., 0.0000, 0.0000, 0.0000],\n",
       "          [0.0000, 0.0000, 0.0000,  ..., 0.0000, 0.0000, 0.0000],\n",
       "          [0.0000, 0.0000, 0.0000,  ..., 0.0000, 0.0000, 0.0000]]]),\n",
       " 'attention_mask': tensor([[1., 1., 1.,  ..., 0., 0., 0.]]),\n",
       " 'labels': tensor([[11661,   305,   310,  1071,   296,   273,   278,   274,     1,     0,\n",
       "              0,     0,     0,     0,     0,     0,     0,     0,     0,     0,\n",
       "              0,     0,     0,     0,     0,     0,     0,     0,     0,     0,\n",
       "              0,     0,     0,     0,     0,     0,     0,     0,     0,     0,\n",
       "              0,     0,     0,     0,     0,     0,     0,     0,     0,     0,\n",
       "              0,     0,     0,     0,     0,     0,     0,     0,     0,     0,\n",
       "              0,     0,     0,     0,     0,     0,     0,     0,     0,     0,\n",
       "              0,     0,     0,     0,     0,     0,     0,     0,     0,     0,\n",
       "              0,     0,     0,     0,     0,     0,     0,     0,     0,     0,\n",
       "              0,     0,     0,     0,     0,     0,     0,     0,     0,     0,\n",
       "              0,     0,     0,     0,     0,     0,     0,     0,     0,     0,\n",
       "              0,     0,     0,     0,     0,     0,     0,     0,     0,     0,\n",
       "              0,     0,     0,     0,     0,     0,     0,     0,     0,     0,\n",
       "              0,     0,     0,     0,     0,     0,     0,     0,     0,     0,\n",
       "              0,     0,     0,     0,     0,     0,     0,     0,     0,     0,\n",
       "              0,     0,     0,     0,     0,     0,     0,     0,     0,     0,\n",
       "              0,     0,     0,     0,     0,     0,     0,     0,     0,     0,\n",
       "              0,     0,     0,     0,     0,     0,     0,     0,     0,     0,\n",
       "              0,     0,     0,     0,     0,     0,     0,     0,     0,     0,\n",
       "              0,     0,     0,     0,     0,     0,     0,     0,     0,     0,\n",
       "              0,     0,     0,     0,     0,     0,     0,     0,     0,     0,\n",
       "              0,     0,     0,     0,     0,     0,     0,     0,     0,     0,\n",
       "              0,     0,     0,     0,     0,     0,     0,     0,     0,     0,\n",
       "              0,     0,     0,     0,     0,     0,     0,     0,     0,     0,\n",
       "              0,     0,     0,     0,     0,     0,     0,     0,     0,     0,\n",
       "              0,     0,     0,     0,     0,     0,     0,     0,     0,     0,\n",
       "              0,     0,     0,     0,     0,     0,     0,     0,     0,     0,\n",
       "              0,     0,     0,     0,     0,     0,     0,     0,     0,     0,\n",
       "              0,     0,     0,     0,     0,     0,     0,     0,     0,     0,\n",
       "              0,     0,     0,     0,     0,     0,     0,     0,     0,     0,\n",
       "              0,     0,     0,     0,     0,     0,     0,     0,     0,     0,\n",
       "              0,     0,     0,     0,     0,     0,     0,     0,     0,     0,\n",
       "              0,     0,     0,     0,     0,     0,     0,     0,     0,     0,\n",
       "              0,     0,     0,     0,     0,     0,     0,     0,     0,     0,\n",
       "              0,     0,     0,     0,     0,     0,     0,     0,     0,     0,\n",
       "              0,     0,     0,     0,     0,     0,     0,     0,     0,     0,\n",
       "              0,     0,     0,     0,     0,     0,     0,     0,     0,     0,\n",
       "              0,     0,     0,     0,     0,     0,     0,     0,     0,     0,\n",
       "              0,     0,     0,     0,     0,     0,     0,     0,     0,     0,\n",
       "              0,     0,     0,     0,     0,     0,     0,     0,     0,     0,\n",
       "              0,     0,     0,     0,     0,     0,     0,     0,     0,     0,\n",
       "              0,     0,     0,     0,     0,     0,     0,     0,     0,     0,\n",
       "              0,     0,     0,     0,     0,     0,     0,     0,     0,     0,\n",
       "              0,     0,     0,     0,     0,     0,     0,     0,     0,     0,\n",
       "              0,     0,     0,     0,     0,     0,     0,     0,     0,     0,\n",
       "              0,     0,     0,     0,     0,     0,     0,     0,     0,     0,\n",
       "              0,     0,     0,     0,     0,     0,     0,     0,     0,     0,\n",
       "              0,     0,     0,     0,     0,     0,     0,     0,     0,     0,\n",
       "              0,     0,     0,     0,     0,     0,     0,     0,     0,     0,\n",
       "              0,     0,     0,     0,     0,     0,     0,     0,     0,     0,\n",
       "              0,     0,     0,     0,     0,     0,     0,     0,     0,     0,\n",
       "              0,     0]]),\n",
       " 'sample_num': [2922]}"
      ]
     },
     "execution_count": 292,
     "metadata": {},
     "output_type": "execute_result"
    }
   ],
   "source": [
    "data_sample"
   ]
  },
  {
   "cell_type": "code",
   "execution_count": 459,
   "id": "b89736b3",
   "metadata": {},
   "outputs": [],
   "source": [
    "minival_vqadataset = VQADataset(minival_dataset, processor)\n",
    "minival_dataloader = DataLoader(minival_vqadataset, shuffle=True, batch_size=2, collate_fn=collator)"
   ]
  },
  {
   "cell_type": "code",
   "execution_count": 460,
   "id": "d6b48dd0",
   "metadata": {},
   "outputs": [],
   "source": [
    "minitest_vqadataset = VQADataset(minitest_dataset, processor)\n",
    "minitest_dataloader = DataLoader(minitest_vqadataset, shuffle=True, batch_size=2, collate_fn=collator)"
   ]
  },
  {
   "cell_type": "markdown",
   "id": "b2c33517",
   "metadata": {},
   "source": [
    "## Evaluate Model"
   ]
  },
  {
   "cell_type": "code",
   "execution_count": 461,
   "id": "208cc84b",
   "metadata": {},
   "outputs": [],
   "source": [
    "def extract_explanation(text):\n",
    "    text = re.sub(r\"The answer is [A-Z]. BECAUSE: \", \"\", text)\n",
    "    return text\n"
   ]
  },
  {
   "cell_type": "code",
   "execution_count": 462,
   "id": "f03f3631",
   "metadata": {},
   "outputs": [],
   "source": [
    "def score_rouge(str1, str2):\n",
    "    rouge = Rouge(metrics=[\"rouge-l\"])\n",
    "    scores = rouge.get_scores(str1, str2, avg=True)\n",
    "    rouge_l = scores['rouge-l']['f']\n",
    "    return rouge_l"
   ]
  },
  {
   "cell_type": "code",
   "execution_count": 463,
   "id": "8e68fd82",
   "metadata": {},
   "outputs": [],
   "source": [
    "def calculate_rouge(results, data): # expects results to be dictionary\n",
    "    rouges = []\n",
    "    for qid, output in results.items():\n",
    "        prediction = extract_explanation(output)\n",
    "        target = data[qid][\"solution\"]\n",
    "        target = target.strip()\n",
    "        if prediction == \"\":\n",
    "            continue\n",
    "        if target == \"\":\n",
    "            continue\n",
    "        rouge = score_rouge(target, prediction)\n",
    "        rouges.append(rouge)\n",
    "\n",
    "    avg_rouge = sum(rouges) / len(rouges)\n",
    "    return avg_rouge"
   ]
  },
  {
   "cell_type": "code",
   "execution_count": 464,
   "id": "cf44e856",
   "metadata": {},
   "outputs": [],
   "source": [
    "def extract_answer(output):\n",
    "    pattern = re.compile(r'The answer is ([A-Z]).')\n",
    "#     print(output)\n",
    "#     print(type(output))\n",
    "#     print(pattern.findall(\"hello\"))\n",
    "    res = pattern.findall(output)\n",
    "    \n",
    "    if len(res) == 1:\n",
    "        answer = res[0]  # 'A', 'B', ...\n",
    "    else:\n",
    "        answer = \"FAILED\"\n",
    "    return answer"
   ]
  },
  {
   "cell_type": "code",
   "execution_count": 465,
   "id": "b57dedf9",
   "metadata": {},
   "outputs": [],
   "source": [
    "def get_pred_idx(prediction, choices, options):\n",
    "    \"\"\"\n",
    "    Get the index (e.g. 2) from the prediction (e.g. 'C')\n",
    "    \"\"\"\n",
    "    if prediction in options[:len(choices)]:\n",
    "#         print(\"options pred: \", options.index(prediction))\n",
    "        return options.index(prediction)\n",
    "    else:\n",
    "#         print(\"rand choice: \", random.choice(range(len(choices))), type(random.choice(range(len(choices)))))\n",
    "        return random.choice(range(len(choices)))"
   ]
  },
  {
   "cell_type": "code",
   "execution_count": 478,
   "id": "cc6ef3a2",
   "metadata": {},
   "outputs": [],
   "source": [
    "def calculate_acc(results, data, options=None):\n",
    "    acc = []\n",
    "    for qid, output in results.items():\n",
    "        prediction = get_pred_idx(extract_answer(output), \\\n",
    "                                             data[qid][\"choices\"], options = options)\n",
    "#         print(\"target-answer: \", data[qid][\"answer\"], type(data[qid][\"answer\"]))\n",
    "        target = data[qid][\"answer\"]\n",
    "\n",
    "        if prediction == \"\":\n",
    "            continue\n",
    "        if target == \"\":\n",
    "            continue\n",
    "        acc.append(prediction == target)\n",
    "\n",
    "    avg_acc = sum(acc) / len(acc)\n",
    "    return avg_acc"
   ]
  },
  {
   "cell_type": "code",
   "execution_count": 479,
   "id": "54a33093",
   "metadata": {},
   "outputs": [],
   "source": [
    "def create_result_dict(result_list, qids):\n",
    "    return dict([(qids[i], result_list[i]) \\\n",
    "                           for i in range(len(result_list))])"
   ]
  },
  {
   "cell_type": "code",
   "execution_count": 480,
   "id": "229f0604",
   "metadata": {},
   "outputs": [],
   "source": [
    "def create_dummy_example(problem_list, sample_num=1, output_format=\"AE\", options = None):\n",
    "    \n",
    "    if np.random.randint(1, len(problem_list)+1)/50 > 0.5:\n",
    "        new_sample_num = sample_num\n",
    "    else:\n",
    "        new_sample_num = np.random.randint(1, len(problem_list)+1)\n",
    "    \n",
    "    # Outputs\n",
    "    if output_format == 'A':\n",
    "        output = f\"Answer: The answer is {problem_list[new_sample_num]['answer']}.\"\n",
    "    elif output_format == 'AE':\n",
    "        output = f\"Answer: The answer is {problem_list[new_sample_num]['answer']}. BECAUSE: {problem_list[new_sample_num]['solution']}\"\n",
    "    elif output_format == 'EA':\n",
    "        output = f\"Answer: {problem_list[new_sample_num]['solution']} The answer is {problem_list[new_sample_num]['answer']}.\"\n",
    "\n",
    "    output = output.replace(\"  \", \" \").strip()\n",
    "    if output.endswith(\"BECAUSE:\"):\n",
    "        output = output.replace(\"BECAUSE:\", \"\").strip()\n",
    "    \n",
    "    return output"
   ]
  },
  {
   "cell_type": "code",
   "execution_count": 481,
   "id": "e99693a0",
   "metadata": {},
   "outputs": [],
   "source": [
    "# np.random.randint(0, 50)/50"
   ]
  },
  {
   "cell_type": "code",
   "execution_count": 482,
   "id": "5b5dcc48",
   "metadata": {},
   "outputs": [],
   "source": [
    "dummy_problem_list = problem_list[:50]"
   ]
  },
  {
   "cell_type": "code",
   "execution_count": 483,
   "id": "9ed30d39",
   "metadata": {},
   "outputs": [],
   "source": [
    "dummy_example_list = [create_dummy_example(dummy_problem_list, i+1, output_format=\"AE\", options=options) \\\n",
    "                      for i in range(len(dummy_problem_list))]"
   ]
  },
  {
   "cell_type": "code",
   "execution_count": 484,
   "id": "4794446a",
   "metadata": {},
   "outputs": [],
   "source": [
    "dummy_example_dict = create_result_dict(dummy_example_list, np.arange(1, len(dummy_example_list)+1))"
   ]
  },
  {
   "cell_type": "code",
   "execution_count": 485,
   "id": "469b0263",
   "metadata": {},
   "outputs": [],
   "source": [
    "# print(dummy_example_dict)"
   ]
  },
  {
   "cell_type": "code",
   "execution_count": 486,
   "id": "1586d3bb",
   "metadata": {},
   "outputs": [
    {
     "data": {
      "text/plain": [
       "0.2189008770326228"
      ]
     },
     "execution_count": 486,
     "metadata": {},
     "output_type": "execute_result"
    }
   ],
   "source": [
    "calculate_rouge(dummy_example_dict, dummy_problem_list)"
   ]
  },
  {
   "cell_type": "code",
   "execution_count": 487,
   "id": "930146cb",
   "metadata": {},
   "outputs": [
    {
     "data": {
      "text/plain": [
       "0.21428571428571427"
      ]
     },
     "execution_count": 487,
     "metadata": {},
     "output_type": "execute_result"
    }
   ],
   "source": [
    "calculate_acc(dummy_example_dict, dummy_problem_list, options)"
   ]
  },
  {
   "cell_type": "code",
   "execution_count": null,
   "id": "47c2ff3f",
   "metadata": {},
   "outputs": [],
   "source": []
  },
  {
   "cell_type": "code",
   "execution_count": 488,
   "id": "94b0b37d",
   "metadata": {},
   "outputs": [],
   "source": [
    "# problem_list[1][\"choices\"]"
   ]
  },
  {
   "cell_type": "markdown",
   "id": "17455294",
   "metadata": {},
   "source": [
    "## Train the model"
   ]
  },
  {
   "cell_type": "code",
   "execution_count": 489,
   "id": "2253cf37",
   "metadata": {},
   "outputs": [],
   "source": [
    "device = \"cuda\" if torch.cuda.is_available() else \"cpu\""
   ]
  },
  {
   "cell_type": "code",
   "execution_count": 490,
   "id": "4c74e9de",
   "metadata": {},
   "outputs": [],
   "source": [
    "# model"
   ]
  },
  {
   "cell_type": "code",
   "execution_count": 491,
   "id": "4ebef17a",
   "metadata": {},
   "outputs": [],
   "source": [
    "def training_loop(problem_list, train_dataloader, val_dataloader, epochs, lr, options, device, checkpoint_dir, log_epoch=2):\n",
    "    EPOCHS = epochs\n",
    "\n",
    "    optimizer = torch.optim.AdamW(model.parameters(), lr=lr)\n",
    "\n",
    "    device = device\n",
    "    model.to(device)\n",
    "\n",
    "    model.train()\n",
    "    \n",
    "    data_logger = {\n",
    "        \"accuracy_stats\":{\n",
    "        'train': [],\n",
    "        \"val\": []\n",
    "      },\n",
    "        \"rouge_stats\":{\n",
    "        'train': [],\n",
    "        \"val\": []\n",
    "       },\n",
    "      \"loss_stats\":{\n",
    "          'train': []\n",
    "      }\n",
    "    }\n",
    "    \n",
    "    for epoch in range(EPOCHS):\n",
    "\n",
    "        print(\"Epoch:\", epoch)\n",
    "        train_epoch_loss = 0.0\n",
    "\n",
    "        for idx, batch in enumerate(train_dataloader):\n",
    "            labels = batch.pop(\"labels\").to(device)\n",
    "            flattened_patches = batch.pop(\"flattened_patches\").to(device)\n",
    "            attention_mask = batch.pop(\"attention_mask\").to(device)\n",
    "\n",
    "            outputs = model(flattened_patches=flattened_patches,\n",
    "                            attention_mask=attention_mask,\n",
    "                            labels=labels)\n",
    "#             print(outputs)\n",
    "            loss = outputs.loss\n",
    "\n",
    "            print(\"Loss:\", loss.item())\n",
    "\n",
    "            loss.backward()\n",
    "\n",
    "            optimizer.step()\n",
    "            optimizer.zero_grad()\n",
    "            \n",
    "            train_epoch_loss += loss.item()\n",
    "            \n",
    "#             if (idx+1)% 2 ==0 :\n",
    "#                 break\n",
    "        \n",
    "        data_logger[\"loss_stats\"]['train'].append(train_epoch_loss/len(train_dataloader))\n",
    "        \n",
    "        if (epoch + 1) % log_epoch == 0:\n",
    "            with torch.no_grad():\n",
    "\n",
    "                train_results = []\n",
    "                train_qids = []\n",
    "                for j, train_batch in enumerate(train_dataloader):\n",
    "                    eflattened_patches = train_batch.pop(\"flattened_patches\").to(device)\n",
    "                    eattention_mask = train_batch.pop(\"attention_mask\").to(device)\n",
    "                    predictions = model.generate(flattened_patches=eflattened_patches, attention_mask=eattention_mask)   \n",
    "                    train_results+=predictions\n",
    "                    train_qids+=[b[\"sample_num\"] for b in train_batch]\n",
    "\n",
    "#                     print(\"Predictions:\", processor.batch_decode(predictions, skip_special_tokens=True))\n",
    "\n",
    "                train_result_dict = create_result_dict(train_results, train_qids)\n",
    "                data_logger[\"accuracy_stats\"]['train'].append(calculate_acc(train_result_dict, problem_list, options))\n",
    "                data_logger[\"rouge_stats\"]['train'].append(calculate_rouge(train_result_dict, problem_list))\n",
    "                \n",
    "                val_results = []\n",
    "                val_qids = []\n",
    "                for j, val_batch in enumerate(val_dataloader):\n",
    "                    eflattened_patches = val_batch.pop(\"flattened_patches\").to(device)\n",
    "                    eattention_mask = val_batch.pop(\"attention_mask\").to(device)\n",
    "                    predictions = model.generate(flattened_patches=eflattened_patches, attention_mask=eattention_mask)   \n",
    "                    val_results+=predictions\n",
    "                    val_qids+=[b[\"sample_num\"] for b in val_batch]\n",
    "\n",
    "#                     print(\"Predictions:\", processor.batch_decode(predictions, skip_special_tokens=True))\n",
    "\n",
    "                val_result_dict = create_result_dict(val_results, val_qids)\n",
    "                data_logger[\"accuracy_stats\"]['val'].append(calculate_acc(val_result_dict, problem_list, options))\n",
    "                data_logger[\"rouge_stats\"]['val'].append(calculate_rouge(val_result_dict, problem_list))\n",
    "\n",
    "\n",
    "            model.train()\n",
    "            \n",
    "    return data_logger\n"
   ]
  },
  {
   "cell_type": "code",
   "execution_count": 446,
   "id": "586ec1ba",
   "metadata": {},
   "outputs": [],
   "source": [
    "# a = []\n",
    "# for i in range(10):\n",
    "#     a += [2,2]\n",
    "# print(a)"
   ]
  },
  {
   "cell_type": "code",
   "execution_count": 447,
   "id": "28d90586",
   "metadata": {},
   "outputs": [],
   "source": [
    "# processor"
   ]
  },
  {
   "cell_type": "code",
   "execution_count": 448,
   "id": "2072cc7d",
   "metadata": {},
   "outputs": [],
   "source": [
    "epochs = 4\n",
    "lr = 1e-5\n",
    "checkpoint_dir = os.path.join(os.getcwd(),\"results\", \"checkpoints\")"
   ]
  },
  {
   "cell_type": "code",
   "execution_count": 449,
   "id": "3ceae56c",
   "metadata": {},
   "outputs": [
    {
     "name": "stdout",
     "output_type": "stream",
     "text": [
      "Epoch: 0\n",
      "Loss: 35.94094467163086\n",
      "Loss: 34.90445327758789\n"
     ]
    }
   ],
   "source": [
    "data_logger = training_loop(problem_list, minitrain_dataloader, minival_dataloader, \n",
    "              epochs, lr, options, device, checkpoint_dir, log_epoch=2)"
   ]
  },
  {
   "cell_type": "code",
   "execution_count": null,
   "id": "4473886c",
   "metadata": {},
   "outputs": [],
   "source": []
  },
  {
   "cell_type": "markdown",
   "id": "47775308",
   "metadata": {},
   "source": [
    "## Inference Code"
   ]
  },
  {
   "cell_type": "code",
   "execution_count": 501,
   "id": "5b39923b",
   "metadata": {},
   "outputs": [],
   "source": [
    "def model_loader(params):\n",
    "    # create net\n",
    "#     net = params[\"model_fn\"]()\n",
    "    net = params[\"model\"]\n",
    "    net.to(params[\"device\"])\n",
    "\n",
    "    # load weights from VAE_classifier_autocoder model and freeze those layers\n",
    "    checkpoint_path = os.path.join(params[\"output_dir\"], params[\"checkpoint_name\"])\n",
    "    net.load_state_dict(torch.load(checkpoint_path, map_location = params[\"device\"])[\"model_state_dict\"])\n",
    "    return net"
   ]
  },
  {
   "cell_type": "code",
   "execution_count": 502,
   "id": "933585e7",
   "metadata": {},
   "outputs": [],
   "source": [
    "def get_subset_results(params):\n",
    "    \n",
    "    # load model\n",
    "    net = model_loader(params)\n",
    "    \n",
    "    # predict outputs\n",
    "    results = [] # change code here\n",
    "    qids = []\n",
    "    for idx, batch in enumerate(params[\"dataloader\"]):\n",
    "        eflattened_patches = batch.pop(\"flattened_patches\").to(device)\n",
    "        eattention_mask = batch.pop(\"attention_mask\").to(device)\n",
    "        predictions = model.generate(flattened_patches=eflattened_patches, attention_mask=eattention_mask)   \n",
    "        text_predictions = processor.batch_decode(predictions, skip_special_tokens=True)\n",
    "        results+=text_predictions\n",
    "        qids+=batch['sample_num']\n",
    "        if (idx+1)%100 == 0:\n",
    "            print(f\"{params['datasplit']} {idx+1}\")\n",
    "\n",
    "    # create results dict\n",
    "    results_dict = create_result_dict(results, qids)\n",
    "    \n",
    "    # calculate average rouge-L and accuracy\n",
    "    avg_acc = calculate_acc(results_dict, params[\"problem_list\"], params[\"options\"])\n",
    "    \n",
    "    avg_rouge = calculate_rouge(results_dict, params[\"problem_list\"])\n",
    "    \n",
    "    print(f\"Average accuracy: {avg_acc} \\n Average Rouge-L score: {avg_rouge}\")\n",
    "    \n",
    "    return avg_acc, avg_rouge"
   ]
  },
  {
   "cell_type": "code",
   "execution_count": 505,
   "id": "9b96f11c",
   "metadata": {},
   "outputs": [],
   "source": [
    "params = {\n",
    "    \"model\": Pix2StructForConditionalGeneration.from_pretrained(\"google/pix2struct-base\"),\n",
    "    \"device\": device,\n",
    "    \"output_dir\":os.path.join(os.getcwd(), \"results\", \"checkpoints\"),\n",
    "    \"checkpoint_name\":\"pix2struct_sqa_1024_512_5.pt\",\n",
    "    \"problem_list\":problem_list,\n",
    "    \"dataloader\":minival_dataloader,\n",
    "    \"datasplit\":\"minival\",\n",
    "    \"options\":options\n",
    "}"
   ]
  },
  {
   "cell_type": "code",
   "execution_count": 506,
   "id": "9c7238a3",
   "metadata": {},
   "outputs": [
    {
     "name": "stdout",
     "output_type": "stream",
     "text": [
      "minival 100\n",
      "minival 200\n",
      "Average accuracy: 0.41509433962264153 \n",
      " Average Rouge-L score: 0.025421022055376396\n"
     ]
    }
   ],
   "source": [
    "avg_acc, avg_rouge = get_subset_results(params)"
   ]
  },
  {
   "cell_type": "markdown",
   "id": "fdbf9940",
   "metadata": {},
   "source": [
    "# Data visualization"
   ]
  },
  {
   "cell_type": "code",
   "execution_count": 101,
   "id": "04ecb859",
   "metadata": {},
   "outputs": [],
   "source": [
    "def visualize_input_distribution(meta_data_dict, param=\"question\"):\n",
    "    counts, bins = np.histogram(meta_data_dict[param][\"list\"])\n",
    "    plt.hist(bins[:-1], bins, weights=counts)\n",
    "    plt.show()\n",
    "    "
   ]
  },
  {
   "cell_type": "code",
   "execution_count": 139,
   "id": "acc13912",
   "metadata": {},
   "outputs": [],
   "source": [
    "def get_data_stats(df,  idx_list = None, tokenizer = None):\n",
    "    meta_data_dict = {\n",
    "        \"question\": {\n",
    "        \"list\":[],\n",
    "        \"min_len\":10000,\n",
    "        \"max_len\":0,\n",
    "        \"avg_len\":0.0\n",
    "        },\n",
    "        \n",
    "    \"lecture\": {\n",
    "        \"list\":[],\n",
    "        \"min_len\":10000,\n",
    "        \"max_len\":0,\n",
    "        \"avg_len\":0.0\n",
    "     },\n",
    "    \"solution\": {\n",
    "        \"list\":[],\n",
    "        \"min_len\":10000,\n",
    "        \"max_len\":0,\n",
    "        \"avg_len\":0.0\n",
    "        },\n",
    "    \"hint\": {\n",
    "    \"list\":[],\n",
    "    \"min_len\":10000,\n",
    "    \"max_len\":0,\n",
    "    \"avg_len\":0.0\n",
    "    },\n",
    "        \"img_cnt\":0,\n",
    "        \n",
    "    }\n",
    "    \n",
    "    if idx_list is None:\n",
    "        iterate_list = df.keys().values\n",
    "    else:\n",
    "        iterate_list = idx_list\n",
    "    \n",
    "    for i in iterate_list:\n",
    "        \n",
    "        if tokenizer is None:\n",
    "            qlen = len(df[i][\"question\"].split(\" \"))\n",
    "            llen = len(df[i][\"lecture\"].split(\" \"))\n",
    "            slen = len(df[i][\"solution\"].split(\" \"))\n",
    "            hlen = len(df[i][\"hint\"].split(\" \"))\n",
    "        \n",
    "        else:\n",
    "            qlen = len(tokenizer.tokenize(df[i][\"question\"]))\n",
    "            llen = len(tokenizer.tokenize(df[i][\"lecture\"]))\n",
    "            slen = len(tokenizer.tokenize(df[i][\"solution\"]))\n",
    "            hlen = len(tokenizer.tokenize(df[i][\"hint\"]))\n",
    "            \n",
    "\n",
    "        #check min, max and avg length of question\n",
    "        if qlen < meta_data_dict[\"question\"][\"min_len\"]:\n",
    "            meta_data_dict[\"question\"][\"min_len\"] = qlen\n",
    "        \n",
    "        if qlen > meta_data_dict[\"question\"][\"max_len\"]:\n",
    "            meta_data_dict[\"question\"][\"max_len\"] = qlen\n",
    "        \n",
    "        meta_data_dict[\"question\"][\"avg_len\"]+= qlen\n",
    "        \n",
    "        meta_data_dict[\"question\"][\"list\"].append(qlen)\n",
    "\n",
    "        #check min, max and avg length of lecture\n",
    "        if llen < meta_data_dict[\"lecture\"][\"min_len\"]:\n",
    "            meta_data_dict[\"lecture\"][\"min_len\"] = llen\n",
    "        \n",
    "        if llen > meta_data_dict[\"lecture\"][\"max_len\"]:\n",
    "            meta_data_dict[\"lecture\"][\"max_len\"] = llen\n",
    "        \n",
    "        meta_data_dict[\"lecture\"][\"avg_len\"]+= llen\n",
    "        \n",
    "        meta_data_dict[\"lecture\"][\"list\"].append(llen)\n",
    "\n",
    "\n",
    "        #check min, max and avg length of rationale / solution\n",
    "        if slen < meta_data_dict[\"solution\"][\"min_len\"]:\n",
    "            meta_data_dict[\"solution\"][\"min_len\"] = slen\n",
    "        \n",
    "        if slen > meta_data_dict[\"solution\"][\"max_len\"]:\n",
    "            meta_data_dict[\"solution\"][\"max_len\"] = slen\n",
    "        \n",
    "        meta_data_dict[\"solution\"][\"avg_len\"]+= slen\n",
    "        \n",
    "        meta_data_dict[\"solution\"][\"list\"].append(slen)\n",
    "        \n",
    "        #check min, max and avg length of text context / hint field\n",
    "        if hlen < meta_data_dict[\"hint\"][\"min_len\"]:\n",
    "            meta_data_dict[\"hint\"][\"min_len\"] = hlen\n",
    "        \n",
    "        if hlen > meta_data_dict[\"hint\"][\"max_len\"]:\n",
    "            meta_data_dict[\"hint\"][\"max_len\"] = hlen\n",
    "        \n",
    "        meta_data_dict[\"hint\"][\"avg_len\"]+= hlen\n",
    "        \n",
    "        meta_data_dict[\"hint\"][\"list\"].append(hlen)\n",
    "\n",
    "        #check # questions with images\n",
    "        if df[i][\"image\"] is not None:\n",
    "            meta_data_dict[\"img_cnt\"]+=1\n",
    "\n",
    "    meta_data_dict[\"question\"][\"avg_len\"]/= len(df.keys().values)\n",
    "    meta_data_dict[\"lecture\"][\"avg_len\"]/= len(df.keys().values)\n",
    "    meta_data_dict[\"solution\"][\"avg_len\"]/= len(df.keys().values)\n",
    "    meta_data_dict[\"hint\"][\"avg_len\"]/= len(df.keys().values)\n",
    "\n",
    "    # printing stats\n",
    "    print(f\"Question min len: {meta_data_dict['question']['min_len']} - max len: {meta_data_dict['question']['max_len']} - avg len: {meta_data_dict['question']['avg_len']}\")\n",
    "    print(f\"Lecture min len: {meta_data_dict['lecture']['min_len']} - max len: {meta_data_dict['lecture']['max_len']} - avg len: {meta_data_dict['lecture']['avg_len']}\")\n",
    "    print(f\"Solution min len: {meta_data_dict['solution']['min_len']} - max len: {meta_data_dict['solution']['max_len']} - avg len: {meta_data_dict['solution']['avg_len']}\")\n",
    "    print(f\"Hint min len: {meta_data_dict['hint']['min_len']} - max len: {meta_data_dict['hint']['max_len']} - avg len: {meta_data_dict['hint']['avg_len']}\")\n",
    "    print(f\"Samples with images: {meta_data_dict['img_cnt']} out of a total of: {len(iterate_list)}\")\n",
    "    \n",
    "    return meta_data_dict\n"
   ]
  },
  {
   "cell_type": "code",
   "execution_count": null,
   "id": "ede71b57",
   "metadata": {},
   "outputs": [],
   "source": [
    "def get_datastats_all_split(problem_list, pid_splits):\n",
    "    for split in pid_splits.keys():\n",
    "        print(f\"----- Printing stats for split {split} -----\")\n",
    "        get_datastats(problem_list, get_specific_split(pid_splits, split_name = split))\n",
    "        print(f\"\\n-----  -----\\n\")\n",
    "\n",
    "get_datastats_all_split(problem_list, pid_splits)"
   ]
  },
  {
   "cell_type": "code",
   "execution_count": 140,
   "id": "3c393ab7",
   "metadata": {},
   "outputs": [
    {
     "name": "stdout",
     "output_type": "stream",
     "text": [
      "Question min len: 3 - max len: 140 - avg len: 11.8439268200679\n",
      "Lecture min len: 1 - max len: 469 - avg len: 101.15668615616748\n",
      "Solution min len: 1 - max len: 429 - avg len: 41.78135609204074\n",
      "Hint min len: 1 - max len: 306 - avg len: 17.037957374575633\n",
      "Samples with images: 10332 out of a total of: 21208\n"
     ]
    }
   ],
   "source": [
    "meta_data_dict = get_data_stats(problem_list)"
   ]
  },
  {
   "cell_type": "code",
   "execution_count": 133,
   "id": "23992534",
   "metadata": {},
   "outputs": [
    {
     "data": {
      "image/png": "[encoded data removed]",
      "text/plain": [
       "<Figure size 640x480 with 1 Axes>"
      ]
     },
     "metadata": {},
     "output_type": "display_data"
    }
   ],
   "source": [
    "visualize_input_distribution(meta_data_dict, param = \"question\")"
   ]
  },
  {
   "cell_type": "code",
   "execution_count": 134,
   "id": "cb756403",
   "metadata": {},
   "outputs": [
    {
     "data": {
      "image/png": "[encoded data removed]",
      "text/plain": [
       "<Figure size 640x480 with 1 Axes>"
      ]
     },
     "metadata": {},
     "output_type": "display_data"
    }
   ],
   "source": [
    "visualize_input_distribution(meta_data_dict, param = \"hint\")"
   ]
  },
  {
   "cell_type": "code",
   "execution_count": 135,
   "id": "cbdde8d5",
   "metadata": {
    "scrolled": true
   },
   "outputs": [
    {
     "data": {
      "image/png": "[encoded data removed]",
      "text/plain": [
       "<Figure size 640x480 with 1 Axes>"
      ]
     },
     "metadata": {},
     "output_type": "display_data"
    }
   ],
   "source": [
    "visualize_input_distribution(meta_data_dict, param = \"lecture\")"
   ]
  },
  {
   "cell_type": "code",
   "execution_count": 136,
   "id": "cc446433",
   "metadata": {
    "scrolled": true
   },
   "outputs": [
    {
     "data": {
      "image/png": "[encoded data removed]",
      "text/plain": [
       "<Figure size 640x480 with 1 Axes>"
      ]
     },
     "metadata": {},
     "output_type": "display_data"
    }
   ],
   "source": [
    "visualize_input_distribution(meta_data_dict, param = \"solution\")"
   ]
  },
  {
   "cell_type": "markdown",
   "id": "ffebc0be",
   "metadata": {},
   "source": [
    "### Token length stats"
   ]
  },
  {
   "cell_type": "code",
   "execution_count": 106,
   "id": "7a061c6c",
   "metadata": {},
   "outputs": [],
   "source": [
    "from transformers import AutoTokenizer, DebertaModel, AutoConfig, AutoTokenizer, AutoModel"
   ]
  },
  {
   "cell_type": "code",
   "execution_count": 107,
   "id": "a09214f2",
   "metadata": {},
   "outputs": [
    {
     "name": "stderr",
     "output_type": "stream",
     "text": [
      "Downloading (…)lve/main/config.json: 100%|██████████████████████████████████████████████████████████████████████████████████████████████████████████████████████████████████| 579/579 [00:00<00:00, 770kB/s]\n"
     ]
    }
   ],
   "source": [
    "config = AutoConfig.from_pretrained(pretrained_model_name_or_path=\"microsoft/deberta-v3-base\")"
   ]
  },
  {
   "cell_type": "code",
   "execution_count": 108,
   "id": "124f51a3",
   "metadata": {
    "scrolled": true
   },
   "outputs": [
    {
     "name": "stderr",
     "output_type": "stream",
     "text": [
      "Downloading (…)okenizer_config.json: 100%|███████████████████████████████████████████████████████████████████████████████████████████████████████████████████████████████| 52.0/52.0 [00:00<00:00, 81.5kB/s]\n",
      "Downloading spm.model: 100%|███████████████████████████████████████████████████████████████████████████████████████████████████████████████████████████████████████████| 2.46M/2.46M [00:00<00:00, 17.2MB/s]\n",
      "Special tokens have been added in the vocabulary, make sure the associated word embeddings are fine-tuned or trained.\n",
      "/Users/rohanwadhawan/Desktop/UCLA/research/peng-lab/project/mm-cot/mmcot/lib/python3.10/site-packages/transformers/convert_slow_tokenizer.py:454: UserWarning: The sentencepiece tokenizer that you are converting to a fast tokenizer uses the byte fallback option which is not implemented in the fast tokenizers. In practice this means that the fast version of the tokenizer can produce unknown tokens whereas the sentencepiece version would have converted these unknown tokens into a sequence of byte tokens matching the original piece of text.\n",
      "  warnings.warn(\n",
      "Special tokens have been added in the vocabulary, make sure the associated word embeddings are fine-tuned or trained.\n"
     ]
    }
   ],
   "source": [
    "tokenizer = AutoTokenizer.from_pretrained(\"microsoft/deberta-v3-base\")"
   ]
  },
  {
   "cell_type": "code",
   "execution_count": 111,
   "id": "cb6c8661",
   "metadata": {},
   "outputs": [
    {
     "name": "stderr",
     "output_type": "stream",
     "text": [
      "Some weights of the model checkpoint at microsoft/deberta-v3-base were not used when initializing DebertaV2Model: ['lm_predictions.lm_head.dense.bias', 'mask_predictions.classifier.bias', 'mask_predictions.LayerNorm.weight', 'mask_predictions.classifier.weight', 'mask_predictions.dense.bias', 'mask_predictions.dense.weight', 'lm_predictions.lm_head.LayerNorm.bias', 'lm_predictions.lm_head.LayerNorm.weight', 'lm_predictions.lm_head.bias', 'lm_predictions.lm_head.dense.weight', 'mask_predictions.LayerNorm.bias']\n",
      "- This IS expected if you are initializing DebertaV2Model from the checkpoint of a model trained on another task or with another architecture (e.g. initializing a BertForSequenceClassification model from a BertForPreTraining model).\n",
      "- This IS NOT expected if you are initializing DebertaV2Model from the checkpoint of a model that you expect to be exactly identical (initializing a BertForSequenceClassification model from a BertForSequenceClassification model).\n"
     ]
    }
   ],
   "source": [
    "model = AutoModel.from_pretrained(pretrained_model_name_or_path=\"microsoft/deberta-v3-base\",\n",
    "                                  config=config)"
   ]
  },
  {
   "cell_type": "code",
   "execution_count": 125,
   "id": "c384c6ef",
   "metadata": {},
   "outputs": [],
   "source": [
    "input_text = \"Hello, my dog is cute\""
   ]
  },
  {
   "cell_type": "code",
   "execution_count": 138,
   "id": "0efecb8d",
   "metadata": {},
   "outputs": [
    {
     "name": "stdout",
     "output_type": "stream",
     "text": [
      "<class 'list'>\n"
     ]
    }
   ],
   "source": [
    "print(type(tokenizer.tokenize(input_text)))"
   ]
  },
  {
   "cell_type": "code",
   "execution_count": 127,
   "id": "f6bd1ec4",
   "metadata": {},
   "outputs": [
    {
     "name": "stdout",
     "output_type": "stream",
     "text": [
      "{'input_ids': tensor([[   1, 5365,  261,  312, 1560,  269, 3363,    2]]), 'token_type_ids': tensor([[0, 0, 0, 0, 0, 0, 0, 0]]), 'attention_mask': tensor([[1, 1, 1, 1, 1, 1, 1, 1]])}\n"
     ]
    }
   ],
   "source": [
    "inputs = tokenizer(input_text, return_tensors=\"pt\")\n",
    "print(inputs)"
   ]
  },
  {
   "cell_type": "code",
   "execution_count": 128,
   "id": "38ec7d03",
   "metadata": {},
   "outputs": [],
   "source": [
    "outputs = model(**inputs)\n",
    "last_hidden_states = outputs.last_hidden_state"
   ]
  },
  {
   "cell_type": "code",
   "execution_count": 129,
   "id": "a5f45d31",
   "metadata": {},
   "outputs": [
    {
     "name": "stdout",
     "output_type": "stream",
     "text": [
      "torch.Size([1, 8, 768])\n"
     ]
    }
   ],
   "source": [
    "print(last_hidden_states.shape) # batch size, seq length, hidden size"
   ]
  },
  {
   "cell_type": "markdown",
   "id": "c1fa3f22",
   "metadata": {},
   "source": [
    "### Visualize tokenized input"
   ]
  },
  {
   "cell_type": "code",
   "execution_count": 142,
   "id": "77f0d323",
   "metadata": {},
   "outputs": [
    {
     "name": "stdout",
     "output_type": "stream",
     "text": [
      "Question min len: 4 - max len: 167 - avg len: 14.272915880799697\n",
      "Lecture min len: 0 - max len: 738 - avg len: 122.60632780082987\n",
      "Solution min len: 0 - max len: 556 - avg len: 51.45963787250094\n",
      "Hint min len: 0 - max len: 400 - avg len: 19.9371463598642\n",
      "Samples with images: 10332 out of a total of: 21208\n"
     ]
    }
   ],
   "source": [
    "meta_data_dict = get_data_stats(problem_list, idx_list=None, tokenizer = tokenizer)"
   ]
  },
  {
   "cell_type": "code",
   "execution_count": 143,
   "id": "37521583",
   "metadata": {},
   "outputs": [
    {
     "data": {
      "text/html": [
       "<pre style=\"white-space:pre;overflow-x:auto;line-height:normal;font-family:Menlo,'DejaVu Sans Mono',consolas,'Courier New',monospace\"><span style=\"color: #ff0000; text-decoration-color: #ff0000\">╭──────────────────────────────────────────────────────────────────────────────────────────────────╮</span>\n",
       "<span style=\"color: #ff0000; text-decoration-color: #ff0000\">│</span> Question min len: <span style=\"color: #0000ff; text-decoration-color: #0000ff\">3</span> - max len: <span style=\"color: #0000ff; text-decoration-color: #0000ff\">140</span> - avg len: <span style=\"color: #0000ff; text-decoration-color: #0000ff\">11.8439268200679</span>                                   <span style=\"color: #ff0000; text-decoration-color: #ff0000\">│</span>\n",
       "<span style=\"color: #ff0000; text-decoration-color: #ff0000\">│</span>          <span style=\"color: #ff0000; text-decoration-color: #ff0000; font-weight: bold\">▲</span>                                                                                       <span style=\"color: #ff0000; text-decoration-color: #ff0000\">│</span>\n",
       "<span style=\"color: #ff0000; text-decoration-color: #ff0000\">╰──────────────────────────────────────────────────────────────────────────────────────────────────╯</span>\n",
       "<span style=\"color: #ff0000; text-decoration-color: #ff0000; font-weight: bold\">SyntaxError: </span>invalid syntax\n",
       "</pre>\n"
      ],
      "text/plain": [
       "\u001b[91m╭──────────────────────────────────────────────────────────────────────────────────────────────────╮\u001b[0m\n",
       "\u001b[91m│\u001b[0m Question min len: \u001b[94m3\u001b[0m - max len: \u001b[94m140\u001b[0m - avg len: \u001b[94m11.8439268200679\u001b[0m                                   \u001b[91m│\u001b[0m\n",
       "\u001b[91m│\u001b[0m          \u001b[1;91m▲\u001b[0m                                                                                       \u001b[91m│\u001b[0m\n",
       "\u001b[91m╰──────────────────────────────────────────────────────────────────────────────────────────────────╯\u001b[0m\n",
       "\u001b[1;91mSyntaxError: \u001b[0minvalid syntax\n"
      ]
     },
     "metadata": {},
     "output_type": "display_data"
    }
   ],
   "source": [
    "Question min len: 3 - max len: 140 - avg len: 11.8439268200679\n",
    "Lecture min len: 1 - max len: 469 - avg len: 101.15668615616748\n",
    "Solution min len: 1 - max len: 429 - avg len: 41.78135609204074\n",
    "Hint min len: 1 - max len: 306 - avg len: 17.037957374575633\n",
    "Samples with images: 10332 out of a total of: 21208\n"
   ]
  },
  {
   "cell_type": "code",
   "execution_count": 144,
   "id": "032ed34a",
   "metadata": {},
   "outputs": [
    {
     "data": {
      "image/png": "[encoded data removed]",
      "text/plain": [
       "<Figure size 640x480 with 1 Axes>"
      ]
     },
     "metadata": {},
     "output_type": "display_data"
    }
   ],
   "source": [
    "visualize_input_distribution(meta_data_dict, param = \"question\")"
   ]
  },
  {
   "cell_type": "code",
   "execution_count": 145,
   "id": "433b463b",
   "metadata": {},
   "outputs": [
    {
     "data": {
      "image/png": "[encoded data removed]",
      "text/plain": [
       "<Figure size 640x480 with 1 Axes>"
      ]
     },
     "metadata": {},
     "output_type": "display_data"
    }
   ],
   "source": [
    "visualize_input_distribution(meta_data_dict, param = \"hint\")"
   ]
  },
  {
   "cell_type": "code",
   "execution_count": 146,
   "id": "82e9c041",
   "metadata": {},
   "outputs": [
    {
     "data": {
      "image/png": "[encoded data removed]",
      "text/plain": [
       "<Figure size 640x480 with 1 Axes>"
      ]
     },
     "metadata": {},
     "output_type": "display_data"
    }
   ],
   "source": [
    "visualize_input_distribution(meta_data_dict, param = \"lecture\")"
   ]
  },
  {
   "cell_type": "code",
   "execution_count": 147,
   "id": "78be1783",
   "metadata": {},
   "outputs": [
    {
     "data": {
      "image/png": "[encoded data removed]",
      "text/plain": [
       "<Figure size 640x480 with 1 Axes>"
      ]
     },
     "metadata": {},
     "output_type": "display_data"
    }
   ],
   "source": [
    "visualize_input_distribution(meta_data_dict, param = \"solution\")"
   ]
  },
  {
   "cell_type": "markdown",
   "id": "b5ffd8d6",
   "metadata": {},
   "source": [
    "# Playground"
   ]
  },
  {
   "cell_type": "code",
   "execution_count": 726,
   "id": "fc7b3f5f",
   "metadata": {},
   "outputs": [],
   "source": [
    "in_text = \"The answer is 1. cdavcdv\""
   ]
  },
  {
   "cell_type": "code",
   "execution_count": 718,
   "id": "81a2269d",
   "metadata": {},
   "outputs": [],
   "source": [
    "out_text = re.sub(r\"The answer is [A-Z]. BECAUSE: \", \"\", in_text)"
   ]
  },
  {
   "cell_type": "code",
   "execution_count": 719,
   "id": "7af7377e",
   "metadata": {},
   "outputs": [
    {
     "name": "stdout",
     "output_type": "stream",
     "text": [
      "The answer is 1. BECAUSE: cdavcdv\n"
     ]
    }
   ],
   "source": [
    "print(out_text)"
   ]
  },
  {
   "cell_type": "code",
   "execution_count": 728,
   "id": "2c9e2963",
   "metadata": {},
   "outputs": [],
   "source": [
    "out_text2 = in_text.split(\"BECAUSE:\")[0].strip()"
   ]
  },
  {
   "cell_type": "code",
   "execution_count": 729,
   "id": "c4683dd5",
   "metadata": {},
   "outputs": [
    {
     "name": "stdout",
     "output_type": "stream",
     "text": [
      "The answer is 1. cdavcdv\n"
     ]
    }
   ],
   "source": [
    "print(out_text2)"
   ]
  },
  {
   "cell_type": "code",
   "execution_count": 730,
   "id": "f971761e",
   "metadata": {},
   "outputs": [
    {
     "data": {
      "text/plain": [
       "True"
      ]
     },
     "execution_count": 730,
     "metadata": {},
     "output_type": "execute_result"
    }
   ],
   "source": [
    "len(out_text2) == len(in_text)"
   ]
  },
  {
   "cell_type": "code",
   "execution_count": 772,
   "id": "e245f444",
   "metadata": {},
   "outputs": [
    {
     "data": {
      "text/plain": [
       "'ferf/cefvev/ewfvfv/'"
      ]
     },
     "execution_count": 772,
     "metadata": {},
     "output_type": "execute_result"
    }
   ],
   "source": [
    "t1=\"ferf\"\n",
    "t2=\"cefvev\"\n",
    "t3=\"ewfvfv\"\n",
    "t4=\"\"\n",
    "os.path.join(t1,t2,t3,t4)"
   ]
  },
  {
   "cell_type": "code",
   "execution_count": 790,
   "id": "10e7e60d",
   "metadata": {},
   "outputs": [],
   "source": [
    "results = {\n",
    "    1:{\n",
    "        \"true_false\":True\n",
    "    },\n",
    "    7674:{\n",
    "        \"true_false\":False\n",
    "    },\n",
    "    3451:{\n",
    "        \"true_false\":False\n",
    "    },\n",
    "    2312:{\n",
    "        \"true_false\":False\n",
    "    },\n",
    "}"
   ]
  },
  {
   "cell_type": "code",
   "execution_count": 793,
   "id": "a9db9679",
   "metadata": {},
   "outputs": [
    {
     "name": "stdout",
     "output_type": "stream",
     "text": [
      "25.0\n"
     ]
    }
   ],
   "source": [
    "print((sum([1 if results[key][\"true_false\"]==True else 0 for key in list(results.keys())])/ 4) * 100)"
   ]
  },
  {
   "cell_type": "markdown",
   "id": "c1e58b06",
   "metadata": {},
   "source": [
    "## Testing capacity of vanilla Pix2struct"
   ]
  },
  {
   "cell_type": "code",
   "execution_count": 101,
   "id": "8faef7a2",
   "metadata": {},
   "outputs": [],
   "source": [
    "base_model = \"google/pix2struct-base\""
   ]
  },
  {
   "cell_type": "code",
   "execution_count": 102,
   "id": "81625247",
   "metadata": {},
   "outputs": [],
   "source": [
    "configuration = Pix2StructConfig()"
   ]
  },
  {
   "cell_type": "code",
   "execution_count": 103,
   "id": "0962deef",
   "metadata": {},
   "outputs": [
    {
     "name": "stdout",
     "output_type": "stream",
     "text": [
      "Pix2StructConfig {\n",
      "  \"_commit_hash\": null,\n",
      "  \"decoder_start_token_id\": 0,\n",
      "  \"eos_token_id\": 1,\n",
      "  \"initializer_factor\": 1.0,\n",
      "  \"initializer_range\": 0.02,\n",
      "  \"is_encoder_decoder\": true,\n",
      "  \"is_vqa\": false,\n",
      "  \"model_type\": \"pix2struct\",\n",
      "  \"pad_token_id\": 0,\n",
      "  \"text_config\": {\n",
      "    \"_name_or_path\": \"\",\n",
      "    \"add_cross_attention\": false,\n",
      "    \"architectures\": null,\n",
      "    \"bad_words_ids\": null,\n",
      "    \"begin_suppress_tokens\": null,\n",
      "    \"bos_token_id\": null,\n",
      "    \"chunk_size_feed_forward\": 0,\n",
      "    \"cross_attention_hidden_size\": null,\n",
      "    \"d_ff\": 2048,\n",
      "    \"d_kv\": 64,\n",
      "    \"decoder_start_token_id\": 0,\n",
      "    \"dense_act_fn\": \"gelu_new\",\n",
      "    \"diversity_penalty\": 0.0,\n",
      "    \"do_sample\": false,\n",
      "    \"dropout_rate\": 0.1,\n",
      "    \"early_stopping\": false,\n",
      "    \"encoder_no_repeat_ngram_size\": 0,\n",
      "    \"eos_token_id\": 1,\n",
      "    \"exponential_decay_length_penalty\": null,\n",
      "    \"finetuning_task\": null,\n",
      "    \"forced_bos_token_id\": null,\n",
      "    \"forced_eos_token_id\": null,\n",
      "    \"hidden_size\": 768,\n",
      "    \"id2label\": {\n",
      "      \"0\": \"LABEL_0\",\n",
      "      \"1\": \"LABEL_1\"\n",
      "    },\n",
      "    \"initializer_factor\": 1.0,\n",
      "    \"initializer_range\": 0.02,\n",
      "    \"is_decoder\": true,\n",
      "    \"is_encoder_decoder\": false,\n",
      "    \"label2id\": {\n",
      "      \"LABEL_0\": 0,\n",
      "      \"LABEL_1\": 1\n",
      "    },\n",
      "    \"layer_norm_epsilon\": 1e-06,\n",
      "    \"length_penalty\": 1.0,\n",
      "    \"max_length\": 20,\n",
      "    \"min_length\": 0,\n",
      "    \"model_type\": \"pix2struct_text_model\",\n",
      "    \"no_repeat_ngram_size\": 0,\n",
      "    \"num_beam_groups\": 1,\n",
      "    \"num_beams\": 1,\n",
      "    \"num_heads\": 12,\n",
      "    \"num_layers\": 12,\n",
      "    \"num_return_sequences\": 1,\n",
      "    \"output_attentions\": false,\n",
      "    \"output_hidden_states\": false,\n",
      "    \"output_scores\": false,\n",
      "    \"pad_token_id\": 0,\n",
      "    \"prefix\": null,\n",
      "    \"problem_type\": null,\n",
      "    \"pruned_heads\": {},\n",
      "    \"relative_attention_max_distance\": 128,\n",
      "    \"relative_attention_num_buckets\": 32,\n",
      "    \"remove_invalid_values\": false,\n",
      "    \"repetition_penalty\": 1.0,\n",
      "    \"return_dict\": true,\n",
      "    \"return_dict_in_generate\": false,\n",
      "    \"sep_token_id\": null,\n",
      "    \"suppress_tokens\": null,\n",
      "    \"task_specific_params\": null,\n",
      "    \"temperature\": 1.0,\n",
      "    \"tf_legacy_loss\": false,\n",
      "    \"tie_encoder_decoder\": false,\n",
      "    \"tie_word_embeddings\": false,\n",
      "    \"tokenizer_class\": null,\n",
      "    \"top_k\": 50,\n",
      "    \"top_p\": 1.0,\n",
      "    \"torch_dtype\": null,\n",
      "    \"torchscript\": false,\n",
      "    \"transformers_version\": \"4.29.2\",\n",
      "    \"typical_p\": 1.0,\n",
      "    \"use_bfloat16\": false,\n",
      "    \"use_cache\": false,\n",
      "    \"vocab_size\": 50244\n",
      "  },\n",
      "  \"tie_word_embeddings\": false,\n",
      "  \"transformers_version\": null,\n",
      "  \"vision_config\": {\n",
      "    \"_name_or_path\": \"\",\n",
      "    \"add_cross_attention\": false,\n",
      "    \"architectures\": null,\n",
      "    \"attention_dropout\": 0.0,\n",
      "    \"bad_words_ids\": null,\n",
      "    \"begin_suppress_tokens\": null,\n",
      "    \"bos_token_id\": null,\n",
      "    \"chunk_size_feed_forward\": 0,\n",
      "    \"cross_attention_hidden_size\": null,\n",
      "    \"d_ff\": 2048,\n",
      "    \"d_kv\": 64,\n",
      "    \"decoder_start_token_id\": null,\n",
      "    \"dense_act_fn\": \"gelu_new\",\n",
      "    \"diversity_penalty\": 0.0,\n",
      "    \"do_sample\": false,\n",
      "    \"dropout_rate\": 0.0,\n",
      "    \"early_stopping\": false,\n",
      "    \"encoder_no_repeat_ngram_size\": 0,\n",
      "    \"eos_token_id\": null,\n",
      "    \"exponential_decay_length_penalty\": null,\n",
      "    \"finetuning_task\": null,\n",
      "    \"forced_bos_token_id\": null,\n",
      "    \"forced_eos_token_id\": null,\n",
      "    \"hidden_size\": 768,\n",
      "    \"id2label\": {\n",
      "      \"0\": \"LABEL_0\",\n",
      "      \"1\": \"LABEL_1\"\n",
      "    },\n",
      "    \"initializer_factor\": 1.0,\n",
      "    \"initializer_range\": 0.02,\n",
      "    \"is_decoder\": false,\n",
      "    \"is_encoder_decoder\": false,\n",
      "    \"label2id\": {\n",
      "      \"LABEL_0\": 0,\n",
      "      \"LABEL_1\": 1\n",
      "    },\n",
      "    \"layer_norm_bias\": false,\n",
      "    \"layer_norm_eps\": 1e-06,\n",
      "    \"length_penalty\": 1.0,\n",
      "    \"max_length\": 20,\n",
      "    \"min_length\": 0,\n",
      "    \"model_type\": \"pix2struct_vision_model\",\n",
      "    \"no_repeat_ngram_size\": 0,\n",
      "    \"num_attention_heads\": 12,\n",
      "    \"num_beam_groups\": 1,\n",
      "    \"num_beams\": 1,\n",
      "    \"num_channels\": 3,\n",
      "    \"num_hidden_layers\": 12,\n",
      "    \"num_return_sequences\": 1,\n",
      "    \"output_attentions\": false,\n",
      "    \"output_hidden_states\": false,\n",
      "    \"output_scores\": false,\n",
      "    \"pad_token_id\": null,\n",
      "    \"patch_embed_hidden_size\": 768,\n",
      "    \"patch_size\": 16,\n",
      "    \"prefix\": null,\n",
      "    \"problem_type\": null,\n",
      "    \"projection_dim\": 768,\n",
      "    \"pruned_heads\": {},\n",
      "    \"relative_attention_max_distance\": 128,\n",
      "    \"relative_attention_num_buckets\": 32,\n",
      "    \"remove_invalid_values\": false,\n",
      "    \"repetition_penalty\": 1.0,\n",
      "    \"return_dict\": true,\n",
      "    \"return_dict_in_generate\": false,\n",
      "    \"sep_token_id\": null,\n",
      "    \"seq_len\": 4096,\n",
      "    \"suppress_tokens\": null,\n",
      "    \"task_specific_params\": null,\n",
      "    \"temperature\": 1.0,\n",
      "    \"tf_legacy_loss\": false,\n",
      "    \"tie_encoder_decoder\": false,\n",
      "    \"tie_word_embeddings\": true,\n",
      "    \"tokenizer_class\": null,\n",
      "    \"top_k\": 50,\n",
      "    \"top_p\": 1.0,\n",
      "    \"torch_dtype\": null,\n",
      "    \"torchscript\": false,\n",
      "    \"transformers_version\": \"4.29.2\",\n",
      "    \"typical_p\": 1.0,\n",
      "    \"use_bfloat16\": false\n",
      "  }\n",
      "}\n",
      "\n"
     ]
    }
   ],
   "source": [
    "print(configuration)"
   ]
  },
  {
   "cell_type": "code",
   "execution_count": 104,
   "id": "2bb76a5d",
   "metadata": {},
   "outputs": [],
   "source": [
    "processor = AutoProcessor.from_pretrained(base_model)\n",
    "model = Pix2StructForConditionalGeneration.from_pretrained(base_model)"
   ]
  },
  {
   "cell_type": "code",
   "execution_count": 105,
   "id": "c2d48e2e",
   "metadata": {},
   "outputs": [
    {
     "name": "stdout",
     "output_type": "stream",
     "text": [
      "Pix2StructConfig {\n",
      "  \"_commit_hash\": \"956e2761626d0c37672c7741204a105ecd389245\",\n",
      "  \"_name_or_path\": \"google/pix2struct-base\",\n",
      "  \"architectures\": [\n",
      "    \"Pix2StructForConditionalGeneration\"\n",
      "  ],\n",
      "  \"decoder_start_token_id\": 0,\n",
      "  \"eos_token_id\": 1,\n",
      "  \"initializer_factor\": 1.0,\n",
      "  \"initializer_range\": 0.02,\n",
      "  \"is_encoder_decoder\": true,\n",
      "  \"is_vqa\": false,\n",
      "  \"model_type\": \"pix2struct\",\n",
      "  \"pad_token_id\": 0,\n",
      "  \"text_config\": {\n",
      "    \"_name_or_path\": \"\",\n",
      "    \"add_cross_attention\": false,\n",
      "    \"architectures\": null,\n",
      "    \"bad_words_ids\": null,\n",
      "    \"begin_suppress_tokens\": null,\n",
      "    \"bos_token_id\": null,\n",
      "    \"chunk_size_feed_forward\": 0,\n",
      "    \"cross_attention_hidden_size\": null,\n",
      "    \"d_ff\": 2048,\n",
      "    \"d_kv\": 64,\n",
      "    \"decoder_start_token_id\": 0,\n",
      "    \"dense_act_fn\": \"gelu_new\",\n",
      "    \"diversity_penalty\": 0.0,\n",
      "    \"do_sample\": false,\n",
      "    \"dropout_rate\": 0.2,\n",
      "    \"early_stopping\": false,\n",
      "    \"encoder_hidden_size\": 768,\n",
      "    \"encoder_no_repeat_ngram_size\": 0,\n",
      "    \"eos_token_id\": 1,\n",
      "    \"exponential_decay_length_penalty\": null,\n",
      "    \"finetuning_task\": null,\n",
      "    \"forced_bos_token_id\": null,\n",
      "    \"forced_eos_token_id\": null,\n",
      "    \"hidden_size\": 768,\n",
      "    \"id2label\": {\n",
      "      \"0\": \"LABEL_0\",\n",
      "      \"1\": \"LABEL_1\"\n",
      "    },\n",
      "    \"initializer_factor\": 1.0,\n",
      "    \"initializer_range\": 0.02,\n",
      "    \"is_decoder\": true,\n",
      "    \"is_encoder_decoder\": false,\n",
      "    \"label2id\": {\n",
      "      \"LABEL_0\": 0,\n",
      "      \"LABEL_1\": 1\n",
      "    },\n",
      "    \"layer_norm_epsilon\": 1e-06,\n",
      "    \"length_penalty\": 1.0,\n",
      "    \"max_length\": 20,\n",
      "    \"min_length\": 0,\n",
      "    \"model_type\": \"pix2struct_text_model\",\n",
      "    \"no_repeat_ngram_size\": 0,\n",
      "    \"num_beam_groups\": 1,\n",
      "    \"num_beams\": 1,\n",
      "    \"num_heads\": 12,\n",
      "    \"num_layers\": 12,\n",
      "    \"num_return_sequences\": 1,\n",
      "    \"output_attentions\": false,\n",
      "    \"output_hidden_states\": false,\n",
      "    \"output_scores\": false,\n",
      "    \"pad_token_id\": 0,\n",
      "    \"prefix\": null,\n",
      "    \"problem_type\": null,\n",
      "    \"pruned_heads\": {},\n",
      "    \"relative_attention_max_distance\": 128,\n",
      "    \"relative_attention_num_buckets\": 32,\n",
      "    \"remove_invalid_values\": false,\n",
      "    \"repetition_penalty\": 1.0,\n",
      "    \"return_dict\": true,\n",
      "    \"return_dict_in_generate\": false,\n",
      "    \"sep_token_id\": null,\n",
      "    \"suppress_tokens\": null,\n",
      "    \"task_specific_params\": null,\n",
      "    \"temperature\": 1.0,\n",
      "    \"tf_legacy_loss\": false,\n",
      "    \"tie_encoder_decoder\": false,\n",
      "    \"tie_word_embeddings\": false,\n",
      "    \"tokenizer_class\": null,\n",
      "    \"top_k\": 50,\n",
      "    \"top_p\": 1.0,\n",
      "    \"torch_dtype\": null,\n",
      "    \"torchscript\": false,\n",
      "    \"transformers_version\": \"4.29.2\",\n",
      "    \"typical_p\": 1.0,\n",
      "    \"use_bfloat16\": false,\n",
      "    \"use_cache\": false,\n",
      "    \"vocab_size\": 50244\n",
      "  },\n",
      "  \"tie_word_embeddings\": false,\n",
      "  \"torch_dtype\": \"float32\",\n",
      "  \"transformers_version\": null,\n",
      "  \"vision_config\": {\n",
      "    \"_name_or_path\": \"\",\n",
      "    \"add_cross_attention\": false,\n",
      "    \"architectures\": null,\n",
      "    \"attention_dropout\": 0.2,\n",
      "    \"bad_words_ids\": null,\n",
      "    \"begin_suppress_tokens\": null,\n",
      "    \"bos_token_id\": null,\n",
      "    \"chunk_size_feed_forward\": 0,\n",
      "    \"cross_attention_hidden_size\": null,\n",
      "    \"d_ff\": 2048,\n",
      "    \"d_kv\": 64,\n",
      "    \"decoder_start_token_id\": null,\n",
      "    \"dense_act_fn\": \"gelu_new\",\n",
      "    \"diversity_penalty\": 0.0,\n",
      "    \"do_sample\": false,\n",
      "    \"dropout_rate\": 0.2,\n",
      "    \"early_stopping\": false,\n",
      "    \"encoder_no_repeat_ngram_size\": 0,\n",
      "    \"eos_token_id\": null,\n",
      "    \"exponential_decay_length_penalty\": null,\n",
      "    \"finetuning_task\": null,\n",
      "    \"forced_bos_token_id\": null,\n",
      "    \"forced_eos_token_id\": null,\n",
      "    \"hidden_dropout_prob\": 0.2,\n",
      "    \"hidden_size\": 768,\n",
      "    \"id2label\": {\n",
      "      \"0\": \"LABEL_0\",\n",
      "      \"1\": \"LABEL_1\"\n",
      "    },\n",
      "    \"initializer_factor\": 1.0,\n",
      "    \"initializer_range\": 0.02,\n",
      "    \"is_decoder\": false,\n",
      "    \"is_encoder_decoder\": false,\n",
      "    \"label2id\": {\n",
      "      \"LABEL_0\": 0,\n",
      "      \"LABEL_1\": 1\n",
      "    },\n",
      "    \"layer_norm_bias\": false,\n",
      "    \"layer_norm_eps\": 1e-06,\n",
      "    \"length_penalty\": 1.0,\n",
      "    \"max_length\": 20,\n",
      "    \"min_length\": 0,\n",
      "    \"model_type\": \"pix2struct_vision_model\",\n",
      "    \"no_repeat_ngram_size\": 0,\n",
      "    \"num_attention_heads\": 12,\n",
      "    \"num_beam_groups\": 1,\n",
      "    \"num_beams\": 1,\n",
      "    \"num_channels\": 3,\n",
      "    \"num_hidden_layers\": 12,\n",
      "    \"num_return_sequences\": 1,\n",
      "    \"output_attentions\": false,\n",
      "    \"output_hidden_states\": false,\n",
      "    \"output_scores\": false,\n",
      "    \"pad_token_id\": null,\n",
      "    \"patch_embed_hidden_size\": 768,\n",
      "    \"patch_size\": 16,\n",
      "    \"prefix\": null,\n",
      "    \"problem_type\": null,\n",
      "    \"projection_dim\": 768,\n",
      "    \"pruned_heads\": {},\n",
      "    \"relative_attention_max_distance\": 128,\n",
      "    \"relative_attention_num_buckets\": 32,\n",
      "    \"remove_invalid_values\": false,\n",
      "    \"repetition_penalty\": 1.0,\n",
      "    \"return_dict\": true,\n",
      "    \"return_dict_in_generate\": false,\n",
      "    \"sep_token_id\": null,\n",
      "    \"seq_len\": 4096,\n",
      "    \"suppress_tokens\": null,\n",
      "    \"task_specific_params\": null,\n",
      "    \"temperature\": 1.0,\n",
      "    \"tf_legacy_loss\": false,\n",
      "    \"tie_encoder_decoder\": false,\n",
      "    \"tie_word_embeddings\": true,\n",
      "    \"tokenizer_class\": null,\n",
      "    \"top_k\": 50,\n",
      "    \"top_p\": 1.0,\n",
      "    \"torch_dtype\": null,\n",
      "    \"torchscript\": false,\n",
      "    \"transformers_version\": \"4.29.2\",\n",
      "    \"typical_p\": 1.0,\n",
      "    \"use_bfloat16\": false\n",
      "  }\n",
      "}\n",
      "\n"
     ]
    }
   ],
   "source": [
    "print(model.config)"
   ]
  },
  {
   "cell_type": "code",
   "execution_count": 493,
   "id": "5c02b309",
   "metadata": {},
   "outputs": [],
   "source": [
    "# '''\n",
    "# test_image_v1_layout1_img_context (same for both layouts)\n",
    "# test_image_v1_layout1_tl_context (same for both layouts)\n",
    "# test_image_v1_layout1_both_context\n",
    "# test_image_v1_layout2_img_context\n",
    "# test_image_v1_layout2_tl_context\n",
    "# test_image_v1_layout2_both_context\n",
    "\n",
    "# test_image_v2_layout1_img_context (same for both layouts)\n",
    "# test_image_v2_layout1_tl_context (same for both layouts)\n",
    "# test_image_v2_layout1_both_context\n",
    "# test_image_v2_layout2_img_context\n",
    "# test_image_v2_layout2_tl_context\n",
    "# test_image_v2_layout2_both_context\n",
    "\n",
    "# minitrain\n",
    "# version 1\n",
    "\n",
    "# img: \n",
    "#     289: <img_src=What-is-the-capital-of-Washington-1>, \n",
    "#     385: <img_src=map-of-the-colony-shown-in-the-state-of-delaware-1 img_alt=The Colony of Delaware>, \n",
    "#     852: <img_src=map-of-the-colony-shown-1 img_alt=Map of the Colony shown>\n",
    "\n",
    "# tl: \n",
    "#     37: <img_src=image001>, \n",
    "#     90: <img_src=overall-supply-supplies-and-supplies-in-springtown-springtown-springtown-springtown-springtown-springtown-springtown-springtown-springtown-springtown-springtown-springtown-springtown-springtown-springtown-springtown-springtown-springtown-springtown-springtown-springtown-springtown-springtown-springtown-springtown-springtown-springtown-springtown-springtown-springtown-springtown-springtown-springtown-springtown-springtown-springtown-springtown-springtown-springtown-springtown-springtown-springtown-springtown-springtown-springtown-springtown-springtown-springtown-springtown-springtown-springtown-springtown-springtown-springtown-springtown-springtown-springtown-springtown-springtown-springtown-springtown-springtown-springtown-springtown-springtown-springtown-springtown-springtown-springtown-springtown-springtown-springtown-springtown-springtown-springtown-springtown-springtown-springtown-springtown-springtown-springtown-springtown-springtown-springtown-springtown-springtown-springtown-springtown-springtown-springtown-springtown-springtown-springtown-springtown-springtown-springtown-springtown-springtown-springtown-springtown-springtown-springtown-springtown-springtown-springtown-springtown-springtown-springtown-springtown-springtown-springtown-springtown-springtown-springtown-springtown-springtown-springtown-springtown-springtown-springtown-springtown-springtown-springtown-springtown-springtown-springtown-springtown-springtown-springtown-springtown-springtown-springtown-springtown-springtown-springtown-springtown-springtown-springtown-springtown-springtown-springtown-springtown-springtown-springtown-springtown-springtown-springtown-springtown-springtown-springtown-springtown-springtown-springtown-springtown-springtown-springtown-springtown-springtown-springtown-springtown-springtown-springtown-springtown-spring, \n",
    "#     97: <img_src=How-long-is-a-walk-across-Central-Park-in-New-York-City>, \n",
    "#     105: <img_src=select-the-reptile>, \n",
    "#     146: <img_src=text-uses-traditional-sense>, \n",
    "#     419: <img_src=image img_alt=Using only these supplies, which question can Logan investigate with an experiment?>\n",
    "\n",
    "# both l1: \n",
    "#         107: <img_src=solvent-volume-40-ml-solvent-volume-40-ml img_alt=solvent volume 40 ml solvent volume 40 ml>,\n",
    "#         130: <img_src=Debbie-and-Madelyn-trade-to-each-get-what-they-want img_alt=What can Debbie and Madelyn trade to each get what they want? (A) Madelyn can trade her broccoli for Debbie's oranges. (B) Debbie can trade her tomatoes for Madelyn's broccoli. (C) Debbie can trade her tomatoes for Madelyn's sandwich. (D) Madelyn can trade her almonds for Debbie's tomatoes. (E) Trade happens when people agree to exchange goods and services. People give up something to get something else. Sometimes people barter, or directly exchange one good or service for another. Debbie and Madelyn open their lunch boxes in the school cafeteria. Both of them could be happier with their lunches. Debbie wanted broccoli in her lunch and Madelyn was hoping for tomatoes. Look at the images of their lunches. Then answer the question below.>,\n",
    "#         143:<img_src=mojave-yucca-food-chain>,\n",
    "#         208: <img_src=100_00000000000000000000000000000000000000000000000000000000000000000000000000000000000000000000000000000000000000000000000000000000000000000000000000000000000000000000000000000000000000000000000000000000000000000000000000000000000000000000000000000000000000000000000000000000000000000000000000000000000000000000000000000000000000000000000000000000000000000000000000000000000000000000000000000000000000000000000000000000000000000000000000000000000000000000000000000000000000000000000000000000000000000000000,\n",
    "#         346: <img_src=Which-property-do-these-two-objects-have-in-common>,\n",
    "#         405: <img_src=Percy-and-Cole-trade-to-each-get-what-they-want-1 img_alt=Percy and Cole trade to each get what they want>,\n",
    "\n",
    "# both l2: \n",
    "#         107: <img_src=solvent-volume-40-ml>,\n",
    "#         130: <img_src=Debbies-lunch-madelyns-lunch-madelyns-lunch-madelyns-lunch-madelyns-lunch-madelyns-lunch-madelyns-lunch-madelyns-lunch-madelyns-lunch-madelyns-lunch-madelyns-lunch-madelyns-lunch-madelyns-lunch-madelyns-lunch-madelyns-lunch-madelyns,\n",
    "#         143:<img_src=mojave-yucca-food-chain-1>,\n",
    "#         208: <img_src=1500x1500-1 img_alt=Experiments can be designed to answer specific questions. How can you identify the questions that a certain experiment can answer? In order to do this, you need to figure out what was tested and what was measured during the experiment. Imagine an experiment with two groups of daffodil plants. One group of plants was grown in sandy soil, and the other was grown in clay soil. Then, the height of each plant was measured. First, identify the part of the experiment that was tested. The part of an experiment that is tested usually involves the part of the experimental setup that is different or changed. In the experiment described above, each group of plants was grown in a different type of soil. So, the effect of growing plants in different soil types was tested. Then, identify the part of the experiment that was measured. The part of the experiment that is measured may include measurements and calculations. In the experiment described above, the heights of the plants in each group were measured. Experiments can answer questions about how the part of the experiment that is tested affects the part that is measured. So, the experiment described above can answer questions about how soil type affects the part that is measured. Examples of questions that this experiment can answer include: Does soil type affect the height of daffodil plants? Do daffodil plants in sandy soil grow taller than daffodil plants in clay soil? Are daffodil plants grown in sandy soil shorter than daffodil plants grown in clay soil?>,\n",
    "#         346:<img_src=Which-property-do-these-two-objects-have-in-common>,\n",
    "#         405: <img_src=Percy-and-Cole-trade-lunch-lunches-1 img_alt=Percy and Cole trade lunch lunch lunch lunch lunch lunch lunch lunch lunch lunch lunch...,\n",
    "\n",
    "# version 2\n",
    "\n",
    "# img: \n",
    "#     289: <img_src=What-is-the-capital-of-Pennsylvania-A-Harrisburg-B-Trenton-C-Pittsburgh-D-Philadelphia img_alt=What is the capital of Pennsylvania? (A) Harrisburg (B) Trenton (C) Pittsburgh (D) Philadelphia>, \n",
    "#     385: <img_src=What-is-the-name-of-the-colony-shown-A-Maryland-B-New-Jersey-C-Rhode-Island-D-Delaware img_alt=What is the name of the colony shown? (A) Maryland (B) New Jersey (C) Rhode Island (D) Delaware>, \n",
    "#     852: <img_src=what-is-the-name-of-the-colony-shown-a-connecticut-b-new-hampshire-c-massachusetts-d-wisconsin img_alt=What is the name of the colony shown? (A) Connecticut (B) New Hampshire (C) Massachusetts (D) Wisconsin>\n",
    "\n",
    "# tl: \n",
    "#     37: <img_src=Is-the-following-trait-inherited-or-acquired-Katy-plays-soccer.-(A)-inherited-(B)-acquired img_alt=Is the following trait inherited or acquired? Katy plays soccer. (A) inherited (B) acquired>, \n",
    "#     90: <img_src=Overall-supply-is-the-total-amount-of-a-good-or-service-that-producers-make-and-sell.-There-are-several-things-that-can-make-overall-supply-go-up-or-down.-The-table-below-shows-how-changes-to-these-things-might-affect-overall-supply.-|-Resources-|-Number-of-producers-or-suppliers-|-Expected-change-in-demand-Supply-goes-up-|-when-resources-cost-less-or-are-easier-to-get-|-when-there-are-more-producers-or-suppliers-|-when-demand-is-expected-to-go-up-Supply-goes-down-|-when-resources-cost-more-or-are-harder-to-get-|-when-there-are-fewer-producers-or-suppliers-|-when-demand-is-expected-to-go-down-Suppliers-are-people-or-companies-that-make-goods-or-provide-services.-Suppliers-are-people-or-companies-that-sell-goods-or-services.-New-inventions-or-technologies-can-also-help-workers-produce-goods-and-services-more-quickly.-As-a-result-of-these-changes,-the-supply-of-a-good-or-service-will-often-go-up. img_alt=Overall supply is the total amount of a good or service that producers make and sell. There are several things that can make overall supply go up or down. The table below shows how changes to these things might affect overall supply. | Resources | Number of producers or suppliers | Expected change in demand Supply goes up | when resources cost less or are easier to get | when there are more producers or suppliers | when demand is expected to go up Supply goes down | when resources cost more or are harder to get | when there are fewer producers or suppliers | when demand is expected to go down Producers, \n",
    "#     97: <img_src=How-long-is-a-walk-across-Central-Park-in-New-York-City-3-centimeters-B-3-millimeters-C-3-kilometers-D-3-meters img_alt=How long is a walk across Central Park in New York City? (A) 3 centimeters (B) 3 millimeters (C) 3 kilometers (D) 3 meters>, \n",
    "#     105: <img_src=reptiles>, \n",
    "#     146: <img_src=Which-text-uses-the-word-literally-in-its-traditional-sense-A-Cara-adores-the-classic-Renaissance-style-of-the-Rialto-Bridge-in-Venice.-She-was-surprised-to-learn-that-the-bridge-remains-functional-even-though-it-is-literally-a-million-years-old.-B-Cara-adores-the-classic-Renaissance-style-of-the-Rialto-Bridge-in-Venice.-She-was-surprised-to-learn-that-the-bridge-remains-functional-even-though-it-is-literally-hundreds-of-years-old. img_alt=Which text uses the word literally in its traditional sense? (A) Cara adores the classic Renaissance style of the Rialto Bridge in Venice. She was surprised to learn that the bridge remains functional even though it is literally a million years old. (B) Cara adores the classic Renaissance style of the Rialto Bridge in Venice. She was surprised to learn that the bridge remains functional even though it is literally hundreds of years old.>, \n",
    "#     419: <>,\n",
    "\n",
    "# both l1: \n",
    "#         107: <img_src=solvent-volume-40-ml img_alt=Which solution has a higher concentration of yellow particles? (A) neither; their concentrations are the same (B) Solution B (C) Solution A>,\n",
    "#         130: <<img_src=Debbies-lunch-1 img_alt=Debbie's lunch> <img_src=Debbies-lunch-2 img_alt=Debbie's lunch>>, \n",
    "#         143: <img_src=mojave-yucca-food-chain-1 img_alt=In this food chain, the Mojave yucca is a producer. Why? (A) It eats another living thing. (B) It makes its own food.>,\n",
    "#         208: <img_src=100_1000>,\n",
    "#         346: <<img_src=which-property-do-these-two-objects-have-in-common-a-breakable-hard img_alt=Which property do these two objects have in common? (A) breakable (B) hard> <img_src=which-property-do-these-two-objects-have-in-common-acorn img_alt=Which property do these two objects have in common? (A) breakable (B) hard> <img_src=which-property-do-these-two-objects-have-in-common-acorn-2 img_alt=Which property do these two objects have in common? (A) breakable (B) hard> <img_src=which-property-do-these-two-objects-have-in-common-acorn-3 img_alt=Which property do these two objects have in common? (A) breakable (B) hard> <img_src=which-property-do-these-two-objects-have-in-common-acorn-4 img_alt=Which property do these two objects have in common? (A) breakable (B) hard> <img_src=which-property-do-these-two-objects-have-in-common-acorn-5 img_alt=Which property do these two objects have in common? (A) breakable (B) hard> <img_src=which-property-do-these-two-objects-have-in-common-acorn-1 img_alt=Which property do these two objects have in common? (A) breakable (B) hard> <img_src=which-property-do-these-two-objects-have-in-common-acorn-1 img_alt=Which property do these two objects have in common? (A) breakable (B) hard> <img_src=which-property-do-these-two-objects-have-in-common-acorn-1 img_alt=Which property do these two objects have in common? (A) breakable (B) hard> <img_src=which-property-do-these-two-objects-have-in-common-acorn-2 img_alt=Which property do these two objects have in common? (A,\n",
    "#         405: <img_src=image001 img_alt=What can Percy and Cole trade to each get what they want? (A) Percy can trade his tomatoes for Cole's broccoli. (B) Cole can trade his broccoli for Percy's oranges. (C) Cole can trade his almonds for Percy's tomatoes. (D) Percy can trade his tomatoes for Cole's carrots. <0x0A><0x0A><0x0A>,\n",
    "\n",
    "# both l2: \n",
    "#         107: <img_src=image001 img_alt=Which solution has a higher concentration of yellow particles? (A) neither; their concentrations are the same (B) Solution B (C) Solution A>,\n",
    "#         130: <<img_src=Debbies_lunch_01 img_alt=Debbie's lunch> <img_src=Debbies_lunch_02 img_alt=Debbie's lunch> <img_src=Debbies_lunch_03 img_alt=Debbie's lunch> <img_src=Debbies_lunch_04 img_alt=Debbie's lunch> <img_src=Debbies_lunch_05 img_alt=Debbie's lunch> <img_src=Debbies_lunch_06 img_alt=Debbie's lunch> <img_src=Debbies_lunch_07 img_alt=Debbie's lunch> <img_src=Debbies_lunch_08 img_alt=Debbie's lunch> <img_src=Debbies_lunch_09 img_alt=Debbie's lunch> <img_src=Debbies_lunch_01 img_alt=Debbie's lunch> <img_src=Debbies_lunch_03 img_alt=Debbie's lunch> <img_src=Debbies_lunch_04 img_alt=Debbie's lunch> <img_src=Debbies_lunch_05 img_alt=Debbie's lunch> <img_src=Debbies_lunch_06 img_alt=Debbie's lunch> <img_src=Debbies_lunch_07 img_alt=Debbie's lunch> <img_src=Debbies_lunch_09 img_alt=Debbie's lunch> <img_src=Debbies_lunch_01 img_alt=Debbie's lunch> <img_src=Debbies_lunch_01 img_alt=Debbie's lunch> <img_src=Debbies_lunch_02 img_alt=Debbie's lunch,\n",
    "#         143: <img_src=mojave-yucca-food-chain-1 img_alt=In this food chain, the Mojave yucca is a producer. Why? (A) It eats another living thing. (B) It makes its own food. This diagram shows a food chain from a desert ecosystem in Southern California. Every living thing needs food to stay alive. Living things get their food in different ways. A food chain shows how living things in an ecosystem get their food. Producers make their own food. Many producers use carbon dioxide, water, and sunlight to make sugar. This sugar is food for the producer. Consumers eat other living things. Consumers cannot make their own food.>,\n",
    "#         208 <img_src=daffodil-plants-in-clay-soil-1024x683 img_alt=daffodil plants in clay soil>:\n",
    "#         346:<<img_src=properties-1 img_alt=Which property do these two objects have in common? (A) breakable (B) hard> <img_src=properties-2 img_alt=Select the better answer. An object has different properties. A property of an object can tell you how it looks, feels, tastes, or smells. Different objects can have the same properties. You can use these properties to put objects into groups.> <img_src=properties-3 img_alt=Which property do these two objects have in common? (A) breakable (B) hard> <img_src=properties-4 img_alt=Select the better answer. An object has different properties. A property of an object can tell you how it looks, feels, tastes, or smells. Different objects can have the same properties. You canuse these properties to put objects into groups.> <img_src=properties-5 img_alt=Select the better answer. An object has different properties. A property of an object can tell you how it looks, feels, tastes, or smells. Different objects can have the same properties. You can use these properties to put objects into groups.> <img_src=properties-6 img_alt=Select the better answer. An object has different properties.> <img_src=properties-7 img_alt=Select the better answer. An object has different properties.> <img_src=properties-8 img_alt=Select the better answer. An object has different properties.> <img_src=properties-9 img_alt=Select the better answer. An object has different properties.> <img_src=properties-10 img_alt=Select the better answer. An object has different properties.> <img_src=properties-11 img_alt=Select the better answer. An object has different properties.> <img_src=properties-12 img_alt=Select the better answer. An object has different properties.> <img_src=properties-13 img_alt=Select the better answer. An object has different properties.> <img_src=properties-14 img_alt=Select the better answer. An object has different properties.> <img_src=properties-15 img_alt=Select the better answer. An object has different properties.> <,,\n",
    "#         405: <>,\n",
    "\n",
    "\n",
    "# '''"
   ]
  },
  {
   "cell_type": "code",
   "execution_count": 548,
   "id": "a39aa9ee",
   "metadata": {},
   "outputs": [],
   "source": [
    "basic_img_path = \"data/test_images/v2/layout2/test_image4.jpg\""
   ]
  },
  {
   "cell_type": "code",
   "execution_count": 549,
   "id": "778a1696",
   "metadata": {},
   "outputs": [],
   "source": [
    "test_img_path = os.path.join(os.getcwd(), basic_img_path)\n",
    "\n",
    "max_patches = 2048\n",
    "max_new_tokens = 512\n",
    "patch_size = 16"
   ]
  },
  {
   "cell_type": "code",
   "execution_count": 550,
   "id": "cdd94de1",
   "metadata": {},
   "outputs": [],
   "source": [
    "test_img = Image.open(test_img_path)"
   ]
  },
  {
   "cell_type": "code",
   "execution_count": 551,
   "id": "94b5be33",
   "metadata": {},
   "outputs": [],
   "source": [
    "encoding = processor(\n",
    "                images=test_img, \n",
    "                return_tensors=\"pt\", \n",
    "                add_special_tokens=True, \n",
    "                max_patches=max_patches)"
   ]
  },
  {
   "cell_type": "code",
   "execution_count": 552,
   "id": "3136ad90",
   "metadata": {},
   "outputs": [],
   "source": [
    "flattened_patches = encoding[\"flattened_patches\"]\n",
    "attention_mask = encoding[\"attention_mask\"]"
   ]
  },
  {
   "cell_type": "code",
   "execution_count": 553,
   "id": "e3bca041",
   "metadata": {},
   "outputs": [],
   "source": [
    "# text_inputs = processor(\n",
    "#     text=texts, \n",
    "#     padding=True, \n",
    "#     truncation=True, \n",
    "#     return_tensors=\"pt\", \n",
    "#     add_special_tokens=True, \n",
    "#     max_length=max_new_tokens)"
   ]
  },
  {
   "cell_type": "code",
   "execution_count": 554,
   "id": "1223c778",
   "metadata": {},
   "outputs": [],
   "source": [
    "generated_ids = model.generate(\n",
    "                flattened_patches=flattened_patches, \n",
    "                attention_mask=attention_mask, \n",
    "                max_new_tokens=max_new_tokens\n",
    "                )  "
   ]
  },
  {
   "cell_type": "code",
   "execution_count": 555,
   "id": "10f2f5a0",
   "metadata": {},
   "outputs": [],
   "source": [
    "text_predictions = processor.batch_decode(\n",
    "                    generated_ids, \n",
    "                    skip_special_tokens=True\n",
    "                    )[0]"
   ]
  },
  {
   "cell_type": "code",
   "execution_count": 556,
   "id": "f69e16cf",
   "metadata": {
    "scrolled": true
   },
   "outputs": [
    {
     "name": "stdout",
     "output_type": "stream",
     "text": [
      "<img_src=daffodil-plants-in-clay-soil-1024x683 img_alt=daffodil plants in clay soil>\n"
     ]
    }
   ],
   "source": [
    "print(text_predictions)"
   ]
  },
  {
   "cell_type": "code",
   "execution_count": null,
   "id": "e17504e9",
   "metadata": {},
   "outputs": [],
   "source": []
  },
  {
   "cell_type": "code",
   "execution_count": 558,
   "id": "9a3b4b6e",
   "metadata": {},
   "outputs": [
    {
     "data": {
      "text/html": [
       "<pre style=\"white-space:pre;overflow-x:auto;line-height:normal;font-family:Menlo,'DejaVu Sans Mono',consolas,'Courier New',monospace\"><span style=\"color: #800000; text-decoration-color: #800000\">╭─────────────────────────────── </span><span style=\"color: #800000; text-decoration-color: #800000; font-weight: bold\">Traceback </span><span style=\"color: #bf7f7f; text-decoration-color: #bf7f7f; font-weight: bold\">(most recent call last)</span><span style=\"color: #800000; text-decoration-color: #800000\"> ────────────────────────────────╮</span>\n",
       "<span style=\"color: #800000; text-decoration-color: #800000\">│</span> in <span style=\"color: #00ff00; text-decoration-color: #00ff00\">&lt;module&gt;</span>:<span style=\"color: #0000ff; text-decoration-color: #0000ff\">1</span>                                                                                    <span style=\"color: #800000; text-decoration-color: #800000\">│</span>\n",
       "<span style=\"color: #800000; text-decoration-color: #800000\">│</span>                                                                                                  <span style=\"color: #800000; text-decoration-color: #800000\">│</span>\n",
       "<span style=\"color: #800000; text-decoration-color: #800000\">│</span> <span style=\"color: #800000; text-decoration-color: #800000\">❱ </span>1 <span style=\"color: #808000; text-decoration-color: #808000\">\"tyfg{img_tag}jhjb{context_tag}jnj\"</span>.format(img_source=<span style=\"color: #808000; text-decoration-color: #808000\">\"bjn jn\"</span>, context=<span style=\"color: #808000; text-decoration-color: #808000\">\"jbn\"</span>)               <span style=\"color: #800000; text-decoration-color: #800000\">│</span>\n",
       "<span style=\"color: #800000; text-decoration-color: #800000\">│</span>   <span style=\"color: #7f7f7f; text-decoration-color: #7f7f7f\">2 </span>                                                                                             <span style=\"color: #800000; text-decoration-color: #800000\">│</span>\n",
       "<span style=\"color: #800000; text-decoration-color: #800000\">╰──────────────────────────────────────────────────────────────────────────────────────────────────╯</span>\n",
       "<span style=\"color: #ff0000; text-decoration-color: #ff0000; font-weight: bold\">KeyError: </span><span style=\"color: #008000; text-decoration-color: #008000\">'img_tag'</span>\n",
       "</pre>\n"
      ],
      "text/plain": [
       "\u001b[31m╭─\u001b[0m\u001b[31m──────────────────────────────\u001b[0m\u001b[31m \u001b[0m\u001b[1;31mTraceback \u001b[0m\u001b[1;2;31m(most recent call last)\u001b[0m\u001b[31m \u001b[0m\u001b[31m───────────────────────────────\u001b[0m\u001b[31m─╮\u001b[0m\n",
       "\u001b[31m│\u001b[0m in \u001b[92m<module>\u001b[0m:\u001b[94m1\u001b[0m                                                                                    \u001b[31m│\u001b[0m\n",
       "\u001b[31m│\u001b[0m                                                                                                  \u001b[31m│\u001b[0m\n",
       "\u001b[31m│\u001b[0m \u001b[31m❱ \u001b[0m1 \u001b[33m\"\u001b[0m\u001b[33mtyfg\u001b[0m\u001b[33m{img_tag}\u001b[0m\u001b[33mjhjb\u001b[0m\u001b[33m{context_tag}\u001b[0m\u001b[33mjnj\u001b[0m\u001b[33m\"\u001b[0m.format(img_source=\u001b[33m\"\u001b[0m\u001b[33mbjn jn\u001b[0m\u001b[33m\"\u001b[0m, context=\u001b[33m\"\u001b[0m\u001b[33mjbn\u001b[0m\u001b[33m\"\u001b[0m)               \u001b[31m│\u001b[0m\n",
       "\u001b[31m│\u001b[0m   \u001b[2m2 \u001b[0m                                                                                             \u001b[31m│\u001b[0m\n",
       "\u001b[31m╰──────────────────────────────────────────────────────────────────────────────────────────────────╯\u001b[0m\n",
       "\u001b[1;91mKeyError: \u001b[0m\u001b[32m'img_tag'\u001b[0m\n"
      ]
     },
     "metadata": {},
     "output_type": "display_data"
    }
   ],
   "source": [
    "\"tyfg{img_tag}jhjb{context_tag}jnj\".format(img_source=\"bjn jn\", context=\"jbn\")"
   ]
  },
  {
   "cell_type": "code",
   "execution_count": null,
   "id": "4e0ac494",
   "metadata": {},
   "outputs": [],
   "source": []
  }
 ],
 "metadata": {
  "kernelspec": {
   "display_name": "Python 3 (ipykernel)",
   "language": "python",
   "name": "python3"
  },
  "language_info": {
   "codemirror_mode": {
    "name": "ipython",
    "version": 3
   },
   "file_extension": ".py",
   "mimetype": "text/x-python",
   "name": "python",
   "nbconvert_exporter": "python",
   "pygments_lexer": "ipython3",
   "version": "3.10.11"
  }
 },
 "nbformat": 4,
 "nbformat_minor": 5
}
