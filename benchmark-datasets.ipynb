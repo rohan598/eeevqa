{
 "cells": [
  {
   "cell_type": "code",
   "execution_count": 136,
   "id": "ec725d04",
   "metadata": {},
   "outputs": [],
   "source": [
    "import os\n",
    "import numpy as np\n",
    "import torch\n",
    "import os\n",
    "import re\n",
    "import json\n",
    "import argparse\n",
    "import pandas as pd\n",
    "import random\n",
    "from transformers import T5Tokenizer, DataCollatorForSeq2Seq, Seq2SeqTrainingArguments, Seq2SeqTrainer, T5ForConditionalGeneration\n",
    "from rich.table import Column, Table\n",
    "from rich import box\n",
    "from rich.console import Console\n",
    "console = Console(record=True)\n",
    "from torch import cuda\n",
    "import nltk\n",
    "import evaluate\n",
    "import pdfkit\n",
    "from pdf2image import convert_from_path\n",
    "import glob, sys, fitz\n",
    "from torch.utils.data import Dataset, DataLoader\n",
    "from collections import namedtuple\n",
    "\n",
    "from PIL import Image, ImageDraw, ImageOps, ImageFont\n",
    "import requests\n",
    "from transformers import AutoProcessor, Pix2StructForConditionalGeneration, Pix2StructConfig\n",
    "\n",
    "import textwrap\n",
    "import math\n",
    "import string\n",
    "import pickle\n",
    "import matplotlib.pyplot as plt\n",
    "from rouge import Rouge\n",
    "from typing import Any, Callable, Iterable, List, Optional"
   ]
  },
  {
   "cell_type": "markdown",
   "id": "97d71d17",
   "metadata": {},
   "source": [
    "# AI2D"
   ]
  },
  {
   "cell_type": "code",
   "execution_count": 37,
   "id": "a5fc792b",
   "metadata": {},
   "outputs": [],
   "source": [
    "def read_json_file(filepath):\n",
    "    with open(filepath) as json_file:\n",
    "        data = json.load(json_file)\n",
    "    return data\n"
   ]
  },
  {
   "cell_type": "code",
   "execution_count": 38,
   "id": "26ab3cff",
   "metadata": {},
   "outputs": [],
   "source": [
    "# problem_list = read_json_file(os.path.join(os.getcwd(), \"data\", \"scienceqa\", \"problems.json\"))"
   ]
  },
  {
   "cell_type": "code",
   "execution_count": 115,
   "id": "55e27f6f",
   "metadata": {},
   "outputs": [],
   "source": [
    "def load_pickle_dataset(save_dir, source=\"\"):\n",
    "    pickle_filename = os.path.join(save_dir, f\"{source}.pkl\")\n",
    "    with open(pickle_filename, 'rb') as f:\n",
    "        pickle_data = pickle.load(f)\n",
    "    return pickle_data"
   ]
  },
  {
   "cell_type": "code",
   "execution_count": 39,
   "id": "e3bdc2fe",
   "metadata": {},
   "outputs": [],
   "source": [
    "def render_text_on_bounding_box(\n",
    "    text: str,\n",
    "    bounding_box: Iterable[Iterable[int]],\n",
    "    image: Image.Image,\n",
    "    font_path: str):\n",
    "    \n",
    "    \"\"\"Render text on top of a specific bounding box.\"\"\"\n",
    "    draw = ImageDraw.Draw(image)\n",
    "    (x0, y0), (x1, y1) = bounding_box\n",
    "    \n",
    "    draw.rectangle(xy=[(x0, y0), (x1, y1)], fill=(255, 255, 255, 255))\n",
    "    \n",
    "    fontsize = 1\n",
    "    def _can_increment_font(ratio=0.95):\n",
    "        next_font = ImageFont.truetype(\n",
    "            font_path, encoding=\"UTF-8\", size=fontsize + 1)\n",
    "        width, height = next_font.getsize(text)\n",
    "        return width < ratio * (x1 - x0) and height < ratio * (y1 - y0)\n",
    "\n",
    "    while _can_increment_font():\n",
    "        fontsize += 1\n",
    "    font = ImageFont.truetype(font_path, encoding=\"UTF-8\", size=fontsize)\n",
    "\n",
    "    draw.text(\n",
    "        xy=((x0 + x1)/2, (y0 + y1)/2),\n",
    "        text=text,\n",
    "        font=font,\n",
    "        fill=\"black\",\n",
    "        anchor=\"mm\"\n",
    "    )\n",
    "    "
   ]
  },
  {
   "cell_type": "code",
   "execution_count": 141,
   "id": "89fffbf7",
   "metadata": {},
   "outputs": [],
   "source": [
    "def render_text(text: str,\n",
    "                text_size: int = 36,\n",
    "                text_color: str = \"black\",\n",
    "                background_color: str = \"white\",\n",
    "                left_padding: int = 5,\n",
    "                right_padding: int = 5,\n",
    "                top_padding: int = 5,\n",
    "                bottom_padding: int = 5,\n",
    "                font_path: str = \"\") -> Image.Image:\n",
    "\n",
    "    \"\"\"Render text.\"\"\"\n",
    "    # Add new lines so that each line is no more than 80 characters.\n",
    "    wrapper = textwrap.TextWrapper(width=80)\n",
    "    lines = wrapper.wrap(text=text)\n",
    "    wrapped_text = \"\\n\".join(lines)\n",
    "\n",
    "    font = ImageFont.truetype(font_path, encoding=\"UTF-8\", size=text_size)\n",
    "\n",
    "    # Use a temporary canvas to determine the width and height in pixels when\n",
    "    # rendering the text.\n",
    "    temp_draw = ImageDraw.Draw(Image.new(\"RGB\", (1, 1), background_color))\n",
    "    _, _, text_width, text_height = temp_draw.textbbox((0, 0), wrapped_text, font)\n",
    "\n",
    "    # Create the actual image with a bit of padding around the text.\n",
    "    image_width = text_width + left_padding + right_padding\n",
    "    image_height = text_height + top_padding + bottom_padding\n",
    "    image = Image.new(\"RGB\", (image_width, image_height), background_color)\n",
    "    draw = ImageDraw.Draw(image)\n",
    "    draw.text(\n",
    "      xy=(left_padding, top_padding),\n",
    "      text=wrapped_text,\n",
    "      fill=text_color,\n",
    "      font=font)\n",
    "    \n",
    "    return image"
   ]
  },
  {
   "cell_type": "code",
   "execution_count": 142,
   "id": "5ac59da7",
   "metadata": {},
   "outputs": [],
   "source": [
    "def render_header(image: Image.Image, header: str, font_path: str) -> Image.Image:\n",
    "    \"\"\"Renders a header on a PIL image and returns a new PIL image.\"\"\"\n",
    "    header_image = render_text(header, font_path=font_path)\n",
    "    new_width = max(header_image.width, image.width)\n",
    "\n",
    "    new_height = int(image.height *  (new_width / image.width))\n",
    "    new_header_height = int(\n",
    "        header_image.height * (new_width / header_image.width))\n",
    "\n",
    "    new_image = Image.new(\n",
    "        \"RGB\",\n",
    "        (new_width, new_height + new_header_height),\n",
    "        \"white\")\n",
    "    new_image.paste(header_image.resize((new_width, new_header_height)), (0, 0))\n",
    "    new_image.paste(image.resize((new_width, new_height)), (0, new_header_height))\n",
    "\n",
    "    return new_image"
   ]
  },
  {
   "cell_type": "code",
   "execution_count": 143,
   "id": "28a360dc",
   "metadata": {},
   "outputs": [],
   "source": [
    "def save_dataset(dataset, save_dir=\"\", filename=\"\"):\n",
    "    pickle_filename = os.path.join(save_dir, filename)\n",
    "    with open(pickle_filename, 'wb') as f:\n",
    "        pickle.dump(dataset, f, protocol=pickle.HIGHEST_PROTOCOL)"
   ]
  },
  {
   "cell_type": "code",
   "execution_count": 144,
   "id": "d5d03588",
   "metadata": {},
   "outputs": [],
   "source": [
    "def convert_one_question_AI2D(input_path: str, data_dir: str, font_path: str, skip_image_gen: bool):\n",
    "  \n",
    "    \"\"\"Convert example.\"\"\"\n",
    "    samples_dict = {}\n",
    "    \n",
    "    data = read_json_file(os.path.join(data_dir, input_path)) # till ai2d folder + question path\n",
    "    \n",
    "    qid = -1\n",
    "    if not data[\"questions\"]:\n",
    "        return samples_dict, idx, data[\"imageName\"]\n",
    "    \n",
    "    annotation = read_json_file(os.path.join(data_dir, \"annotations\", f\"{data['imageName']}.json\"))\n",
    "\n",
    "    if skip_image_gen:\n",
    "        image_filepath = os.path.join(data_dir, \"images\", data[\"imageName\"])\n",
    "        image = Image.open(image_filepath)\n",
    "        image_with_placeholders = image.copy()\n",
    "    \n",
    "        for v in annotation[\"text\"].values():\n",
    "            render_text_on_bounding_box(\n",
    "                text=v[\"replacementText\"],\n",
    "                bounding_box=v[\"rectangle\"],\n",
    "                image=image_with_placeholders,\n",
    "                font_path = font_path)\n",
    "\n",
    "    for k, v in data[\"questions\"].items():\n",
    "        \n",
    "        samples_dict[v[\"questionId\"]] = {}\n",
    "        # The `image_id` field is only used to ensure correct splitting of the data.\n",
    "        options = \" \".join(\n",
    "            f\"({string.ascii_lowercase[i]}) {a}\"\n",
    "            for i, a in enumerate(v[\"answerTexts\"])\n",
    "        )\n",
    "        \n",
    "        if skip_image_gen:\n",
    "            image_with_header = render_header(\n",
    "                image=image_with_placeholders if v[\"abcLabel\"] else image,\n",
    "                header=f\"{k} {options}\",\n",
    "                font_path = font_path\n",
    "            )\n",
    "\n",
    "            # save new image\n",
    "            save_dir = os.path.join(data_dir, \"new_data\",\"images\")\n",
    "            if not os.path.exists(save_dir):\n",
    "                os.makedirs(save_dir)\n",
    "\n",
    "            image_with_header.save(os.path.join(save_dir, f\"{v['questionId']}.png\"))\n",
    "\n",
    "        # get output for this sample\n",
    "        parse = v[\"answerTexts\"][v[\"correctAnswer\"]]\n",
    "        \n",
    "        \n",
    "        # update sample dict with info and meta\n",
    "        samples_dict[idx][\"src_image_name\"] = data[\"imageName\"]\n",
    "        samples_dict[idx][\"raw_output\"] = parse\n",
    "        samples_dict[idx][\"header_text\"] = f\"{k} {options}\"\n",
    "        samples_dict[idx][\"abcLabel\"] = v[\"abcLabel\"]\n",
    "    \n",
    "    \n",
    "    return samples_dict, qid"
   ]
  },
  {
   "cell_type": "code",
   "execution_count": 145,
   "id": "7062e3ee",
   "metadata": {},
   "outputs": [],
   "source": [
    "def convert_AI2D(data_dir: str, font_path: str, skip_image_gen:bool=False):\n",
    "    \n",
    "    # list question folder files\n",
    "    # create sample dict\n",
    "    samples_dict = {}\n",
    "    missing_question_list = []\n",
    "    \n",
    "    for file in os.listdir(os.path.join(data_dir,\"questions\")):\n",
    "        filepath = os.path.join(\"questions\", file)\n",
    "        one_question_sample_dict, qid = convert_one_question_AI2D(filepath, data_dir, font_path, skip_image_gen)\n",
    "        samples_dict.update(one_question_sample_dict)\n",
    "        \n",
    "        if qid!=-1:\n",
    "            missing_question_list.append(qid)\n",
    "        \n",
    "    # save sample dict\n",
    "    save_dataset(\n",
    "        samples_dict,\n",
    "        save_dir = os.path.join(data_dir,\"new_data\"),\n",
    "        filename = \"samples_dict.pkl\"\n",
    "    )\n",
    "    \n",
    "    save_dataset(\n",
    "        samples_dict,\n",
    "        save_dir = os.path.join(data_dir,\"new_data\"),\n",
    "        filename = \"missing_question_list.pkl\"\n",
    "    )\n",
    "    return samples_dict, missing_question_list\n"
   ]
  },
  {
   "cell_type": "code",
   "execution_count": 146,
   "id": "10014dd6",
   "metadata": {},
   "outputs": [],
   "source": [
    "data_dir = \"../ai2d\"\n",
    "font_path = \"../ai2d/arial.ttf\""
   ]
  },
  {
   "cell_type": "code",
   "execution_count": null,
   "id": "10ab5855",
   "metadata": {},
   "outputs": [],
   "source": [
    "sample_dict, missing_question_list = convert_AI2D(data_dir, font_path, skip_image_gen=True)"
   ]
  },
  {
   "cell_type": "code",
   "execution_count": 130,
   "id": "886ebecc",
   "metadata": {},
   "outputs": [],
   "source": [
    "test_split_src_image = list(pd.read_csv(\"../ai2d/ai2d_test_ids.csv\").to_numpy().reshape(-1))"
   ]
  },
  {
   "cell_type": "code",
   "execution_count": 138,
   "id": "cd610440",
   "metadata": {},
   "outputs": [
    {
     "data": {
      "text/html": [
       "<pre style=\"white-space:pre;overflow-x:auto;line-height:normal;font-family:Menlo,'DejaVu Sans Mono',consolas,'Courier New',monospace\"><span style=\"color: #800000; text-decoration-color: #800000\">╭─────────────────────────────── </span><span style=\"color: #800000; text-decoration-color: #800000; font-weight: bold\">Traceback </span><span style=\"color: #bf7f7f; text-decoration-color: #bf7f7f; font-weight: bold\">(most recent call last)</span><span style=\"color: #800000; text-decoration-color: #800000\"> ────────────────────────────────╮</span>\n",
       "<span style=\"color: #800000; text-decoration-color: #800000\">│</span> in <span style=\"color: #00ff00; text-decoration-color: #00ff00\">&lt;module&gt;</span>:<span style=\"color: #0000ff; text-decoration-color: #0000ff\">1</span>                                                                                    <span style=\"color: #800000; text-decoration-color: #800000\">│</span>\n",
       "<span style=\"color: #800000; text-decoration-color: #800000\">│</span>                                                                                                  <span style=\"color: #800000; text-decoration-color: #800000\">│</span>\n",
       "<span style=\"color: #800000; text-decoration-color: #800000\">│</span> <span style=\"color: #800000; text-decoration-color: #800000\">❱ </span>1 samples_dict = load_pickle_dataset(<span style=\"color: #808000; text-decoration-color: #808000\">\"../ai2d/new_data\"</span>,<span style=\"color: #808000; text-decoration-color: #808000\">\"samples_dict\"</span>)                        <span style=\"color: #800000; text-decoration-color: #800000\">│</span>\n",
       "<span style=\"color: #800000; text-decoration-color: #800000\">│</span>   <span style=\"color: #7f7f7f; text-decoration-color: #7f7f7f\">2 </span>                                                                                             <span style=\"color: #800000; text-decoration-color: #800000\">│</span>\n",
       "<span style=\"color: #800000; text-decoration-color: #800000\">│</span>                                                                                                  <span style=\"color: #800000; text-decoration-color: #800000\">│</span>\n",
       "<span style=\"color: #800000; text-decoration-color: #800000\">│</span> in <span style=\"color: #00ff00; text-decoration-color: #00ff00\">load_pickle_dataset</span>:<span style=\"color: #0000ff; text-decoration-color: #0000ff\">4</span>                                                                         <span style=\"color: #800000; text-decoration-color: #800000\">│</span>\n",
       "<span style=\"color: #800000; text-decoration-color: #800000\">│</span>                                                                                                  <span style=\"color: #800000; text-decoration-color: #800000\">│</span>\n",
       "<span style=\"color: #800000; text-decoration-color: #800000\">│</span>   <span style=\"color: #7f7f7f; text-decoration-color: #7f7f7f\">1 </span><span style=\"color: #0000ff; text-decoration-color: #0000ff\">def</span> <span style=\"color: #00ff00; text-decoration-color: #00ff00\">load_pickle_dataset</span>(save_dir, source=<span style=\"color: #808000; text-decoration-color: #808000\">\"\"</span>):                                                <span style=\"color: #800000; text-decoration-color: #800000\">│</span>\n",
       "<span style=\"color: #800000; text-decoration-color: #800000\">│</span>   <span style=\"color: #7f7f7f; text-decoration-color: #7f7f7f\">2 </span><span style=\"color: #7f7f7f; text-decoration-color: #7f7f7f\">│   </span>pickle_filename = os.path.join(save_dir, <span style=\"color: #808000; text-decoration-color: #808000\">f\"{</span>source<span style=\"color: #808000; text-decoration-color: #808000\">}.pkl\"</span>)                                <span style=\"color: #800000; text-decoration-color: #800000\">│</span>\n",
       "<span style=\"color: #800000; text-decoration-color: #800000\">│</span>   <span style=\"color: #7f7f7f; text-decoration-color: #7f7f7f\">3 </span><span style=\"color: #7f7f7f; text-decoration-color: #7f7f7f\">│   </span><span style=\"color: #0000ff; text-decoration-color: #0000ff\">with</span> <span style=\"color: #00ffff; text-decoration-color: #00ffff\">open</span>(pickle_filename, <span style=\"color: #808000; text-decoration-color: #808000\">'rb'</span>) <span style=\"color: #0000ff; text-decoration-color: #0000ff\">as</span> f:                                                   <span style=\"color: #800000; text-decoration-color: #800000\">│</span>\n",
       "<span style=\"color: #800000; text-decoration-color: #800000\">│</span> <span style=\"color: #800000; text-decoration-color: #800000\">❱ </span>4 <span style=\"color: #7f7f7f; text-decoration-color: #7f7f7f\">│   │   </span>pickle_data = pickle.load(f)                                                         <span style=\"color: #800000; text-decoration-color: #800000\">│</span>\n",
       "<span style=\"color: #800000; text-decoration-color: #800000\">│</span>   <span style=\"color: #7f7f7f; text-decoration-color: #7f7f7f\">5 </span><span style=\"color: #7f7f7f; text-decoration-color: #7f7f7f\">│   </span><span style=\"color: #0000ff; text-decoration-color: #0000ff\">return</span> pickle_data                                                                       <span style=\"color: #800000; text-decoration-color: #800000\">│</span>\n",
       "<span style=\"color: #800000; text-decoration-color: #800000\">│</span>   <span style=\"color: #7f7f7f; text-decoration-color: #7f7f7f\">6 </span>                                                                                             <span style=\"color: #800000; text-decoration-color: #800000\">│</span>\n",
       "<span style=\"color: #800000; text-decoration-color: #800000\">╰──────────────────────────────────────────────────────────────────────────────────────────────────╯</span>\n",
       "<span style=\"color: #ff0000; text-decoration-color: #ff0000; font-weight: bold\">EOFError: </span>Ran out of input\n",
       "</pre>\n"
      ],
      "text/plain": [
       "\u001b[31m╭─\u001b[0m\u001b[31m──────────────────────────────\u001b[0m\u001b[31m \u001b[0m\u001b[1;31mTraceback \u001b[0m\u001b[1;2;31m(most recent call last)\u001b[0m\u001b[31m \u001b[0m\u001b[31m───────────────────────────────\u001b[0m\u001b[31m─╮\u001b[0m\n",
       "\u001b[31m│\u001b[0m in \u001b[92m<module>\u001b[0m:\u001b[94m1\u001b[0m                                                                                    \u001b[31m│\u001b[0m\n",
       "\u001b[31m│\u001b[0m                                                                                                  \u001b[31m│\u001b[0m\n",
       "\u001b[31m│\u001b[0m \u001b[31m❱ \u001b[0m1 samples_dict = load_pickle_dataset(\u001b[33m\"\u001b[0m\u001b[33m../ai2d/new_data\u001b[0m\u001b[33m\"\u001b[0m,\u001b[33m\"\u001b[0m\u001b[33msamples_dict\u001b[0m\u001b[33m\"\u001b[0m)                        \u001b[31m│\u001b[0m\n",
       "\u001b[31m│\u001b[0m   \u001b[2m2 \u001b[0m                                                                                             \u001b[31m│\u001b[0m\n",
       "\u001b[31m│\u001b[0m                                                                                                  \u001b[31m│\u001b[0m\n",
       "\u001b[31m│\u001b[0m in \u001b[92mload_pickle_dataset\u001b[0m:\u001b[94m4\u001b[0m                                                                         \u001b[31m│\u001b[0m\n",
       "\u001b[31m│\u001b[0m                                                                                                  \u001b[31m│\u001b[0m\n",
       "\u001b[31m│\u001b[0m   \u001b[2m1 \u001b[0m\u001b[94mdef\u001b[0m \u001b[92mload_pickle_dataset\u001b[0m(save_dir, source=\u001b[33m\"\u001b[0m\u001b[33m\"\u001b[0m):                                                \u001b[31m│\u001b[0m\n",
       "\u001b[31m│\u001b[0m   \u001b[2m2 \u001b[0m\u001b[2m│   \u001b[0mpickle_filename = os.path.join(save_dir, \u001b[33mf\u001b[0m\u001b[33m\"\u001b[0m\u001b[33m{\u001b[0msource\u001b[33m}\u001b[0m\u001b[33m.pkl\u001b[0m\u001b[33m\"\u001b[0m)                                \u001b[31m│\u001b[0m\n",
       "\u001b[31m│\u001b[0m   \u001b[2m3 \u001b[0m\u001b[2m│   \u001b[0m\u001b[94mwith\u001b[0m \u001b[96mopen\u001b[0m(pickle_filename, \u001b[33m'\u001b[0m\u001b[33mrb\u001b[0m\u001b[33m'\u001b[0m) \u001b[94mas\u001b[0m f:                                                   \u001b[31m│\u001b[0m\n",
       "\u001b[31m│\u001b[0m \u001b[31m❱ \u001b[0m4 \u001b[2m│   │   \u001b[0mpickle_data = pickle.load(f)                                                         \u001b[31m│\u001b[0m\n",
       "\u001b[31m│\u001b[0m   \u001b[2m5 \u001b[0m\u001b[2m│   \u001b[0m\u001b[94mreturn\u001b[0m pickle_data                                                                       \u001b[31m│\u001b[0m\n",
       "\u001b[31m│\u001b[0m   \u001b[2m6 \u001b[0m                                                                                             \u001b[31m│\u001b[0m\n",
       "\u001b[31m╰──────────────────────────────────────────────────────────────────────────────────────────────────╯\u001b[0m\n",
       "\u001b[1;91mEOFError: \u001b[0mRan out of input\n"
      ]
     },
     "metadata": {},
     "output_type": "display_data"
    }
   ],
   "source": [
    "samples_dict = load_pickle_dataset(\"../ai2d/new_data\",\"samples_dict\")"
   ]
  },
  {
   "cell_type": "code",
   "execution_count": 133,
   "id": "749d4b26",
   "metadata": {},
   "outputs": [],
   "source": [
    "train_split_src_image = []\n",
    "for i in range(1, 4908):\n",
    "    if i not in test_split_src_image:\n",
    "        train_split_src_image.append(i)"
   ]
  },
  {
   "cell_type": "code",
   "execution_count": 134,
   "id": "bbc7e919",
   "metadata": {},
   "outputs": [
    {
     "name": "stdout",
     "output_type": "stream",
     "text": [
      "3927\n",
      "981\n"
     ]
    }
   ],
   "source": [
    "print(len(train_split_src_image))\n",
    "print(len(test_split_src_image))"
   ]
  },
  {
   "cell_type": "code",
   "execution_count": null,
   "id": "7c6a48ea",
   "metadata": {},
   "outputs": [],
   "source": [
    "test_split_new_images = []\n",
    "train_split_new_images = []\n",
    "image_dir = \"../ai2d/new_data_images\"\n",
    "for file in os.listdir(image_dir):\n",
    "    if int(file.split('.')[0]) in test_split_src_image:\n",
    "        test_split_new_images.append(os.path.join(image_dir, file))\n",
    "    \n",
    "    else:\n",
    "        train_split_new_images.append(os.path.join(image_dir, file))"
   ]
  },
  {
   "cell_type": "code",
   "execution_count": null,
   "id": "416823ce",
   "metadata": {},
   "outputs": [],
   "source": []
  },
  {
   "cell_type": "code",
   "execution_count": null,
   "id": "b425d9d7",
   "metadata": {},
   "outputs": [],
   "source": []
  },
  {
   "cell_type": "code",
   "execution_count": 86,
   "id": "39abdc10",
   "metadata": {},
   "outputs": [],
   "source": [
    "processor = AutoProcessor.from_pretrained(\"google/pix2struct-ai2d-base\")\n",
    "model = Pix2StructForConditionalGeneration.from_pretrained(\"google/pix2struct-ai2d-base\")"
   ]
  },
  {
   "cell_type": "code",
   "execution_count": 105,
   "id": "b34d4ca9",
   "metadata": {},
   "outputs": [],
   "source": [
    "test_image = Image.open(\"../ai2d/new_data/images/7.png-0.png\")\n",
    "# test_image = Image.open(\"../ai2d/0.png-0.png\")\n",
    "question_text = \"\""
   ]
  },
  {
   "cell_type": "code",
   "execution_count": 106,
   "id": "2e0a15e6",
   "metadata": {},
   "outputs": [],
   "source": [
    "inputs = processor(images=test_image, text=question_text, return_tensors=\"pt\")"
   ]
  },
  {
   "cell_type": "code",
   "execution_count": 107,
   "id": "b9fc0070",
   "metadata": {},
   "outputs": [],
   "source": [
    "generated_ids = model.generate(**inputs, max_new_tokens=50)"
   ]
  },
  {
   "cell_type": "code",
   "execution_count": 108,
   "id": "f622e5a7",
   "metadata": {},
   "outputs": [
    {
     "name": "stdout",
     "output_type": "stream",
     "text": [
      "tensor([[    0,   666,  1585, 48156,  1885,     1]])\n"
     ]
    }
   ],
   "source": [
    "print(generated_ids)"
   ]
  },
  {
   "cell_type": "code",
   "execution_count": 113,
   "id": "3750bdb6",
   "metadata": {},
   "outputs": [],
   "source": [
    "generated_text = processor.batch_decode(generated_ids, skip_special_tokens=True)[0]"
   ]
  },
  {
   "cell_type": "code",
   "execution_count": 114,
   "id": "403d00c3",
   "metadata": {},
   "outputs": [
    {
     "name": "stdout",
     "output_type": "stream",
     "text": [
      "Utricularia\n"
     ]
    }
   ],
   "source": [
    "print(generated_text)"
   ]
  },
  {
   "cell_type": "code",
   "execution_count": null,
   "id": "d3f7ca7a",
   "metadata": {},
   "outputs": [],
   "source": [
    "def evaluate_model_AI2D(image_list, data_dict, model, processor):\n",
    "    question_text = \"\"\n",
    "    for image_file in image_list:\n",
    "        test_image = Image.open(image_file)\n",
    "        inputs = processor(images=test_image, text=question_text, return_tensors=\"pt\")\n",
    "        generated_ids = model.generate(**inputs, max_new_tokens=50)\n",
    "        generated_text = processor.batch_decode(generated_ids, skip_special_tokens=True)[0]\n",
    "        "
   ]
  },
  {
   "cell_type": "code",
   "execution_count": null,
   "id": "e36bbdba",
   "metadata": {},
   "outputs": [],
   "source": []
  },
  {
   "cell_type": "code",
   "execution_count": null,
   "id": "f14773d8",
   "metadata": {},
   "outputs": [],
   "source": []
  },
  {
   "cell_type": "code",
   "execution_count": null,
   "id": "19b07089",
   "metadata": {},
   "outputs": [],
   "source": []
  },
  {
   "cell_type": "code",
   "execution_count": null,
   "id": "83887fcf",
   "metadata": {},
   "outputs": [],
   "source": []
  },
  {
   "cell_type": "code",
   "execution_count": null,
   "id": "1fa5e79a",
   "metadata": {},
   "outputs": [],
   "source": [
    "def process_AI2D():\n",
    "    pass"
   ]
  },
  {
   "cell_type": "code",
   "execution_count": null,
   "id": "4af5a5aa",
   "metadata": {},
   "outputs": [],
   "source": [
    "def get_train_test_split():\n",
    "    pass"
   ]
  },
  {
   "cell_type": "code",
   "execution_count": null,
   "id": "437b8845",
   "metadata": {},
   "outputs": [],
   "source": [
    "def evaluate_AI2D():\n",
    "    pass"
   ]
  },
  {
   "cell_type": "code",
   "execution_count": null,
   "id": "e12f6626",
   "metadata": {},
   "outputs": [],
   "source": []
  }
 ],
 "metadata": {
  "kernelspec": {
   "display_name": "Python 3 (ipykernel)",
   "language": "python",
   "name": "python3"
  },
  "language_info": {
   "codemirror_mode": {
    "name": "ipython",
    "version": 3
   },
   "file_extension": ".py",
   "mimetype": "text/x-python",
   "name": "python",
   "nbconvert_exporter": "python",
   "pygments_lexer": "ipython3",
   "version": "3.10.11"
  }
 },
 "nbformat": 4,
 "nbformat_minor": 5
}
